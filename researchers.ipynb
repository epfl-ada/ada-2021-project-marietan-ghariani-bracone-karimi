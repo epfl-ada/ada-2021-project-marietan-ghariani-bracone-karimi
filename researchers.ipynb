{
 "cells": [
  {
   "cell_type": "code",
   "execution_count": 1,
   "metadata": {},
   "outputs": [],
   "source": [
    "\n",
    "import numpy as np\n",
    "import pandas as pd\n",
    "import matplotlib.pyplot as plt\n",
    "import math\n",
    "import seaborn as sns\n",
    "import time\n",
    "from pathlib import Path\n",
    "from glob import glob\n",
    "from datetime import datetime\n",
    "import spacy\n",
    "\n",
    "nlp = spacy.load(\"en_core_web_sm\")"
   ]
  },
  {
   "cell_type": "code",
   "execution_count": 2,
   "metadata": {},
   "outputs": [
    {
     "name": "stdout",
     "output_type": "stream",
     "text": [
      "Number of quotes: 1480711\n"
     ]
    }
   ],
   "source": [
    "\n",
    "if Path(\"./data/df_quotes.pickle\").is_file():\n",
    "    df_quotes = pd.read_pickle(\"./data/df_quotes.pickle\")\n",
    "else:\n",
    "    df_quotes = pd.read_json(\n",
    "        \"data/natural_disaster_quotes.json.bz2\", lines=True, compression=\"bz2\"\n",
    "    )\n",
    "    df_quotes.to_pickle(\"./data/df_quotes.pickle\")\n",
    "\n",
    "print(f\"Number of quotes: %d\" % len(df_quotes.index))\n"
   ]
  },
  {
   "cell_type": "code",
   "execution_count": 3,
   "metadata": {},
   "outputs": [],
   "source": [
    "\n",
    "# Turn the parquets into exploded pickles\n",
    "files = sorted(glob(\"data/speaker_attributes.parquet/part*\"))\n",
    "for (i, f) in enumerate(files):\n",
    "    if Path(\"data/speaker_chunks/chunk_\" + str(i) + \".pickle\").is_file():\n",
    "        continue\n",
    "    else:\n",
    "        chunk = pd.read_parquet(f, engine=\"pyarrow\").explode(\"aliases\")\n",
    "        chunk = chunk[chunk.aliases.isin(df_quotes.speaker)]\n",
    "        chunk.to_pickle(\"data/speaker_chunks/chunk_\" + str(i) + \".pickle\")"
   ]
  },
  {
   "cell_type": "code",
   "execution_count": 4,
   "metadata": {},
   "outputs": [
    {
     "data": {
      "text/html": [
       "<div>\n",
       "<style scoped>\n",
       "    .dataframe tbody tr th:only-of-type {\n",
       "        vertical-align: middle;\n",
       "    }\n",
       "\n",
       "    .dataframe tbody tr th {\n",
       "        vertical-align: top;\n",
       "    }\n",
       "\n",
       "    .dataframe thead th {\n",
       "        text-align: right;\n",
       "    }\n",
       "</style>\n",
       "<table border=\"1\" class=\"dataframe\">\n",
       "  <thead>\n",
       "    <tr style=\"text-align: right;\">\n",
       "      <th></th>\n",
       "      <th>aliases</th>\n",
       "      <th>date_of_birth</th>\n",
       "      <th>nationality</th>\n",
       "      <th>gender</th>\n",
       "      <th>lastrevid</th>\n",
       "      <th>ethnic_group</th>\n",
       "      <th>US_congress_bio_ID</th>\n",
       "      <th>occupation</th>\n",
       "      <th>party</th>\n",
       "      <th>academic_degree</th>\n",
       "      <th>id</th>\n",
       "      <th>label</th>\n",
       "      <th>candidacy</th>\n",
       "      <th>type</th>\n",
       "      <th>religion</th>\n",
       "    </tr>\n",
       "  </thead>\n",
       "  <tbody>\n",
       "    <tr>\n",
       "      <th>3</th>\n",
       "      <td>President George W. Bush</td>\n",
       "      <td>[+1946-07-06T00:00:00Z]</td>\n",
       "      <td>[Q30]</td>\n",
       "      <td>[Q6581097]</td>\n",
       "      <td>1395142029</td>\n",
       "      <td>None</td>\n",
       "      <td>None</td>\n",
       "      <td>[Q82955, Q15982858, Q18814623, Q1028181, Q1408...</td>\n",
       "      <td>[Q29468]</td>\n",
       "      <td>None</td>\n",
       "      <td>Q207</td>\n",
       "      <td>George W. Bush</td>\n",
       "      <td>[Q327959, Q464075, Q3586276, Q4450587]</td>\n",
       "      <td>item</td>\n",
       "      <td>[Q329646, Q682443, Q33203]</td>\n",
       "    </tr>\n",
       "    <tr>\n",
       "      <th>3</th>\n",
       "      <td>George Bush</td>\n",
       "      <td>[+1946-07-06T00:00:00Z]</td>\n",
       "      <td>[Q30]</td>\n",
       "      <td>[Q6581097]</td>\n",
       "      <td>1395142029</td>\n",
       "      <td>None</td>\n",
       "      <td>None</td>\n",
       "      <td>[Q82955, Q15982858, Q18814623, Q1028181, Q1408...</td>\n",
       "      <td>[Q29468]</td>\n",
       "      <td>None</td>\n",
       "      <td>Q207</td>\n",
       "      <td>George W. Bush</td>\n",
       "      <td>[Q327959, Q464075, Q3586276, Q4450587]</td>\n",
       "      <td>item</td>\n",
       "      <td>[Q329646, Q682443, Q33203]</td>\n",
       "    </tr>\n",
       "  </tbody>\n",
       "</table>\n",
       "</div>"
      ],
      "text/plain": [
       "                    aliases            date_of_birth nationality      gender  \\\n",
       "3  President George W. Bush  [+1946-07-06T00:00:00Z]       [Q30]  [Q6581097]   \n",
       "3               George Bush  [+1946-07-06T00:00:00Z]       [Q30]  [Q6581097]   \n",
       "\n",
       "    lastrevid ethnic_group US_congress_bio_ID  \\\n",
       "3  1395142029         None               None   \n",
       "3  1395142029         None               None   \n",
       "\n",
       "                                          occupation     party  \\\n",
       "3  [Q82955, Q15982858, Q18814623, Q1028181, Q1408...  [Q29468]   \n",
       "3  [Q82955, Q15982858, Q18814623, Q1028181, Q1408...  [Q29468]   \n",
       "\n",
       "  academic_degree    id           label  \\\n",
       "3            None  Q207  George W. Bush   \n",
       "3            None  Q207  George W. Bush   \n",
       "\n",
       "                                candidacy  type                    religion  \n",
       "3  [Q327959, Q464075, Q3586276, Q4450587]  item  [Q329646, Q682443, Q33203]  \n",
       "3  [Q327959, Q464075, Q3586276, Q4450587]  item  [Q329646, Q682443, Q33203]  "
      ]
     },
     "execution_count": 4,
     "metadata": {},
     "output_type": "execute_result"
    }
   ],
   "source": [
    "\n",
    "# Regroup the chunks into one\n",
    "files = sorted(glob(\"data/speaker_chunks/chunk*\"))\n",
    "chunks = pd.DataFrame()\n",
    "\n",
    "for f in files:\n",
    "    chunk = pd.read_pickle(f)\n",
    "    chunks = chunks.append(chunk)\n",
    "\n",
    "chunks.head(2)"
   ]
  },
  {
   "cell_type": "code",
   "execution_count": 5,
   "metadata": {},
   "outputs": [
    {
     "data": {
      "text/html": [
       "<div>\n",
       "<style scoped>\n",
       "    .dataframe tbody tr th:only-of-type {\n",
       "        vertical-align: middle;\n",
       "    }\n",
       "\n",
       "    .dataframe tbody tr th {\n",
       "        vertical-align: top;\n",
       "    }\n",
       "\n",
       "    .dataframe thead th {\n",
       "        text-align: right;\n",
       "    }\n",
       "</style>\n",
       "<table border=\"1\" class=\"dataframe\">\n",
       "  <thead>\n",
       "    <tr style=\"text-align: right;\">\n",
       "      <th></th>\n",
       "      <th>Label</th>\n",
       "      <th>Description</th>\n",
       "    </tr>\n",
       "    <tr>\n",
       "      <th>QID</th>\n",
       "      <th></th>\n",
       "      <th></th>\n",
       "    </tr>\n",
       "  </thead>\n",
       "  <tbody>\n",
       "    <tr>\n",
       "      <th>Q31</th>\n",
       "      <td>Belgium</td>\n",
       "      <td>country in western Europe</td>\n",
       "    </tr>\n",
       "    <tr>\n",
       "      <th>Q45</th>\n",
       "      <td>Portugal</td>\n",
       "      <td>country in southwestern Europe</td>\n",
       "    </tr>\n",
       "    <tr>\n",
       "      <th>Q75</th>\n",
       "      <td>Internet</td>\n",
       "      <td>global system of connected computer networks</td>\n",
       "    </tr>\n",
       "    <tr>\n",
       "      <th>Q148</th>\n",
       "      <td>People's Republic of China</td>\n",
       "      <td>sovereign state in East Asia</td>\n",
       "    </tr>\n",
       "    <tr>\n",
       "      <th>Q155</th>\n",
       "      <td>Brazil</td>\n",
       "      <td>country in South America</td>\n",
       "    </tr>\n",
       "  </tbody>\n",
       "</table>\n",
       "</div>"
      ],
      "text/plain": [
       "                           Label                                   Description\n",
       "QID                                                                           \n",
       "Q31                      Belgium                     country in western Europe\n",
       "Q45                     Portugal                country in southwestern Europe\n",
       "Q75                     Internet  global system of connected computer networks\n",
       "Q148  People's Republic of China                  sovereign state in East Asia\n",
       "Q155                      Brazil                      country in South America"
      ]
     },
     "execution_count": 5,
     "metadata": {},
     "output_type": "execute_result"
    }
   ],
   "source": [
    "\n",
    "# Load the Wikidata nodes\n",
    "df_labels = pd.read_csv(\n",
    "    \"data/wikidata_labels_descriptions_quotebank.csv.bz2\",\n",
    "    compression=\"bz2\",\n",
    "    index_col=\"QID\",\n",
    ")\n",
    "df_labels.head()"
   ]
  },
  {
   "cell_type": "code",
   "execution_count": 6,
   "metadata": {},
   "outputs": [
    {
     "name": "stdout",
     "output_type": "stream",
     "text": [
      "nationality\n",
      "occupation\n",
      "party\n",
      "academic_degree\n",
      "candidacy\n",
      "religion\n"
     ]
    }
   ],
   "source": [
    "\n",
    "# Turn the wikinodes into human readable labels\n",
    "cols = [\n",
    "    \"nationality\",\n",
    "    \"occupation\",\n",
    "    \"party\",\n",
    "    \"academic_degree\",\n",
    "    \"candidacy\",\n",
    "    \"religion\",\n",
    "]\n",
    "for col in cols:\n",
    "    print(col)\n",
    "    chunks[col] = chunks[col].apply(\n",
    "        lambda l: [df_labels.loc[q][\"Label\"] for q in l] if l is not None else l\n",
    "    )\n",
    "\n",
    "chunks.head(2)\n",
    "speakers = chunks"
   ]
  },
  {
   "cell_type": "code",
   "execution_count": 7,
   "metadata": {},
   "outputs": [
    {
     "data": {
      "text/html": [
       "<div>\n",
       "<style scoped>\n",
       "    .dataframe tbody tr th:only-of-type {\n",
       "        vertical-align: middle;\n",
       "    }\n",
       "\n",
       "    .dataframe tbody tr th {\n",
       "        vertical-align: top;\n",
       "    }\n",
       "\n",
       "    .dataframe thead th {\n",
       "        text-align: right;\n",
       "    }\n",
       "</style>\n",
       "<table border=\"1\" class=\"dataframe\">\n",
       "  <thead>\n",
       "    <tr style=\"text-align: right;\">\n",
       "      <th></th>\n",
       "      <th>quoteID</th>\n",
       "      <th>quotation</th>\n",
       "      <th>speaker</th>\n",
       "      <th>qids</th>\n",
       "      <th>date</th>\n",
       "      <th>numOccurrences</th>\n",
       "      <th>probas</th>\n",
       "      <th>urls</th>\n",
       "      <th>phase</th>\n",
       "    </tr>\n",
       "  </thead>\n",
       "  <tbody>\n",
       "    <tr>\n",
       "      <th>0</th>\n",
       "      <td>2020-01-13-009373</td>\n",
       "      <td>But he said `you're responsible. You make peop...</td>\n",
       "      <td>Tom Elliott</td>\n",
       "      <td>[Q16196918, Q21461424, Q7815715, Q8952291]</td>\n",
       "      <td>2020-01-13 05:00:53</td>\n",
       "      <td>1</td>\n",
       "      <td>[[Tom Elliott, 0.5795], [None, 0.4205]]</td>\n",
       "      <td>[https://www.3aw.com.au/tom-elliott-calls-for-...</td>\n",
       "      <td>E</td>\n",
       "    </tr>\n",
       "    <tr>\n",
       "      <th>1</th>\n",
       "      <td>2020-03-11-014404</td>\n",
       "      <td>Everything that went wrong was always my fault...</td>\n",
       "      <td>Kate James</td>\n",
       "      <td>[Q56379605]</td>\n",
       "      <td>2020-03-11 13:04:58</td>\n",
       "      <td>2</td>\n",
       "      <td>[[Kate James, 0.8144], [None, 0.1397], [Amber ...</td>\n",
       "      <td>[https://calgarysun.com/entertainment/celebrit...</td>\n",
       "      <td>E</td>\n",
       "    </tr>\n",
       "    <tr>\n",
       "      <th>2</th>\n",
       "      <td>2020-04-10-011917</td>\n",
       "      <td>Great guy, messiest desk I ever saw, like a to...</td>\n",
       "      <td>None</td>\n",
       "      <td>[]</td>\n",
       "      <td>2020-04-10 04:00:00</td>\n",
       "      <td>3</td>\n",
       "      <td>[[None, 0.7283], [Brad Harris, 0.2717]]</td>\n",
       "      <td>[http://newstimes.com/news/coronavirus/article...</td>\n",
       "      <td>E</td>\n",
       "    </tr>\n",
       "    <tr>\n",
       "      <th>3</th>\n",
       "      <td>2020-01-18-012600</td>\n",
       "      <td>How will they attend to the problems of the pe...</td>\n",
       "      <td>Krishna Byre Gowda</td>\n",
       "      <td>[Q6437387]</td>\n",
       "      <td>2020-01-18 18:13:36</td>\n",
       "      <td>1</td>\n",
       "      <td>[[Krishna Byre Gowda, 0.89], [None, 0.11]]</td>\n",
       "      <td>[https://www.thehindu.com/news/national/karnat...</td>\n",
       "      <td>E</td>\n",
       "    </tr>\n",
       "    <tr>\n",
       "      <th>4</th>\n",
       "      <td>2020-02-21-031866</td>\n",
       "      <td>I'm sure you hear it every day but you are smo...</td>\n",
       "      <td>None</td>\n",
       "      <td>[]</td>\n",
       "      <td>2020-02-21 21:12:31</td>\n",
       "      <td>1</td>\n",
       "      <td>[[None, 0.9031], [Donatella Versace, 0.0969]]</td>\n",
       "      <td>[http://feeds.inquisitr.com/~r/google/yDYq/~3/...</td>\n",
       "      <td>E</td>\n",
       "    </tr>\n",
       "  </tbody>\n",
       "</table>\n",
       "</div>"
      ],
      "text/plain": [
       "             quoteID                                          quotation  \\\n",
       "0  2020-01-13-009373  But he said `you're responsible. You make peop...   \n",
       "1  2020-03-11-014404  Everything that went wrong was always my fault...   \n",
       "2  2020-04-10-011917  Great guy, messiest desk I ever saw, like a to...   \n",
       "3  2020-01-18-012600  How will they attend to the problems of the pe...   \n",
       "4  2020-02-21-031866  I'm sure you hear it every day but you are smo...   \n",
       "\n",
       "              speaker                                        qids  \\\n",
       "0         Tom Elliott  [Q16196918, Q21461424, Q7815715, Q8952291]   \n",
       "1          Kate James                                 [Q56379605]   \n",
       "2                None                                          []   \n",
       "3  Krishna Byre Gowda                                  [Q6437387]   \n",
       "4                None                                          []   \n",
       "\n",
       "                 date  numOccurrences  \\\n",
       "0 2020-01-13 05:00:53               1   \n",
       "1 2020-03-11 13:04:58               2   \n",
       "2 2020-04-10 04:00:00               3   \n",
       "3 2020-01-18 18:13:36               1   \n",
       "4 2020-02-21 21:12:31               1   \n",
       "\n",
       "                                              probas  \\\n",
       "0            [[Tom Elliott, 0.5795], [None, 0.4205]]   \n",
       "1  [[Kate James, 0.8144], [None, 0.1397], [Amber ...   \n",
       "2            [[None, 0.7283], [Brad Harris, 0.2717]]   \n",
       "3         [[Krishna Byre Gowda, 0.89], [None, 0.11]]   \n",
       "4      [[None, 0.9031], [Donatella Versace, 0.0969]]   \n",
       "\n",
       "                                                urls phase  \n",
       "0  [https://www.3aw.com.au/tom-elliott-calls-for-...     E  \n",
       "1  [https://calgarysun.com/entertainment/celebrit...     E  \n",
       "2  [http://newstimes.com/news/coronavirus/article...     E  \n",
       "3  [https://www.thehindu.com/news/national/karnat...     E  \n",
       "4  [http://feeds.inquisitr.com/~r/google/yDYq/~3/...     E  "
      ]
     },
     "execution_count": 7,
     "metadata": {},
     "output_type": "execute_result"
    }
   ],
   "source": [
    "df_quotes.head()"
   ]
  },
  {
   "cell_type": "code",
   "execution_count": 8,
   "metadata": {},
   "outputs": [],
   "source": [
    "# Get the quotes from the people whose occupation is researcher\n",
    "researchers = speakers[\n",
    "    speakers.occupation.apply(lambda l: \"researcher\" in l if l is not None else False)\n",
    "].aliases\n",
    "res_quotes = df_quotes[df_quotes.speaker.isin(researchers)]\n",
    "res_text = res_quotes.quotation.str.cat(sep=\"\\n\")\n",
    "\n",
    "with open(\"data/researcher_book.txt\", \"w\") as f:\n",
    "    f.write(res_text)\n"
   ]
  },
  {
   "cell_type": "markdown",
   "metadata": {},
   "source": [
    "## Topic detection pipeline........"
   ]
  },
  {
   "cell_type": "code",
   "execution_count": 9,
   "metadata": {},
   "outputs": [],
   "source": [
    "from nltk.corpus import PlaintextCorpusReader\n",
    "books = PlaintextCorpusReader(\"data\", \"researcher_book.txt\")"
   ]
  },
  {
   "cell_type": "code",
   "execution_count": 10,
   "metadata": {},
   "outputs": [
    {
     "name": "stdout",
     "output_type": "stream",
     "text": [
      "researcher_book.txt\n",
      "Number of sentences: 137120\n",
      "Number of chunks: 2743 \n",
      "\n"
     ]
    }
   ],
   "source": [
    "def get_chunks(l, n):\n",
    "    \"\"\"Yield successive n-sized chunks from l.\"\"\"\n",
    "    for i in range(0, len(l), n):\n",
    "        yield l[i : i + n]\n",
    "\n",
    "# Get the chunks again (into smaller chunks)\n",
    "book_id = {f: n for n, f in enumerate(books.fileids())}  # dictionary of books\n",
    "chunks = list()\n",
    "chunk_class = (\n",
    "    list()\n",
    ")  # this list contains the original book of the chunk, for evaluation\n",
    "\n",
    "limit = 60  # how many chunks total\n",
    "size = 50  # how many sentences per chunk/page\n",
    "\n",
    "for f in books.fileids():\n",
    "    sentences = books.sents(f)\n",
    "    print(f)\n",
    "    print(\"Number of sentences:\", len(sentences))\n",
    "\n",
    "    # create chunks\n",
    "    chunks_of_sents = [\n",
    "        x for x in get_chunks(sentences, size)\n",
    "    ]  # this is a list of lists of sentences, which are a list of tokens\n",
    "    chs = list()\n",
    "\n",
    "    # regroup so to have a list of chunks which are strings\n",
    "    for c in chunks_of_sents:\n",
    "        grouped_chunk = list()\n",
    "        for s in c:\n",
    "            grouped_chunk.extend(s)\n",
    "        chs.append(\" \".join(grouped_chunk))\n",
    "    print(\"Number of chunks:\", len(chs), \"\\n\")\n",
    "\n",
    "    # filter to the limit, to have the same number of chunks per book\n",
    "    chunks.extend(chs[:limit])\n",
    "    chunk_class.extend([book_id[f] for _ in range(len(chs[:limit]))])\n",
    "\n"
   ]
  },
  {
   "cell_type": "code",
   "execution_count": 11,
   "metadata": {},
   "outputs": [],
   "source": [
    "\n",
    "STOP_WORDS = spacy.lang.en.stop_words.STOP_WORDS\n",
    "\n",
    "processed_docs = list()\n",
    "for doc in nlp.pipe(chunks, batch_size = 10):\n",
    "    ents = doc.ents\n",
    "    \n",
    "    doc = [token.lemma_ for token in doc if token.is_alpha and not token.is_stop]\n",
    "    doc = [token for token in doc if token not in STOP_WORDS and len(token) > 2]\n",
    "    doc.extend([str(entity) for entity in ents if len(entity) > 1])\n",
    "\n",
    "    processed_docs.append(doc)\n",
    "docs = processed_docs\n",
    "# print(docs)\n",
    "del(processed_docs)"
   ]
  },
  {
   "cell_type": "code",
   "execution_count": 12,
   "metadata": {},
   "outputs": [],
   "source": [
    "from gensim.models.phrases import Phrases\n",
    "\n",
    "bigrams = Phrases(docs)\n",
    "\n",
    "for idx in range(len(docs)):\n",
    "    for token in bigrams[docs[idx]]:\n",
    "        if '_' in token:\n",
    "            docs[idx].append(token)\n"
   ]
  },
  {
   "cell_type": "code",
   "execution_count": 13,
   "metadata": {},
   "outputs": [
    {
     "name": "stdout",
     "output_type": "stream",
     "text": [
      "Number of unique tokens: 2326\n",
      "Number of chunks: 60\n"
     ]
    }
   ],
   "source": [
    "\n",
    "from gensim.corpora import Dictionary\n",
    "dictionary = Dictionary(docs)\n",
    "\n",
    "max_freq = 0.6\n",
    "min_wordcount = 3\n",
    "\n",
    "dictionary.filter_extremes(no_below=min_wordcount, no_above=max_freq)\n",
    "\n",
    "corpus = [dictionary.doc2bow(doc) for doc in docs]\n",
    "\n",
    "print('Number of unique tokens: %d' % len(dictionary))\n",
    "print('Number of chunks: %d' % len(corpus))"
   ]
  },
  {
   "cell_type": "code",
   "execution_count": 14,
   "metadata": {},
   "outputs": [],
   "source": [
    "\n",
    "# models\n",
    "from gensim.models import LdaMulticore\n",
    "\n",
    "params = {\"passes\": 10, \"random_state\": 0}\n",
    "base_models = dict()\n",
    "model = LdaMulticore(\n",
    "    corpus=corpus,\n",
    "    num_topics=3,\n",
    "    id2word=dictionary,\n",
    "    workers=6,\n",
    "    passes=params[\"passes\"],\n",
    "    random_state=params[\"random_state\"],\n",
    ")\n"
   ]
  },
  {
   "cell_type": "code",
   "execution_count": 15,
   "metadata": {},
   "outputs": [
    {
     "data": {
      "text/plain": [
       "[(0,\n",
       "  '0.004*\"home\" + 0.003*\"little\" + 0.003*\"family\" + 0.003*\"week\" + 0.003*\"Australia\"'),\n",
       " (1,\n",
       "  '0.003*\"road\" + 0.003*\"hard\" + 0.003*\"home\" + 0.003*\"try\" + 0.003*\"build\"'),\n",
       " (2,\n",
       "  '0.004*\"rain\" + 0.003*\"burn\" + 0.003*\"try\" + 0.003*\"home\" + 0.003*\"damage\"')]"
      ]
     },
     "execution_count": 15,
     "metadata": {},
     "output_type": "execute_result"
    }
   ],
   "source": [
    "model.show_topics(num_words=5)"
   ]
  },
  {
   "cell_type": "code",
   "execution_count": 16,
   "metadata": {},
   "outputs": [
    {
     "name": "stderr",
     "output_type": "stream",
     "text": [
      "/home/luca/.local/lib/python3.10/site-packages/pyLDAvis/_prepare.py:247: FutureWarning: In a future version of pandas all arguments of DataFrame.drop except for the argument 'labels' will be keyword-only\n",
      "  by='saliency', ascending=False).head(R).drop('saliency', 1)\n",
      "/usr/lib/python3.10/site-packages/past/builtins/misc.py:45: DeprecationWarning: the imp module is deprecated in favour of importlib and slated for removal in Python 3.12; see the module's documentation for alternative uses\n",
      "  from imp import reload\n",
      "/usr/lib/python3.10/site-packages/past/builtins/misc.py:45: DeprecationWarning: the imp module is deprecated in favour of importlib and slated for removal in Python 3.12; see the module's documentation for alternative uses\n",
      "  from imp import reload\n",
      "/usr/lib/python3.10/site-packages/past/builtins/misc.py:45: DeprecationWarning: the imp module is deprecated in favour of importlib and slated for removal in Python 3.12; see the module's documentation for alternative uses\n",
      "  from imp import reload\n",
      "/usr/lib/python3.10/site-packages/past/builtins/misc.py:45: DeprecationWarning: the imp module is deprecated in favour of importlib and slated for removal in Python 3.12; see the module's documentation for alternative uses\n",
      "  from imp import reload\n"
     ]
    },
    {
     "data": {
      "text/html": [
       "\n",
       "<link rel=\"stylesheet\" type=\"text/css\" href=\"https://cdn.jsdelivr.net/gh/bmabey/pyLDAvis@3.3.1/pyLDAvis/js/ldavis.v1.0.0.css\">\n",
       "\n",
       "\n",
       "<div id=\"ldavis_el2091461404537050060162113510650\"></div>\n",
       "<script type=\"text/javascript\">\n",
       "\n",
       "var ldavis_el2091461404537050060162113510650_data = {\"mdsDat\": {\"x\": [-0.01946916639813268, -0.02863311928194738, 0.04810228568008008], \"y\": [0.04049519735638146, -0.03565914963136725, -0.004836047725014212], \"topics\": [1, 2, 3], \"cluster\": [1, 1, 1], \"Freq\": [36.348971509031244, 35.81674823632708, 27.834280254641676]}, \"tinfo\": {\"Term\": [\"exposure\", \"build\", \"City\", \"far\", \"massive\", \"landslide\", \"customer\", \"Amazon\", \"virus\", \"remain\", \"quarter\", \"miss\", \"patient\", \"recover\", \"park\", \"old\", \"escape\", \"warning\", \"serve\", \"attempt\", \"draw\", \"shelter\", \"living\", \"source\", \"training\", \"rocket\", \"extend\", \"victim\", \"Congress\", \"market\", \"superstorm\", \"dark\", \"hotel\", \"shelf\", \"fruit\", \"drill\", \"mutual\", \"bird\", \"session\", \"green\", \"awful\", \"supplier\", \"successful\", \"discuss\", \"defensive\", \"curb\", \"trend\", \"pain\", \"document\", \"prescribe\", \"detail\", \"Congress\", \"conservation\", \"distraction\", \"Last year\", \"argument\", \"Security Council\", \"Station\", \"frustrating\", \"passionate\", \"pick\", \"obligation\", \"invest\", \"customer\", \"active\", \"China\", \"unusual\", \"extend\", \"buy\", \"disaster\", \"essential\", \"kind\", \"health\", \"simply\", \"walk\", \"virus\", \"rain\", \"leave\", \"ahead\", \"close\", \"example\", \"facility\", \"deal\", \"burn\", \"love\", \"safety\", \"play\", \"real\", \"damage\", \"local\", \"property\", \"try\", \"second\", \"early\", \"issue\", \"spread\", \"tell\", \"business\", \"month\", \"break\", \"public\", \"team\", \"increase\", \"protect\", \"home\", \"run\", \"week\", \"building\", \"season\", \"wildfire\", \"little\", \"use\", \"attempt\", \"massive\", \"exposure\", \"emotional\", \"London\", \"blanket\", \"theft\", \"induce\", \"Sheriff\", \"park\", \"influence\", \"fingerprint\", \"nervous\", \"Turkey\", \"eliminate\", \"commitment\", \"substance\", \"girl\", \"withstand\", \"fellow\", \"blood\", \"analysis\", \"reinforce\", \"Hayat\", \"electric\", \"escalate\", \"moon\", \"dust\", \"livestock\", \"suppress\", \"personnel\", \"patient\", \"Emergency\", \"particular\", \"fill\", \"extinguish\", \"fantastic\", \"escape\", \"possibly\", \"victim\", \"recent\", \"vehicle\", \"cover\", \"cold\", \"pandemic\", \"fear\", \"emergency_service\", \"far\", \"ready\", \"normal\", \"possible\", \"home\", \"thank\", \"smoke\", \"couple\", \"family\", \"little\", \"increase\", \"away\", \"night\", \"Australia\", \"week\", \"control\", \"lead\", \"tell\", \"emergency\", \"burn\", \"local\", \"sure\", \"include\", \"important\", \"open\", \"earthquake\", \"house\", \"biological\", \"climate_change\", \"department\", \"road\", \"use\", \"try\", \"hard\", \"run\", \"rocket\", \"LGBTQ\", \"heed\", \"college\", \"conventional\", \"Management\", \"Amazon\", \"misery\", \"meal\", \"draw\", \"union\", \"Long\", \"achievement\", \"Ontario\", \"David\", \"creation\", \"exact\", \"demilitarize\", \"dispatch\", \"valley\", \"pool\", \"cartridge\", \"landslide\", \"wood\", \"dynamic\", \"City\", \"read\", \"Island\", \"protest\", \"uniform\", \"snow_ice\", \"living\", \"ban\", \"cycle\", \"build\", \"old\", \"serve\", \"remain\", \"terrible\", \"tomorrow\", \"warning\", \"quarter\", \"road\", \"death\", \"Asia\", \"different\", \"sign\", \"cost\", \"hard\", \"market\", \"carry\", \"team\", \"South\", \"drive\", \"miss\", \"operation\", \"state\", \"try\", \"strong\", \"business\", \"use\", \"attack\", \"Australia\", \"significant\", \"product\", \"home\", \"result\", \"damage\", \"building\", \"live\", \"season\", \"safe\", \"end\", \"far\", \"little\", \"run\", \"include\", \"important\", \"week\", \"find\", \"open\"], \"Freq\": [12.0, 36.0, 11.0, 38.0, 10.0, 10.0, 19.0, 7.0, 22.0, 26.0, 13.0, 13.0, 14.0, 15.0, 10.0, 22.0, 15.0, 34.0, 20.0, 7.0, 6.0, 12.0, 8.0, 17.0, 21.0, 5.0, 11.0, 17.0, 9.0, 32.0, 6.563585135958262, 5.726801517053864, 4.8663663072330685, 4.8560985242931585, 4.84154154955888, 3.9575353948441108, 3.9569157196323057, 3.953604085094534, 3.9518149199952597, 3.949544330008333, 3.9449229942614337, 3.943668200982466, 3.9428693396235763, 5.523130845362452, 3.9402433188387396, 3.940085703664218, 3.9369218793134393, 5.507008994618615, 3.923295888144997, 3.9234978708880854, 3.91255697555434, 7.7833270552594565, 3.045610028391139, 3.0425930337286005, 3.042170929015496, 3.041145817569385, 3.041104636621765, 3.0397265456246254, 3.0381219594155766, 3.0350503019475665, 9.514809903152585, 6.640036584715963, 5.186994792160174, 14.617113625285432, 9.731297164291956, 8.991122577755851, 5.764353638789502, 8.894955260075719, 9.54490827336901, 14.563618593828352, 8.165423007003115, 21.17983592234118, 21.41223765873816, 9.134502871383512, 11.173503955379308, 14.13849492506373, 29.97313307172077, 20.407977499105282, 10.830246049485659, 18.596198176595127, 12.505450720211725, 8.809999945634496, 20.31864229673505, 29.0824362386412, 21.09863297662714, 19.08009784309971, 20.140422921420903, 14.306103342874469, 23.098928872353937, 22.731920345169854, 20.612470319000963, 25.825597854171637, 14.782286484194074, 19.458633113622373, 17.787867160750483, 19.13769430083999, 22.056660659065344, 20.847138968514546, 17.51671219164562, 15.204595141039245, 17.681132027512067, 19.046933453283103, 20.63199204917033, 18.203528036051292, 23.50126869159844, 19.48948744837725, 20.279906713004717, 18.663832980567143, 17.534208211391583, 17.79673675246882, 18.581655419092765, 17.94634321317712, 6.720526524902028, 9.131556238239723, 11.425125758794705, 5.706500819874211, 4.805837898363407, 4.78250797847576, 3.983506408668354, 3.968463332361049, 3.953529671663115, 8.688521083726853, 5.502931750194659, 3.9218184677905685, 3.9182869763455197, 3.904931267471025, 5.455139108635813, 7.7809048364708815, 5.427622894395824, 3.857079208164045, 3.066575825553316, 3.0664879066089212, 3.0664130305848487, 3.064170855967217, 3.060547339473227, 3.825424523612895, 3.0590138301931082, 3.057980782596468, 3.0564895420396163, 3.05116344137244, 3.809336322930874, 3.801398498236934, 6.71824208156113, 11.292469597694241, 6.535773558536354, 9.105053990287013, 5.80874523842313, 8.999675889362877, 5.789011783046582, 11.371831420215456, 7.618351403564921, 11.966646555448051, 17.35863908995003, 15.735334617194413, 15.6656158604315, 17.89497556731082, 9.033731437395579, 11.992811619756873, 10.317001180494819, 20.24076700855188, 12.779304545904049, 13.157195627189282, 16.67236313284834, 32.947552917463824, 14.73932601584295, 18.31093651766129, 13.47998085318383, 24.521812863253125, 25.522983562625488, 23.116035317206432, 15.256616931106409, 18.47005628102462, 23.474995807321623, 23.509081305763956, 19.16543523036905, 18.130681426522322, 21.142444379421086, 16.23349494984289, 22.856991325898186, 20.124887907554903, 19.283447573445407, 18.926641580539012, 19.45178433383651, 19.595121197467584, 16.19488210883534, 18.83341658292854, 18.506222849865047, 17.769777058207982, 18.72973019707732, 18.8521694039253, 17.553453944737694, 18.079220825926168, 17.18796233303888, 17.03635915635019, 4.692163459458378, 3.8198539936628255, 3.8191001719768987, 3.813875977464273, 3.7787425560893735, 3.762597707770174, 6.755015648865614, 3.721346993381245, 4.4480247166578355, 5.1764563517455064, 2.9361384699571618, 2.9331305036929756, 2.932021732602645, 2.930248111808243, 2.8827019727369714, 2.861501300934099, 2.8563589456284117, 3.550596245470339, 2.82962380360404, 2.780642099728494, 3.4409632425464265, 3.3996160479915196, 8.080930181392489, 4.691187395522418, 4.013778001050259, 8.574042186750228, 3.822376743528077, 3.8167230808836288, 3.8199606098773686, 3.810983449530975, 5.5894477735107175, 6.0807146426202845, 6.4576082167600255, 5.339274327721497, 18.36802313958962, 12.213002251161486, 11.258553626471999, 13.777484829279013, 7.117383890001438, 7.497686930551331, 15.964280995957374, 7.87946908337341, 21.190181368015786, 9.498396507838814, 6.54007210461727, 18.354385273949017, 11.048812503002324, 12.757577602951951, 20.0517484454898, 13.973223189359715, 9.322051036528824, 16.716533471402162, 10.41378605708481, 14.127752130064163, 7.639430935331521, 9.666229199990404, 16.020141885830807, 19.619353623496103, 14.083007857602906, 16.461666659717793, 17.120897238791894, 14.510677028509727, 17.804838753450863, 13.048151836687403, 12.272662282201043, 19.991559838287998, 14.451958523759167, 15.996524141854211, 15.38354547861322, 14.329217732993715, 13.963758372454546, 13.883910335945677, 13.702776895620593, 13.20603993896838, 15.060181503176793, 14.36025956943091, 13.941887032104907, 14.032662479786062, 14.467143075329064, 13.64901679566471, 13.835008031117228], \"Total\": [12.0, 36.0, 11.0, 38.0, 10.0, 10.0, 19.0, 7.0, 22.0, 26.0, 13.0, 13.0, 14.0, 15.0, 10.0, 22.0, 15.0, 34.0, 20.0, 7.0, 6.0, 12.0, 8.0, 17.0, 21.0, 5.0, 11.0, 17.0, 9.0, 32.0, 7.31354827173028, 6.400169038519298, 5.485636299115109, 5.485645094533862, 5.484557972490906, 4.5698260164023505, 4.569765982296689, 4.569696303821197, 4.569668046579076, 4.569833538167993, 4.56962669636842, 4.569423555308305, 4.569798925242711, 6.402860582169852, 4.569684978927448, 4.56989114639603, 4.569187271827882, 6.403138696836531, 4.568821847298963, 4.569339195221789, 4.568194212604183, 9.153835091149361, 3.6539470979986026, 3.653981057862235, 3.653913185689105, 3.6538821599220555, 3.6539415110711952, 3.6537071172218094, 3.6538058216016798, 3.6535129023493558, 11.86623691831363, 8.199900061703191, 6.401595230682163, 19.124866893410278, 12.790466776186467, 11.819797957126054, 7.32319781314993, 11.813731105569723, 12.791257903875909, 21.00393778962527, 10.968027511295643, 34.6837594783549, 35.65659267902964, 12.808128422954196, 16.430293519591267, 22.02005881313249, 56.5121372891076, 35.60691222530427, 16.44580404616918, 33.62522642248414, 20.10578642644503, 12.782231009543334, 39.02411136355104, 63.84079963041151, 42.01547867654227, 37.317439844647645, 40.914721369766575, 25.454840360750964, 50.78784173639865, 50.2473158549235, 44.68318208772031, 63.52417230359391, 27.329824541853995, 41.87441501803575, 36.39638931137907, 41.84152780451524, 53.800869747361055, 48.938545822616874, 37.28940397302338, 29.106780584754702, 38.31526381768243, 45.25009686278413, 54.7175166549404, 43.55395225676358, 76.44038144735026, 50.88610617415835, 58.25613109409774, 49.001845996526626, 41.69217494943089, 44.535394901533174, 59.164820484895046, 52.62069439670671, 7.362914131419984, 10.125996190318512, 12.887115564532145, 6.439659781398589, 5.517322573923898, 5.51703069875948, 4.5962516468372945, 4.595717953146642, 4.5948173986944285, 10.123088977905372, 6.436531330570299, 4.5949978770485975, 4.593151328081471, 4.59344114494654, 6.4274716508777745, 9.19442834640485, 6.435776502828997, 4.594570884485227, 3.6737666206464654, 3.6737048649720805, 3.6738051746513785, 3.6737647724216966, 3.6734970724243374, 4.593523061938333, 3.6735477716539595, 3.6734786219003985, 3.6735391688557053, 3.673074778444509, 4.594031458213466, 4.589569886805244, 8.276579360938612, 14.72056367238279, 8.240748790663474, 11.908489246428102, 7.355546377112096, 11.924683994069104, 7.354972763694504, 15.632977020243535, 10.082481728498937, 17.342132224235115, 27.510217070058108, 24.679737946278145, 24.646871118758455, 29.21860573644292, 12.839342284471185, 18.318506888678066, 15.528620420393935, 38.12853161260797, 21.001637692323552, 21.91769011793263, 30.126536257873, 76.44038144735026, 25.611492383471177, 34.73157868434392, 22.94209050179005, 54.64288412431875, 59.164820484895046, 54.7175166549404, 29.207111912291687, 39.21930254226898, 57.21787512540699, 58.25613109409774, 43.702089934118625, 40.05653593013089, 53.800869747361055, 33.60581950658898, 63.84079963041151, 50.2473158549235, 46.44457405742227, 46.33538875549245, 49.08360543829742, 50.00780011564253, 33.681254366211185, 48.21946772753579, 46.35297052178191, 42.77164246219696, 49.11507749571576, 53.39714677082942, 52.62069439670671, 63.52417230359391, 54.34271917038419, 50.88610617415835, 5.325348362703586, 4.441279438309437, 4.441310952117751, 4.441517452090239, 4.442533491193595, 4.443390084970955, 7.998897079255356, 4.445178652611921, 5.334497963766561, 6.225580615712422, 3.5576685899713247, 3.5577766390937278, 3.55782375892079, 3.557897130262754, 3.5595092116706013, 3.5604089863673973, 3.560656213627168, 4.452331315486171, 3.560839198456362, 3.5626324164002954, 4.454138692351828, 4.455658128797575, 10.703279580494348, 6.2469202679563285, 5.349242341288822, 11.602305869472955, 5.362624413627033, 5.356234459542024, 5.36272999358828, 5.356395808536357, 8.039240651195072, 8.937283086134988, 9.845132311291646, 8.060268864191105, 36.954269538154634, 22.48577144588932, 20.691127293827897, 26.998186881929314, 11.665603630603947, 12.561840208122382, 34.29382599927234, 13.451211205480075, 53.39714677082942, 17.998843419179835, 10.753977696674891, 45.222975279219455, 22.537149577941644, 27.99228726203437, 54.34271917038419, 32.50095536895307, 17.997439440927693, 45.25009686278413, 21.64458129015346, 35.24824957751591, 13.496869864671439, 19.815795764190955, 45.318962952697674, 63.52417230359391, 37.09296444835554, 48.938545822616874, 52.62069439670671, 39.8779669809123, 57.21787512540699, 34.388369992258454, 30.76302899128078, 76.44038144735026, 41.71622665716656, 50.78784173639865, 49.001845996526626, 43.52260770680532, 41.69217494943089, 42.64726508557357, 41.73163747245667, 38.12853161260797, 59.164820484895046, 50.88610617415835, 46.33538875549245, 49.08360543829742, 58.25613109409774, 43.573432986578, 50.00780011564253], \"Category\": [\"Default\", \"Default\", \"Default\", \"Default\", \"Default\", \"Default\", \"Default\", \"Default\", \"Default\", \"Default\", \"Default\", \"Default\", \"Default\", \"Default\", \"Default\", \"Default\", \"Default\", \"Default\", \"Default\", \"Default\", \"Default\", \"Default\", \"Default\", \"Default\", \"Default\", \"Default\", \"Default\", \"Default\", \"Default\", \"Default\", \"Topic1\", \"Topic1\", \"Topic1\", \"Topic1\", \"Topic1\", \"Topic1\", \"Topic1\", \"Topic1\", \"Topic1\", \"Topic1\", \"Topic1\", \"Topic1\", \"Topic1\", \"Topic1\", \"Topic1\", \"Topic1\", \"Topic1\", \"Topic1\", \"Topic1\", \"Topic1\", \"Topic1\", \"Topic1\", \"Topic1\", \"Topic1\", \"Topic1\", \"Topic1\", \"Topic1\", \"Topic1\", \"Topic1\", \"Topic1\", \"Topic1\", \"Topic1\", \"Topic1\", \"Topic1\", \"Topic1\", \"Topic1\", \"Topic1\", \"Topic1\", \"Topic1\", \"Topic1\", \"Topic1\", \"Topic1\", \"Topic1\", \"Topic1\", \"Topic1\", \"Topic1\", \"Topic1\", \"Topic1\", \"Topic1\", \"Topic1\", \"Topic1\", \"Topic1\", \"Topic1\", \"Topic1\", \"Topic1\", \"Topic1\", \"Topic1\", \"Topic1\", \"Topic1\", \"Topic1\", \"Topic1\", \"Topic1\", \"Topic1\", \"Topic1\", \"Topic1\", \"Topic1\", \"Topic1\", \"Topic1\", \"Topic1\", \"Topic1\", \"Topic1\", \"Topic1\", \"Topic1\", \"Topic1\", \"Topic1\", \"Topic1\", \"Topic1\", \"Topic1\", \"Topic1\", \"Topic1\", \"Topic1\", \"Topic1\", \"Topic2\", \"Topic2\", \"Topic2\", \"Topic2\", \"Topic2\", \"Topic2\", \"Topic2\", \"Topic2\", \"Topic2\", \"Topic2\", \"Topic2\", \"Topic2\", \"Topic2\", \"Topic2\", \"Topic2\", \"Topic2\", \"Topic2\", \"Topic2\", \"Topic2\", \"Topic2\", \"Topic2\", \"Topic2\", \"Topic2\", \"Topic2\", \"Topic2\", \"Topic2\", \"Topic2\", \"Topic2\", \"Topic2\", \"Topic2\", \"Topic2\", \"Topic2\", \"Topic2\", \"Topic2\", \"Topic2\", \"Topic2\", \"Topic2\", \"Topic2\", \"Topic2\", \"Topic2\", \"Topic2\", \"Topic2\", \"Topic2\", \"Topic2\", \"Topic2\", \"Topic2\", \"Topic2\", \"Topic2\", \"Topic2\", \"Topic2\", \"Topic2\", \"Topic2\", \"Topic2\", \"Topic2\", \"Topic2\", \"Topic2\", \"Topic2\", \"Topic2\", \"Topic2\", \"Topic2\", \"Topic2\", \"Topic2\", \"Topic2\", \"Topic2\", \"Topic2\", \"Topic2\", \"Topic2\", \"Topic2\", \"Topic2\", \"Topic2\", \"Topic2\", \"Topic2\", \"Topic2\", \"Topic2\", \"Topic2\", \"Topic2\", \"Topic2\", \"Topic2\", \"Topic2\", \"Topic2\", \"Topic2\", \"Topic2\", \"Topic3\", \"Topic3\", \"Topic3\", \"Topic3\", \"Topic3\", \"Topic3\", \"Topic3\", \"Topic3\", \"Topic3\", \"Topic3\", \"Topic3\", \"Topic3\", \"Topic3\", \"Topic3\", \"Topic3\", \"Topic3\", \"Topic3\", \"Topic3\", \"Topic3\", \"Topic3\", \"Topic3\", \"Topic3\", \"Topic3\", \"Topic3\", \"Topic3\", \"Topic3\", \"Topic3\", \"Topic3\", \"Topic3\", \"Topic3\", \"Topic3\", \"Topic3\", \"Topic3\", \"Topic3\", \"Topic3\", \"Topic3\", \"Topic3\", \"Topic3\", \"Topic3\", \"Topic3\", \"Topic3\", \"Topic3\", \"Topic3\", \"Topic3\", \"Topic3\", \"Topic3\", \"Topic3\", \"Topic3\", \"Topic3\", \"Topic3\", \"Topic3\", \"Topic3\", \"Topic3\", \"Topic3\", \"Topic3\", \"Topic3\", \"Topic3\", \"Topic3\", \"Topic3\", \"Topic3\", \"Topic3\", \"Topic3\", \"Topic3\", \"Topic3\", \"Topic3\", \"Topic3\", \"Topic3\", \"Topic3\", \"Topic3\", \"Topic3\", \"Topic3\", \"Topic3\", \"Topic3\", \"Topic3\", \"Topic3\", \"Topic3\", \"Topic3\", \"Topic3\", \"Topic3\", \"Topic3\", \"Topic3\"], \"logprob\": [30.0, 29.0, 28.0, 27.0, 26.0, 25.0, 24.0, 23.0, 22.0, 21.0, 20.0, 19.0, 18.0, 17.0, 16.0, 15.0, 14.0, 13.0, 12.0, 11.0, 10.0, 9.0, 8.0, 7.0, 6.0, 5.0, 4.0, 3.0, 2.0, 1.0, -7.1571, -7.2935, -7.4563, -7.4584, -7.4614, -7.663, -7.6632, -7.664, -7.6645, -7.6651, -7.6662, -7.6665, -7.6667, -7.3297, -7.6674, -7.6675, -7.6683, -7.3326, -7.6717, -7.6717, -7.6745, -6.9867, -7.925, -7.9259, -7.9261, -7.9264, -7.9264, -7.9269, -7.9274, -7.9284, -6.7858, -7.1455, -7.3925, -6.3565, -6.7633, -6.8424, -7.287, -6.8532, -6.7826, -6.3601, -6.9387, -5.9856, -5.9747, -6.8266, -6.6251, -6.3898, -5.6384, -6.0227, -6.6563, -6.1157, -6.5125, -6.8628, -6.0271, -5.6685, -5.9894, -6.09, -6.0359, -6.378, -5.8989, -5.9149, -6.0128, -5.7873, -6.3452, -6.0704, -6.1601, -6.087, -5.945, -6.0014, -6.1755, -6.3171, -6.1662, -6.0917, -6.0118, -6.137, -5.8816, -6.0688, -6.029, -6.1121, -6.1745, -6.1596, -6.1165, -6.1513, -7.1187, -6.8122, -6.5881, -7.2823, -7.4541, -7.4589, -7.6417, -7.6455, -7.6493, -6.8619, -7.3186, -7.6573, -7.6582, -7.6617, -7.3273, -6.9722, -7.3324, -7.674, -7.9033, -7.9034, -7.9034, -7.9041, -7.9053, -7.6822, -7.9058, -7.9061, -7.9066, -7.9084, -7.6864, -7.6885, -7.1191, -6.5998, -7.1466, -6.8151, -7.2645, -6.8267, -7.2679, -6.5928, -6.9933, -6.5418, -6.1698, -6.268, -6.2724, -6.1394, -6.8229, -6.5396, -6.6901, -6.0162, -6.4761, -6.4469, -6.2101, -5.529, -6.3334, -6.1164, -6.4227, -5.8243, -5.7843, -5.8834, -6.2989, -6.1078, -5.868, -5.8665, -6.0708, -6.1263, -5.9726, -6.2368, -5.8946, -6.0219, -6.0647, -6.0833, -6.056, -6.0486, -6.2392, -6.0883, -6.1058, -6.1464, -6.0938, -6.0873, -6.1587, -6.1291, -6.1797, -6.1886, -7.2259, -7.4315, -7.4317, -7.4331, -7.4424, -7.4466, -6.8615, -7.4577, -7.2793, -7.1276, -7.6947, -7.6957, -7.6961, -7.6967, -7.713, -7.7204, -7.7222, -7.5046, -7.7316, -7.7491, -7.536, -7.5481, -6.6822, -7.2261, -7.382, -6.623, -7.4309, -7.4324, -7.4315, -7.4339, -7.0509, -6.9666, -6.9065, -7.0967, -5.8611, -6.2693, -6.3506, -6.1487, -6.8092, -6.7572, -6.0014, -6.7075, -5.7182, -6.5206, -6.8938, -5.8619, -6.3694, -6.2256, -5.7734, -6.1346, -6.5394, -5.9554, -6.4286, -6.1236, -6.7384, -6.5031, -5.9979, -5.7952, -6.1268, -5.9707, -5.9315, -6.0969, -5.8923, -6.2031, -6.2644, -5.7764, -6.1009, -5.9994, -6.0385, -6.1095, -6.1353, -6.141, -6.1542, -6.1911, -6.0597, -6.1073, -6.1369, -6.1304, -6.0999, -6.1581, -6.1446], \"loglift\": [30.0, 29.0, 28.0, 27.0, 26.0, 25.0, 24.0, 23.0, 22.0, 21.0, 20.0, 19.0, 18.0, 17.0, 16.0, 15.0, 14.0, 13.0, 12.0, 11.0, 10.0, 9.0, 8.0, 7.0, 6.0, 5.0, 4.0, 3.0, 2.0, 1.0, 0.9038, 0.9008, 0.8922, 0.8901, 0.8873, 0.8682, 0.868, 0.8672, 0.8667, 0.8661, 0.865, 0.8647, 0.8644, 0.8642, 0.8638, 0.8637, 0.8631, 0.8612, 0.8597, 0.8596, 0.8571, 0.8498, 0.8299, 0.8289, 0.8288, 0.8284, 0.8284, 0.828, 0.8275, 0.8265, 0.7912, 0.801, 0.8016, 0.7432, 0.7387, 0.7385, 0.7727, 0.7282, 0.7193, 0.6458, 0.7169, 0.5188, 0.502, 0.674, 0.6264, 0.569, 0.3779, 0.4554, 0.5943, 0.4197, 0.5372, 0.6398, 0.3594, 0.2257, 0.3232, 0.3412, 0.3032, 0.4358, 0.2241, 0.2188, 0.2383, 0.1119, 0.3975, 0.2456, 0.2961, 0.2298, 0.1203, 0.1587, 0.2565, 0.3626, 0.2387, 0.1467, 0.0367, 0.1396, -0.1675, 0.0523, -0.0432, 0.0467, 0.1458, 0.0947, -0.1461, -0.0637, 0.9355, 0.9234, 0.9063, 0.9059, 0.8887, 0.8839, 0.8837, 0.88, 0.8764, 0.8739, 0.87, 0.8683, 0.8678, 0.8644, 0.8627, 0.8598, 0.8564, 0.8518, 0.8461, 0.8461, 0.846, 0.8453, 0.8442, 0.8438, 0.8437, 0.8434, 0.8429, 0.8412, 0.8395, 0.8383, 0.8182, 0.7616, 0.795, 0.7583, 0.7907, 0.7453, 0.7873, 0.7085, 0.7465, 0.6557, 0.5663, 0.5767, 0.5736, 0.5365, 0.6752, 0.6032, 0.6179, 0.3935, 0.53, 0.5164, 0.4351, 0.1852, 0.4742, 0.3866, 0.495, 0.2255, 0.186, 0.1651, 0.3774, 0.2737, 0.1358, 0.1193, 0.2025, 0.2341, 0.0927, 0.2991, -0.0004, 0.1118, 0.1477, 0.1314, 0.1012, 0.0899, 0.2945, 0.0866, 0.1086, 0.1484, 0.0627, -0.0144, -0.0711, -0.2299, -0.1243, -0.0675, 1.1523, 1.1282, 1.128, 1.1266, 1.1171, 1.1126, 1.1099, 1.1012, 1.0972, 1.0944, 1.0869, 1.0858, 1.0854, 1.0848, 1.068, 1.0604, 1.0585, 1.0526, 1.049, 1.0311, 1.0208, 1.0084, 0.9979, 0.9925, 0.9917, 0.9764, 0.9403, 0.94, 0.9397, 0.9385, 0.9154, 0.8938, 0.8572, 0.867, 0.5798, 0.6685, 0.6703, 0.6062, 0.7848, 0.7628, 0.5143, 0.7441, 0.3547, 0.6397, 0.7816, 0.3772, 0.5661, 0.4931, 0.2819, 0.4348, 0.6211, 0.2831, 0.5473, 0.3646, 0.7098, 0.5611, 0.239, 0.104, 0.3104, 0.1894, 0.1561, 0.268, 0.1115, 0.3098, 0.36, -0.0623, 0.2188, 0.1236, 0.1203, 0.1679, 0.1851, 0.1567, 0.1652, 0.2186, -0.0894, 0.0138, 0.0779, 0.0268, -0.1141, 0.1181, -0.0061]}, \"token.table\": {\"Topic\": [1, 2, 3, 1, 2, 3, 1, 2, 3, 1, 3, 1, 2, 3, 1, 2, 3, 2, 3, 2, 1, 3, 3, 1, 2, 3, 3, 3, 1, 2, 1, 2, 3, 1, 2, 3, 1, 2, 3, 1, 2, 3, 2, 1, 1, 2, 3, 2, 1, 2, 3, 1, 1, 2, 3, 1, 2, 3, 1, 2, 2, 1, 2, 3, 1, 2, 3, 1, 2, 3, 1, 2, 3, 1, 2, 3, 1, 2, 3, 1, 2, 3, 1, 3, 1, 2, 3, 1, 2, 3, 1, 2, 3, 3, 1, 2, 3, 1, 1, 2, 3, 3, 1, 2, 3, 1, 2, 3, 1, 2, 3, 3, 1, 1, 2, 3, 1, 2, 3, 1, 2, 3, 1, 1, 2, 3, 1, 2, 3, 1, 2, 3, 1, 2, 3, 1, 1, 2, 3, 1, 2, 3, 1, 2, 3, 1, 1, 2, 3, 1, 1, 2, 3, 2, 1, 3, 1, 2, 3, 1, 2, 3, 2, 2, 3, 1, 2, 3, 1, 2, 3, 2, 1, 2, 3, 2, 1, 2, 1, 2, 3, 3, 1, 2, 3, 1, 2, 1, 3, 1, 2, 3, 1, 2, 3, 1, 2, 3, 1, 2, 1, 2, 3, 1, 2, 3, 2, 1, 2, 1, 2, 3, 2, 1, 1, 2, 1, 1, 2, 3, 1, 2, 3, 3, 1, 2, 3, 1, 1, 2, 3, 1, 2, 3, 1, 2, 3, 1, 2, 3, 2, 1, 2, 1, 2, 1, 2, 3, 1, 2, 3, 1, 2, 3, 1, 2, 3, 1, 2, 3, 1, 2, 3, 1, 2, 3, 2, 1, 3, 1, 2, 3, 1, 2, 3, 1, 2, 3, 1, 2, 2, 3, 3, 2, 3, 1, 2, 3, 2, 1, 2, 1, 2, 3, 1, 2, 3, 1, 3, 1, 2, 3, 1, 2, 3, 1, 2, 3, 1, 2, 1, 2, 3, 1, 2, 1, 2, 3, 1, 1, 2, 1, 2, 1, 2, 3, 1, 2, 3, 1, 3, 1, 2, 3, 1, 2, 3, 1, 1, 2, 3, 1, 2, 3, 1, 2, 3, 2, 3, 1, 2, 3, 1, 3, 1, 2, 3, 2, 3, 1, 2, 3, 1, 2, 3, 1, 2, 3, 1, 2, 3, 2, 1, 2, 3, 1, 2, 3, 1, 2, 3, 3, 1, 2, 3, 1, 2, 3, 1, 2, 3, 1, 2, 3, 1, 2, 3, 1, 2, 3, 1, 1, 1, 3, 1, 2, 3, 1, 2, 3, 1, 2, 3, 1, 2, 3, 1, 3, 1, 2, 3, 1, 2, 3, 1, 2, 3, 1, 2, 3, 1, 2, 1, 1, 1, 2, 1, 2, 3, 1, 2, 3, 1, 2, 3, 1, 2, 3, 1, 2, 3, 2, 1, 2, 3, 1, 2, 1, 1, 2, 3, 1, 3, 3, 1, 2, 1, 2, 3, 3, 1, 2, 3, 1, 2, 3, 1, 2, 1, 2, 3, 1, 2, 3, 1, 2, 3, 1, 2, 3, 2, 2, 3], \"Freq\": [0.12501723551281063, 0.12501723551281063, 0.8751206485896744, 0.37195539295537056, 0.09298884823884264, 0.6509219376718985, 0.279632893827883, 0.4019722848775818, 0.31458700555636837, 0.7614343352268537, 0.16920763005041192, 0.0861897635909702, 0.1723795271819404, 0.7757078723187318, 0.8739506360274091, 0.10924382950342613, 0.8428128209821364, 0.8494373724789177, 0.1213481960684168, 0.8707913177020421, 0.1866983246445682, 0.7467932985782728, 0.9006413704791767, 0.8210375691874077, 0.9062366633466602, 0.8432232555116753, 0.9002135584560425, 0.8431946990492238, 0.8210312044979929, 0.8705460202045374, 0.23100469965083578, 0.27720563958100297, 0.46200939930167156, 0.8210838755683098, 0.870806846932302, 0.8432120878606991, 0.7818322954888707, 0.15636645909777414, 0.07818322954888707, 0.6688636182894503, 0.24322313392343647, 0.12161156696171824, 0.8166010035592017, 0.8210445407642801, 0.2507650403739621, 0.3761475605609432, 0.3761475605609432, 0.9507105305124625, 0.2739058905934905, 0.5135735448627947, 0.20542941794511788, 0.8753450261437954, 0.20314607633115772, 0.10157303816557886, 0.6094382289934731, 0.3020302656422247, 0.4098982176573049, 0.2804566752392086, 0.8753316925361506, 0.9062846072479286, 0.8165920230880729, 0.5153438373688284, 0.24049379077211994, 0.24049379077211994, 0.21648378117013356, 0.29766519910893363, 0.4870885076328005, 0.38774049453865, 0.30611091674103946, 0.30611091674103946, 0.45425496184081976, 0.3602711766323743, 0.18796757041689094, 0.42910960362649114, 0.24520548778656637, 0.32694065038208847, 0.7817839398711425, 0.1563567879742285, 0.07817839398711425, 0.33338075784022336, 0.16669037892011168, 0.500071136760335, 0.22443373595852265, 0.6733012078755679, 0.32731967242954674, 0.42083957883798867, 0.2571797426232153, 0.5650519571608087, 0.208177036848719, 0.23791661354139312, 0.17112383955281438, 0.6160458223901317, 0.20534860746337724, 0.9005931065558562, 0.10876151972961037, 0.870092157836883, 0.10876151972961037, 0.8210299491317778, 0.3203508120802724, 0.4347618163946554, 0.2517042094916426, 0.9003871344873761, 0.2143447566050715, 0.32151713490760725, 0.4644136393109882, 0.34870405551646666, 0.5666440902142583, 0.04358800693955833, 0.16229240542243292, 0.6491696216897317, 0.20286550677804116, 0.842599828134023, 0.8752943717608098, 0.7843191842118622, 0.05228794561412414, 0.15686383684237243, 0.12406534035640458, 0.24813068071280917, 0.6203267017820229, 0.4528642921937034, 0.2362770220141061, 0.3150360293521415, 0.9374752391521399, 0.5125036625095383, 0.17937628187833837, 0.28187701438024604, 0.22223650191531422, 0.22223650191531422, 0.500032129309457, 0.8753338618406998, 0.22460143442645067, 0.8984057377058027, 0.34612589181973474, 0.38684658497499763, 0.2646845055092089, 0.8756195148103667, 0.2874645005052038, 0.3095771543902195, 0.3980277699302822, 0.714151800973679, 0.19044048025964774, 0.09522024012982387, 0.9370811566174493, 0.15618019276957487, 0.8424980272348473, 0.8210223185325304, 0.8754992279606515, 0.16062758828889814, 0.8031379414444907, 0.8753068466158034, 0.4255530467410267, 0.1985914218124791, 0.3971828436249582, 0.8167544035873002, 0.18694236233818948, 0.7477694493527579, 0.45373768187129304, 0.31045209812246366, 0.23880930624804897, 0.2672109507010743, 0.47504169013524317, 0.2672109507010743, 0.8166492411365308, 0.777910860068464, 0.15558217201369282, 0.20829725633167595, 0.47610801447240214, 0.3273242599497765, 0.12879444186641167, 0.6439722093320585, 0.19319166279961753, 0.93172624077617, 0.33547689110546286, 0.33547689110546286, 0.33547689110546286, 0.8166646137845255, 0.2558693711901642, 0.7036407707729515, 0.7293927729266761, 0.18234819323166904, 0.09117409661583452, 0.842541323848831, 0.6465800304583547, 0.24868462709936717, 0.09947385083974687, 0.07759688310332181, 0.85356571413654, 0.7618253640254977, 0.25394178800849926, 0.16771932916584842, 0.7547369812463178, 0.08385966458292421, 0.7041024366779567, 0.15646720815065704, 0.15646720815065704, 0.3111109574912458, 0.4575161139577144, 0.2379083792580115, 0.13596243414199757, 0.8157746048519855, 0.1311353935892629, 0.5245415743570516, 0.3409520233320836, 0.2183584079372888, 0.6550752238118663, 0.1091792039686444, 0.8166143199483172, 0.13595183127546479, 0.8157109876527888, 0.3212966948074173, 0.3442464587222328, 0.3212966948074173, 0.8705118276505561, 0.9116504967362328, 0.8210616947030103, 0.8705927279317962, 0.8753054058952803, 0.312829395722706, 0.312829395722706, 0.36803458320318355, 0.5889513950207171, 0.28045304524796055, 0.11218121809918423, 0.900634979879686, 0.3139701757837308, 0.43170899170262994, 0.261641813153109, 0.9114712910891581, 0.3525547004388049, 0.3940317240198407, 0.2488621414862152, 0.32597442378419944, 0.38709462824373686, 0.28522762081117453, 0.28056309333239426, 0.4100537517934993, 0.3021448697425784, 0.38378934724743086, 0.4203407136519481, 0.20103251522484472, 0.870375432256725, 0.15536318377733999, 0.9321791026640399, 0.7810553182174864, 0.1562110636434973, 0.49455455171682183, 0.2747525287315677, 0.21980202298525414, 0.6054706962521025, 0.25948744125090106, 0.14415968958383393, 0.09342930757619371, 0.09342930757619371, 0.7474344606095497, 0.2995765789865391, 0.4493648684798087, 0.24964714915544928, 0.5616886932921659, 0.28084434664608293, 0.14042217332304147, 0.3211367810175433, 0.43945033191874344, 0.2535290376454289, 0.3906015952564771, 0.2757187731222191, 0.32167190197592227, 0.8706949520009439, 0.22378165497551883, 0.6713449649265565, 0.45773589312525115, 0.39803121141326187, 0.13931092399464165, 0.4998157979269802, 0.3570112842335573, 0.14280451369342292, 0.3999882419585243, 0.1846099578270112, 0.43075656826302616, 0.09875571560614474, 0.8888014404553026, 0.18745906490025616, 0.7498362596010246, 0.8998513474030249, 0.37045626505503226, 0.5927300240880516, 0.4827108530085894, 0.2949899657274713, 0.2413554265042947, 0.8166511535888944, 0.8753183457306202, 0.8708617927619584, 0.33146943360323977, 0.45895767729679354, 0.20398118990968603, 0.18250098338270043, 0.5931281959937764, 0.18250098338270043, 0.8536689407585338, 0.1219527058226477, 0.22236284007565427, 0.22236284007565427, 0.5336708161815702, 0.3399469674868255, 0.39993760880803, 0.279956326165621, 0.3532535399183752, 0.15139437425073224, 0.5046479141691075, 0.9370404553261198, 0.15617340922101997, 0.2336568286389883, 0.7009704859169649, 0.07788560954632943, 0.09878407689417701, 0.8890566920475931, 0.08397370810910758, 0.7557633729819683, 0.16794741621821516, 0.8211275230671498, 0.2037965438530246, 0.7472539941277568, 0.1208228612800487, 0.8457600289603409, 0.8427271483655114, 0.08427271483655115, 0.08427271483655115, 0.48882161066795754, 0.2688518858673767, 0.24441080533397877, 0.22451029684304474, 0.6735308905291342, 0.26554662412972724, 0.5642865762756704, 0.19915996809729541, 0.09918193029533794, 0.7934554423627035, 0.09918193029533794, 0.8754001025318598, 0.2600524155884472, 0.325065519485559, 0.39007862338267085, 0.4699754811278571, 0.3580765570497959, 0.17903827852489795, 0.41328051915666836, 0.2755203461044456, 0.2984803749464827, 0.186472188828378, 0.745888755313512, 0.46978666480414605, 0.36538962818100246, 0.18269481409050123, 0.37171373816232856, 0.5947419810597256, 0.5308594124926564, 0.2831250199960834, 0.19464845124730734, 0.1864758601141052, 0.7459034404564208, 0.1904613372823809, 0.618999346167738, 0.1904613372823809, 0.5499936279933116, 0.19642629571189701, 0.23571155485427642, 0.29080104964737385, 0.6179522305006695, 0.07270026241184346, 0.45775310033256716, 0.0653933000475096, 0.5231464003800768, 0.8166605120009363, 0.33335571901030014, 0.1481580973379112, 0.5185533406826891, 0.2636863609549469, 0.3835437977526501, 0.3356008230335688, 0.2434587011885405, 0.3558242555832515, 0.3932794403814885, 0.9389057127262914, 0.3733828627989781, 0.3340794035569804, 0.27512421469398385, 0.3282742743739463, 0.3517224368292282, 0.3282742743739463, 0.5091453239851642, 0.2679712231500864, 0.21437697852006912, 0.43173569193337813, 0.23985316218521005, 0.3357944270592941, 0.5488509440310674, 0.25613044054783146, 0.18295031467702247, 0.19331957815527956, 0.28997936723291934, 0.5316288399270188, 0.8753371052837113, 0.9114698296800534, 0.4765720376015195, 0.4765720376015195, 0.22185591761319173, 0.2662271011358301, 0.48808301874902177, 0.37803478335630836, 0.2617163884774443, 0.37803478335630836, 0.7026787757585701, 0.23422625858619003, 0.07807541952873001, 0.3167146561339151, 0.518260346400952, 0.17275344880031732, 0.2487797152462018, 0.7463391457386054, 0.11679156425729345, 0.4087704749005271, 0.5255620391578205, 0.4540943172239914, 0.28679641087831037, 0.23899700906525864, 0.3089214555640363, 0.3530530920731843, 0.3530530920731843, 0.40438935585438235, 0.21567432312233725, 0.3774300654640902, 0.15538140573409076, 0.7769070286704538, 0.8753120357013414, 0.9571277497487415, 0.875383941012252, 0.8715413641482561, 0.34449664626524984, 0.4090897674399842, 0.23684144430735926, 0.41988860394300104, 0.19889460186773733, 0.3756898035279483, 0.4089153224345245, 0.3903282623238643, 0.20445766121726225, 0.17144419297370356, 0.25716628946055536, 0.6000546754079625, 0.2733148031825577, 0.5856745782483379, 0.1561798875328901, 0.8702743686265354, 0.23881851307583302, 0.15921234205055534, 0.5572431971769437, 0.4733868632960096, 0.5207255496256106, 0.8754292091862145, 0.4092930148816601, 0.28335670261038004, 0.31484078067820004, 0.18669270079076764, 0.7467708031630705, 0.8432488648483641, 0.8193142057730676, 0.1365523676288446, 0.3420707424401936, 0.3420707424401936, 0.3230668123046273, 0.8420739636763361, 0.202595344038247, 0.6483051009223904, 0.1620762752305976, 0.05766303630199115, 0.6919564356238939, 0.2306521452079646, 0.635783951296741, 0.36330511502670915, 0.6694950389586007, 0.18258955607961838, 0.12172637071974558, 0.23327814167394872, 0.2915976770924359, 0.46655628334789745, 0.34331150428948265, 0.4119738051473792, 0.24031805300263787, 0.4041729065117223, 0.33681075542643524, 0.2694486043411482, 0.8166005927377324, 0.1600788800090046, 0.800394400045023], \"Term\": [\"Amazon\", \"Amazon\", \"Amazon\", \"Asia\", \"Asia\", \"Asia\", \"Australia\", \"Australia\", \"Australia\", \"China\", \"China\", \"City\", \"City\", \"City\", \"Congress\", \"Congress\", \"David\", \"Emergency\", \"Emergency\", \"Hayat\", \"Island\", \"Island\", \"LGBTQ\", \"Last year\", \"London\", \"Long\", \"Management\", \"Ontario\", \"Security Council\", \"Sheriff\", \"South\", \"South\", \"South\", \"Station\", \"Turkey\", \"achievement\", \"active\", \"active\", \"active\", \"ahead\", \"ahead\", \"ahead\", \"analysis\", \"argument\", \"attack\", \"attack\", \"attack\", \"attempt\", \"away\", \"away\", \"away\", \"awful\", \"ban\", \"ban\", \"ban\", \"biological\", \"biological\", \"biological\", \"bird\", \"blanket\", \"blood\", \"break\", \"break\", \"break\", \"build\", \"build\", \"build\", \"building\", \"building\", \"building\", \"burn\", \"burn\", \"burn\", \"business\", \"business\", \"business\", \"buy\", \"buy\", \"buy\", \"carry\", \"carry\", \"carry\", \"cartridge\", \"cartridge\", \"climate_change\", \"climate_change\", \"climate_change\", \"close\", \"close\", \"close\", \"cold\", \"cold\", \"cold\", \"college\", \"commitment\", \"commitment\", \"commitment\", \"conservation\", \"control\", \"control\", \"control\", \"conventional\", \"cost\", \"cost\", \"cost\", \"couple\", \"couple\", \"couple\", \"cover\", \"cover\", \"cover\", \"creation\", \"curb\", \"customer\", \"customer\", \"customer\", \"cycle\", \"cycle\", \"cycle\", \"damage\", \"damage\", \"damage\", \"dark\", \"deal\", \"deal\", \"deal\", \"death\", \"death\", \"death\", \"defensive\", \"demilitarize\", \"demilitarize\", \"department\", \"department\", \"department\", \"detail\", \"different\", \"different\", \"different\", \"disaster\", \"disaster\", \"disaster\", \"discuss\", \"discuss\", \"dispatch\", \"distraction\", \"document\", \"draw\", \"draw\", \"drill\", \"drive\", \"drive\", \"drive\", \"dust\", \"dynamic\", \"dynamic\", \"early\", \"early\", \"early\", \"earthquake\", \"earthquake\", \"earthquake\", \"electric\", \"eliminate\", \"eliminate\", \"emergency\", \"emergency\", \"emergency\", \"emergency_service\", \"emergency_service\", \"emergency_service\", \"emotional\", \"end\", \"end\", \"end\", \"escalate\", \"escape\", \"escape\", \"essential\", \"essential\", \"essential\", \"exact\", \"example\", \"example\", \"example\", \"exposure\", \"exposure\", \"extend\", \"extend\", \"extinguish\", \"extinguish\", \"extinguish\", \"facility\", \"facility\", \"facility\", \"family\", \"family\", \"family\", \"fantastic\", \"fantastic\", \"far\", \"far\", \"far\", \"fear\", \"fear\", \"fear\", \"fellow\", \"fill\", \"fill\", \"find\", \"find\", \"find\", \"fingerprint\", \"fruit\", \"frustrating\", \"girl\", \"green\", \"hard\", \"hard\", \"hard\", \"health\", \"health\", \"health\", \"heed\", \"home\", \"home\", \"home\", \"hotel\", \"house\", \"house\", \"house\", \"important\", \"important\", \"important\", \"include\", \"include\", \"include\", \"increase\", \"increase\", \"increase\", \"induce\", \"influence\", \"influence\", \"invest\", \"invest\", \"issue\", \"issue\", \"issue\", \"kind\", \"kind\", \"kind\", \"landslide\", \"landslide\", \"landslide\", \"lead\", \"lead\", \"lead\", \"leave\", \"leave\", \"leave\", \"little\", \"little\", \"little\", \"live\", \"live\", \"live\", \"livestock\", \"living\", \"living\", \"local\", \"local\", \"local\", \"love\", \"love\", \"love\", \"market\", \"market\", \"market\", \"massive\", \"massive\", \"meal\", \"meal\", \"misery\", \"miss\", \"miss\", \"month\", \"month\", \"month\", \"moon\", \"mutual\", \"nervous\", \"night\", \"night\", \"night\", \"normal\", \"normal\", \"normal\", \"obligation\", \"obligation\", \"old\", \"old\", \"old\", \"open\", \"open\", \"open\", \"operation\", \"operation\", \"operation\", \"pain\", \"pain\", \"pandemic\", \"pandemic\", \"pandemic\", \"park\", \"park\", \"particular\", \"particular\", \"particular\", \"passionate\", \"patient\", \"patient\", \"personnel\", \"personnel\", \"pick\", \"pick\", \"pick\", \"play\", \"play\", \"play\", \"pool\", \"pool\", \"possible\", \"possible\", \"possible\", \"possibly\", \"possibly\", \"possibly\", \"prescribe\", \"product\", \"product\", \"product\", \"property\", \"property\", \"property\", \"protect\", \"protect\", \"protect\", \"protest\", \"protest\", \"public\", \"public\", \"public\", \"quarter\", \"quarter\", \"rain\", \"rain\", \"rain\", \"read\", \"read\", \"ready\", \"ready\", \"ready\", \"real\", \"real\", \"real\", \"recent\", \"recent\", \"recent\", \"recover\", \"recover\", \"recover\", \"reinforce\", \"remain\", \"remain\", \"remain\", \"result\", \"result\", \"result\", \"road\", \"road\", \"road\", \"rocket\", \"run\", \"run\", \"run\", \"safe\", \"safe\", \"safe\", \"safety\", \"safety\", \"safety\", \"season\", \"season\", \"season\", \"second\", \"second\", \"second\", \"serve\", \"serve\", \"serve\", \"session\", \"shelf\", \"shelter\", \"shelter\", \"sign\", \"sign\", \"sign\", \"significant\", \"significant\", \"significant\", \"simply\", \"simply\", \"simply\", \"smoke\", \"smoke\", \"smoke\", \"snow_ice\", \"snow_ice\", \"source\", \"source\", \"source\", \"spread\", \"spread\", \"spread\", \"state\", \"state\", \"state\", \"strong\", \"strong\", \"strong\", \"substance\", \"substance\", \"successful\", \"superstorm\", \"supplier\", \"suppress\", \"sure\", \"sure\", \"sure\", \"team\", \"team\", \"team\", \"tell\", \"tell\", \"tell\", \"terrible\", \"terrible\", \"terrible\", \"thank\", \"thank\", \"thank\", \"theft\", \"tomorrow\", \"tomorrow\", \"tomorrow\", \"training\", \"training\", \"trend\", \"try\", \"try\", \"try\", \"uniform\", \"uniform\", \"union\", \"unusual\", \"unusual\", \"use\", \"use\", \"use\", \"valley\", \"vehicle\", \"vehicle\", \"vehicle\", \"victim\", \"victim\", \"victim\", \"virus\", \"virus\", \"walk\", \"walk\", \"walk\", \"warning\", \"warning\", \"warning\", \"week\", \"week\", \"week\", \"wildfire\", \"wildfire\", \"wildfire\", \"withstand\", \"wood\", \"wood\"]}, \"R\": 30, \"lambda.step\": 0.01, \"plot.opts\": {\"xlab\": \"PC1\", \"ylab\": \"PC2\"}, \"topic.order\": [3, 1, 2]};\n",
       "\n",
       "function LDAvis_load_lib(url, callback){\n",
       "  var s = document.createElement('script');\n",
       "  s.src = url;\n",
       "  s.async = true;\n",
       "  s.onreadystatechange = s.onload = callback;\n",
       "  s.onerror = function(){console.warn(\"failed to load library \" + url);};\n",
       "  document.getElementsByTagName(\"head\")[0].appendChild(s);\n",
       "}\n",
       "\n",
       "if(typeof(LDAvis) !== \"undefined\"){\n",
       "   // already loaded: just create the visualization\n",
       "   !function(LDAvis){\n",
       "       new LDAvis(\"#\" + \"ldavis_el2091461404537050060162113510650\", ldavis_el2091461404537050060162113510650_data);\n",
       "   }(LDAvis);\n",
       "}else if(typeof define === \"function\" && define.amd){\n",
       "   // require.js is available: use it to load d3/LDAvis\n",
       "   require.config({paths: {d3: \"https://d3js.org/d3.v5\"}});\n",
       "   require([\"d3\"], function(d3){\n",
       "      window.d3 = d3;\n",
       "      LDAvis_load_lib(\"https://cdn.jsdelivr.net/gh/bmabey/pyLDAvis@3.3.1/pyLDAvis/js/ldavis.v3.0.0.js\", function(){\n",
       "        new LDAvis(\"#\" + \"ldavis_el2091461404537050060162113510650\", ldavis_el2091461404537050060162113510650_data);\n",
       "      });\n",
       "    });\n",
       "}else{\n",
       "    // require.js not available: dynamically load d3 & LDAvis\n",
       "    LDAvis_load_lib(\"https://d3js.org/d3.v5.js\", function(){\n",
       "         LDAvis_load_lib(\"https://cdn.jsdelivr.net/gh/bmabey/pyLDAvis@3.3.1/pyLDAvis/js/ldavis.v3.0.0.js\", function(){\n",
       "                 new LDAvis(\"#\" + \"ldavis_el2091461404537050060162113510650\", ldavis_el2091461404537050060162113510650_data);\n",
       "            })\n",
       "         });\n",
       "}\n",
       "</script>"
      ],
      "text/plain": [
       "<IPython.core.display.HTML object>"
      ]
     },
     "execution_count": 16,
     "metadata": {},
     "output_type": "execute_result"
    }
   ],
   "source": [
    "\n",
    "import pyLDAvis.gensim_models\n",
    "# plot topics\n",
    "data =  pyLDAvis.gensim_models.prepare(model, corpus, dictionary)\n",
    "pyLDAvis.display(data)"
   ]
  },
  {
   "cell_type": "code",
   "execution_count": null,
   "metadata": {},
   "outputs": [],
   "source": []
  }
 ],
 "metadata": {
  "interpreter": {
   "hash": "e7370f93d1d0cde622a1f8e1c04877d8463912d04d973331ad4851f04de6915a"
  },
  "kernelspec": {
   "display_name": "Python 3.10.1 64-bit",
   "language": "python",
   "name": "python3"
  },
  "language_info": {
   "codemirror_mode": {
    "name": "ipython",
    "version": 3
   },
   "file_extension": ".py",
   "mimetype": "text/x-python",
   "name": "python",
   "nbconvert_exporter": "python",
   "pygments_lexer": "ipython3",
   "version": "3.10.1"
  },
  "orig_nbformat": 4
 },
 "nbformat": 4,
 "nbformat_minor": 2
}
