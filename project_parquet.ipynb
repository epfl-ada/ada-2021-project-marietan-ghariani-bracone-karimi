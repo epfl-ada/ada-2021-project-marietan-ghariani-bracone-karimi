{
 "cells": [
  {
   "cell_type": "code",
   "execution_count": 1,
   "metadata": {},
   "outputs": [],
   "source": [
    "import numpy as np\n",
    "import pandas as pd\n",
    "import matplotlib.pyplot as plt\n",
    "import math\n",
    "import seaborn as sns\n",
    "import time\n",
    "from pathlib import Path\n",
    "from glob import glob\n",
    "from datetime import datetime\n",
    "import spacy\n",
    "\n",
    "nlp = spacy.load(\"en_core_web_sm\")\n"
   ]
  },
  {
   "cell_type": "code",
   "execution_count": 2,
   "metadata": {},
   "outputs": [
    {
     "name": "stdout",
     "output_type": "stream",
     "text": [
      "Number of quotes: 1480711\n"
     ]
    }
   ],
   "source": [
    "if Path(\"./data/df_quotes.pickle\").is_file():\n",
    "    df_quotes = pd.read_pickle(\"./data/df_quotes.pickle\")\n",
    "else:\n",
    "    df_quotes = pd.read_json(\n",
    "        \"data/natural_disaster_quotes.json.bz2\", lines=True, compression=\"bz2\"\n",
    "    )\n",
    "    df_quotes.to_pickle(\"./data/df_quotes.pickle\")\n",
    "\n",
    "print(f\"Number of quotes: %d\" % len(df_quotes.index))\n"
   ]
  },
  {
   "cell_type": "code",
   "execution_count": 3,
   "metadata": {},
   "outputs": [],
   "source": [
    "# Turn the parquets into exploded pickles\n",
    "files = sorted(glob(\"data/speaker_attributes.parquet/part*\"))\n",
    "for (i, f) in enumerate(files):\n",
    "    if Path(\"data/speaker_chunks/chunk_\" + str(i) + \".pickle\").is_file():\n",
    "        continue\n",
    "    else:\n",
    "        chunk = pd.read_parquet(f, engine=\"pyarrow\").explode(\"aliases\")\n",
    "        chunk = chunk[chunk.aliases.isin(df_quotes.speaker)]\n",
    "        chunk.to_pickle(\"data/speaker_chunks/chunk_\" + str(i) + \".pickle\")\n"
   ]
  },
  {
   "cell_type": "code",
   "execution_count": 4,
   "metadata": {},
   "outputs": [
    {
     "data": {
      "text/html": [
       "<div>\n",
       "<style scoped>\n",
       "    .dataframe tbody tr th:only-of-type {\n",
       "        vertical-align: middle;\n",
       "    }\n",
       "\n",
       "    .dataframe tbody tr th {\n",
       "        vertical-align: top;\n",
       "    }\n",
       "\n",
       "    .dataframe thead th {\n",
       "        text-align: right;\n",
       "    }\n",
       "</style>\n",
       "<table border=\"1\" class=\"dataframe\">\n",
       "  <thead>\n",
       "    <tr style=\"text-align: right;\">\n",
       "      <th></th>\n",
       "      <th>aliases</th>\n",
       "      <th>date_of_birth</th>\n",
       "      <th>nationality</th>\n",
       "      <th>gender</th>\n",
       "      <th>lastrevid</th>\n",
       "      <th>ethnic_group</th>\n",
       "      <th>US_congress_bio_ID</th>\n",
       "      <th>occupation</th>\n",
       "      <th>party</th>\n",
       "      <th>academic_degree</th>\n",
       "      <th>id</th>\n",
       "      <th>label</th>\n",
       "      <th>candidacy</th>\n",
       "      <th>type</th>\n",
       "      <th>religion</th>\n",
       "    </tr>\n",
       "  </thead>\n",
       "  <tbody>\n",
       "    <tr>\n",
       "      <th>3</th>\n",
       "      <td>President George W. Bush</td>\n",
       "      <td>[+1946-07-06T00:00:00Z]</td>\n",
       "      <td>[Q30]</td>\n",
       "      <td>[Q6581097]</td>\n",
       "      <td>1395142029</td>\n",
       "      <td>None</td>\n",
       "      <td>None</td>\n",
       "      <td>[Q82955, Q15982858, Q18814623, Q1028181, Q1408...</td>\n",
       "      <td>[Q29468]</td>\n",
       "      <td>None</td>\n",
       "      <td>Q207</td>\n",
       "      <td>George W. Bush</td>\n",
       "      <td>[Q327959, Q464075, Q3586276, Q4450587]</td>\n",
       "      <td>item</td>\n",
       "      <td>[Q329646, Q682443, Q33203]</td>\n",
       "    </tr>\n",
       "    <tr>\n",
       "      <th>3</th>\n",
       "      <td>George Bush</td>\n",
       "      <td>[+1946-07-06T00:00:00Z]</td>\n",
       "      <td>[Q30]</td>\n",
       "      <td>[Q6581097]</td>\n",
       "      <td>1395142029</td>\n",
       "      <td>None</td>\n",
       "      <td>None</td>\n",
       "      <td>[Q82955, Q15982858, Q18814623, Q1028181, Q1408...</td>\n",
       "      <td>[Q29468]</td>\n",
       "      <td>None</td>\n",
       "      <td>Q207</td>\n",
       "      <td>George W. Bush</td>\n",
       "      <td>[Q327959, Q464075, Q3586276, Q4450587]</td>\n",
       "      <td>item</td>\n",
       "      <td>[Q329646, Q682443, Q33203]</td>\n",
       "    </tr>\n",
       "  </tbody>\n",
       "</table>\n",
       "</div>"
      ],
      "text/plain": [
       "                    aliases            date_of_birth nationality      gender  \\\n",
       "3  President George W. Bush  [+1946-07-06T00:00:00Z]       [Q30]  [Q6581097]   \n",
       "3               George Bush  [+1946-07-06T00:00:00Z]       [Q30]  [Q6581097]   \n",
       "\n",
       "    lastrevid ethnic_group US_congress_bio_ID  \\\n",
       "3  1395142029         None               None   \n",
       "3  1395142029         None               None   \n",
       "\n",
       "                                          occupation     party  \\\n",
       "3  [Q82955, Q15982858, Q18814623, Q1028181, Q1408...  [Q29468]   \n",
       "3  [Q82955, Q15982858, Q18814623, Q1028181, Q1408...  [Q29468]   \n",
       "\n",
       "  academic_degree    id           label  \\\n",
       "3            None  Q207  George W. Bush   \n",
       "3            None  Q207  George W. Bush   \n",
       "\n",
       "                                candidacy  type                    religion  \n",
       "3  [Q327959, Q464075, Q3586276, Q4450587]  item  [Q329646, Q682443, Q33203]  \n",
       "3  [Q327959, Q464075, Q3586276, Q4450587]  item  [Q329646, Q682443, Q33203]  "
      ]
     },
     "execution_count": 4,
     "metadata": {},
     "output_type": "execute_result"
    }
   ],
   "source": [
    "# Regroup the chunks into one\n",
    "files = sorted(glob(\"data/speaker_chunks/chunk*\"))\n",
    "chunks = pd.DataFrame()\n",
    "\n",
    "for f in files:\n",
    "    chunk = pd.read_pickle(f)\n",
    "    chunks = chunks.append(chunk)\n",
    "\n",
    "chunks.head(2)\n"
   ]
  },
  {
   "cell_type": "code",
   "execution_count": 5,
   "metadata": {},
   "outputs": [
    {
     "data": {
      "text/html": [
       "<div>\n",
       "<style scoped>\n",
       "    .dataframe tbody tr th:only-of-type {\n",
       "        vertical-align: middle;\n",
       "    }\n",
       "\n",
       "    .dataframe tbody tr th {\n",
       "        vertical-align: top;\n",
       "    }\n",
       "\n",
       "    .dataframe thead th {\n",
       "        text-align: right;\n",
       "    }\n",
       "</style>\n",
       "<table border=\"1\" class=\"dataframe\">\n",
       "  <thead>\n",
       "    <tr style=\"text-align: right;\">\n",
       "      <th></th>\n",
       "      <th>Label</th>\n",
       "      <th>Description</th>\n",
       "    </tr>\n",
       "    <tr>\n",
       "      <th>QID</th>\n",
       "      <th></th>\n",
       "      <th></th>\n",
       "    </tr>\n",
       "  </thead>\n",
       "  <tbody>\n",
       "    <tr>\n",
       "      <th>Q31</th>\n",
       "      <td>Belgium</td>\n",
       "      <td>country in western Europe</td>\n",
       "    </tr>\n",
       "    <tr>\n",
       "      <th>Q45</th>\n",
       "      <td>Portugal</td>\n",
       "      <td>country in southwestern Europe</td>\n",
       "    </tr>\n",
       "    <tr>\n",
       "      <th>Q75</th>\n",
       "      <td>Internet</td>\n",
       "      <td>global system of connected computer networks</td>\n",
       "    </tr>\n",
       "    <tr>\n",
       "      <th>Q148</th>\n",
       "      <td>People's Republic of China</td>\n",
       "      <td>sovereign state in East Asia</td>\n",
       "    </tr>\n",
       "    <tr>\n",
       "      <th>Q155</th>\n",
       "      <td>Brazil</td>\n",
       "      <td>country in South America</td>\n",
       "    </tr>\n",
       "  </tbody>\n",
       "</table>\n",
       "</div>"
      ],
      "text/plain": [
       "                           Label                                   Description\n",
       "QID                                                                           \n",
       "Q31                      Belgium                     country in western Europe\n",
       "Q45                     Portugal                country in southwestern Europe\n",
       "Q75                     Internet  global system of connected computer networks\n",
       "Q148  People's Republic of China                  sovereign state in East Asia\n",
       "Q155                      Brazil                      country in South America"
      ]
     },
     "execution_count": 5,
     "metadata": {},
     "output_type": "execute_result"
    }
   ],
   "source": [
    "# Load the Wikidata nodes\n",
    "df_labels = pd.read_csv(\n",
    "    \"data/wikidata_labels_descriptions_quotebank.csv.bz2\",\n",
    "    compression=\"bz2\",\n",
    "    index_col=\"QID\",\n",
    ")\n",
    "df_labels.head()\n"
   ]
  },
  {
   "cell_type": "code",
   "execution_count": 6,
   "metadata": {},
   "outputs": [
    {
     "name": "stdout",
     "output_type": "stream",
     "text": [
      "nationality\n",
      "occupation\n",
      "party\n",
      "academic_degree\n",
      "candidacy\n",
      "religion\n"
     ]
    }
   ],
   "source": [
    "# Turn the wikinodes into human readable labels\n",
    "cols = [\n",
    "    \"nationality\",\n",
    "    \"occupation\",\n",
    "    \"party\",\n",
    "    \"academic_degree\",\n",
    "    \"candidacy\",\n",
    "    \"religion\",\n",
    "]\n",
    "for col in cols:\n",
    "    print(col)\n",
    "    chunks[col] = chunks[col].apply(\n",
    "        lambda l: [df_labels.loc[q][\"Label\"] for q in l] if l is not None else l\n",
    "    )\n",
    "\n",
    "chunks.head(2)\n",
    "speakers = chunks\n"
   ]
  },
  {
   "cell_type": "code",
   "execution_count": 7,
   "metadata": {},
   "outputs": [
    {
     "data": {
      "image/png": "[encoded data removed]",
      "text/plain": [
       "<Figure size 432x288 with 1 Axes>"
      ]
     },
     "metadata": {
      "needs_background": "light"
     },
     "output_type": "display_data"
    }
   ],
   "source": [
    "# Now to the fun stuff...\n",
    "\n",
    "# Count and display the profession of the speakers\n",
    "speakers.occupation.explode().value_counts().head(10).plot(kind=\"bar\")\n"
   ]
  },
  {
   "cell_type": "code",
   "execution_count": 8,
   "metadata": {},
   "outputs": [
    {
     "data": {
      "image/png": "[encoded data removed]",
      "text/plain": [
       "<Figure size 432x288 with 1 Axes>"
      ]
     },
     "metadata": {
      "needs_background": "light"
     },
     "output_type": "display_data"
    }
   ],
   "source": [
    "# Count and display Political party\n",
    "speakers.nationality.explode().value_counts().head(10).plot(kind=\"bar\")\n"
   ]
  },
  {
   "cell_type": "code",
   "execution_count": 9,
   "metadata": {},
   "outputs": [
    {
     "data": {
      "image/png": "[encoded data removed]",
      "text/plain": [
       "<Figure size 432x288 with 1 Axes>"
      ]
     },
     "metadata": {
      "needs_background": "light"
     },
     "output_type": "display_data"
    }
   ],
   "source": [
    "# Count and display Political party\n",
    "chunks.party.explode().value_counts().head(10).plot(kind=\"bar\")\n"
   ]
  },
  {
   "cell_type": "code",
   "execution_count": 14,
   "metadata": {},
   "outputs": [],
   "source": [
    "# We will need to do matching later.....\n",
    "# Do topic detection on the democrats and the republicans\n",
    "\n",
    "## Get left wingers TODO include more parties than dems\n",
    "democrats = speakers[\n",
    "    speakers.party.apply(lambda l: \"Democratic Party\" in l if l is not None else False)\n",
    "]\n",
    "\n",
    "## Get right wingers TODO include more parties than repubs\n",
    "republicans = speakers[\n",
    "    speakers.party.apply(lambda l: \"Republican Party\" in l if l is not None else False)\n",
    "]\n",
    "\n",
    "## Get lefties quotes\n",
    "left_quotes = df_quotes[df_quotes.speaker.isin(democrats.aliases)]\n",
    "left_book = left_quotes.quotation.str.cat(sep=\"\\n\")\n",
    "with open(\"data/left_book.txt\", \"w\") as f:\n",
    "    f.write(left_book)\n",
    "\n",
    "## Get righties quotes\n",
    "right_quotes = df_quotes[df_quotes.speaker.isin(republicans.aliases)]\n",
    "right_book = right_quotes.quotation.str.cat(sep=\"\\n\")\n",
    "with open(\"data/right_book.txt\", \"w\") as f:\n",
    "    f.write(right_book)\n"
   ]
  },
  {
   "cell_type": "code",
   "execution_count": 52,
   "metadata": {},
   "outputs": [
    {
     "name": "stdout",
     "output_type": "stream",
     "text": [
      "['left_book.txt', 'right_book.txt']\n",
      "left_book.txt :\n",
      "Num of sentences: 35295\n",
      "Num of chunks: 706 \n",
      "\n",
      "right_book.txt :\n",
      "Num of sentences: 32330\n",
      "Num of chunks: 647 \n",
      "\n"
     ]
    }
   ],
   "source": [
    "def get_chunks(l, n):\n",
    "    \"\"\"Yield successive n-sized chunks from l.\"\"\"\n",
    "    for i in range(0, len(l), n):\n",
    "        yield l[i : i + n]\n",
    "\n",
    "\n",
    "# Get the quotes into chunks\n",
    "from nltk.corpus import PlaintextCorpusReader\n",
    "\n",
    "books = PlaintextCorpusReader(\"data\", \".*book.txt\")\n",
    "print(books.fileids())\n",
    "limit = 600\n",
    "size = 50\n",
    "\n",
    "chunks = list()\n",
    "chunk_class = list()\n",
    "book_id = {f: n for n, f in enumerate(books.fileids())}  # dictionary of books\n",
    "\n",
    "for f in books.fileids():\n",
    "    sentences = books.sents(f)\n",
    "    print(f, \":\")\n",
    "    print(\"Num of sentences:\", len(sentences))\n",
    "\n",
    "    chunks_of_sents = [x for x in get_chunks(sentences, size)]\n",
    "    chs = list()\n",
    "\n",
    "    for c in chunks_of_sents:\n",
    "        grouped_chunk = list()\n",
    "        for sent in c:\n",
    "            grouped_chunk.extend(sent)\n",
    "        chs.append(\" \".join(grouped_chunk))\n",
    "    print(\"Num of chunks:\", len(chs), \"\\n\")\n",
    "\n",
    "    # filter to the limit, to have the same number of chunks per book\n",
    "    chunks.extend(chs[:limit])\n",
    "    chunk_class.extend([book_id[f] for _ in range(len(chs[:limit]))])\n"
   ]
  },
  {
   "cell_type": "code",
   "execution_count": 53,
   "metadata": {},
   "outputs": [
    {
     "name": "stdout",
     "output_type": "stream",
     "text": [
      "Number of samples: 1200\n",
      "Number of features: 25608\n"
     ]
    }
   ],
   "source": [
    "from sklearn.feature_extraction.text import CountVectorizer\n",
    "from sklearn.model_selection import train_test_split\n",
    "from sklearn.utils import shuffle\n",
    "\n",
    "vectorizer = CountVectorizer()\n",
    "\n",
    "X = vectorizer.fit_transform(chunks)\n",
    "\n",
    "print(\"Number of samples:\", X.toarray().shape[0])\n",
    "print(\"Number of features:\", X.toarray().shape[1])\n",
    "\n",
    "Y = chunk_class\n",
    "\n",
    "X, Y = shuffle(X, Y, random_state=0)\n",
    "\n",
    "# split into training and test set\n",
    "X_train, X_test, Y_train, Y_test = train_test_split(\n",
    "    X, Y, test_size=0.2, random_state=42\n",
    ")\n"
   ]
  },
  {
   "cell_type": "code",
   "execution_count": 81,
   "metadata": {},
   "outputs": [
    {
     "name": "stderr",
     "output_type": "stream",
     "text": [
      "/usr/lib/python3.10/site-packages/sklearn/linear_model/_logistic.py:814: ConvergenceWarning: lbfgs failed to converge (status=1):\n",
      "STOP: TOTAL NO. of ITERATIONS REACHED LIMIT.\n",
      "\n",
      "Increase the number of iterations (max_iter) or scale the data as shown in:\n",
      "    https://scikit-learn.org/stable/modules/preprocessing.html\n",
      "Please also refer to the documentation for alternative solver options:\n",
      "    https://scikit-learn.org/stable/modules/linear_model.html#logistic-regression\n",
      "  n_iter_i = _check_optimize_result(\n",
      "/usr/lib/python3.10/site-packages/sklearn/linear_model/_logistic.py:814: ConvergenceWarning: lbfgs failed to converge (status=1):\n",
      "STOP: TOTAL NO. of ITERATIONS REACHED LIMIT.\n",
      "\n",
      "Increase the number of iterations (max_iter) or scale the data as shown in:\n",
      "    https://scikit-learn.org/stable/modules/preprocessing.html\n",
      "Please also refer to the documentation for alternative solver options:\n",
      "    https://scikit-learn.org/stable/modules/linear_model.html#logistic-regression\n",
      "  n_iter_i = _check_optimize_result(\n",
      "/usr/lib/python3.10/site-packages/sklearn/linear_model/_logistic.py:814: ConvergenceWarning: lbfgs failed to converge (status=1):\n",
      "STOP: TOTAL NO. of ITERATIONS REACHED LIMIT.\n",
      "\n",
      "Increase the number of iterations (max_iter) or scale the data as shown in:\n",
      "    https://scikit-learn.org/stable/modules/preprocessing.html\n",
      "Please also refer to the documentation for alternative solver options:\n",
      "    https://scikit-learn.org/stable/modules/linear_model.html#logistic-regression\n",
      "  n_iter_i = _check_optimize_result(\n",
      "/usr/lib/python3.10/site-packages/sklearn/linear_model/_logistic.py:814: ConvergenceWarning: lbfgs failed to converge (status=1):\n",
      "STOP: TOTAL NO. of ITERATIONS REACHED LIMIT.\n",
      "\n",
      "Increase the number of iterations (max_iter) or scale the data as shown in:\n",
      "    https://scikit-learn.org/stable/modules/preprocessing.html\n",
      "Please also refer to the documentation for alternative solver options:\n",
      "    https://scikit-learn.org/stable/modules/linear_model.html#logistic-regression\n",
      "  n_iter_i = _check_optimize_result(\n",
      "/usr/lib/python3.10/site-packages/sklearn/linear_model/_logistic.py:814: ConvergenceWarning: lbfgs failed to converge (status=1):\n",
      "STOP: TOTAL NO. of ITERATIONS REACHED LIMIT.\n",
      "\n",
      "Increase the number of iterations (max_iter) or scale the data as shown in:\n",
      "    https://scikit-learn.org/stable/modules/preprocessing.html\n",
      "Please also refer to the documentation for alternative solver options:\n",
      "    https://scikit-learn.org/stable/modules/linear_model.html#logistic-regression\n",
      "  n_iter_i = _check_optimize_result(\n",
      "/usr/lib/python3.10/site-packages/sklearn/linear_model/_logistic.py:814: ConvergenceWarning: lbfgs failed to converge (status=1):\n",
      "STOP: TOTAL NO. of ITERATIONS REACHED LIMIT.\n",
      "\n",
      "Increase the number of iterations (max_iter) or scale the data as shown in:\n",
      "    https://scikit-learn.org/stable/modules/preprocessing.html\n",
      "Please also refer to the documentation for alternative solver options:\n",
      "    https://scikit-learn.org/stable/modules/linear_model.html#logistic-regression\n",
      "  n_iter_i = _check_optimize_result(\n",
      "/usr/lib/python3.10/site-packages/sklearn/linear_model/_logistic.py:814: ConvergenceWarning: lbfgs failed to converge (status=1):\n",
      "STOP: TOTAL NO. of ITERATIONS REACHED LIMIT.\n",
      "\n",
      "Increase the number of iterations (max_iter) or scale the data as shown in:\n",
      "    https://scikit-learn.org/stable/modules/preprocessing.html\n",
      "Please also refer to the documentation for alternative solver options:\n",
      "    https://scikit-learn.org/stable/modules/linear_model.html#logistic-regression\n",
      "  n_iter_i = _check_optimize_result(\n",
      "/usr/lib/python3.10/site-packages/sklearn/linear_model/_logistic.py:814: ConvergenceWarning: lbfgs failed to converge (status=1):\n",
      "STOP: TOTAL NO. of ITERATIONS REACHED LIMIT.\n",
      "\n",
      "Increase the number of iterations (max_iter) or scale the data as shown in:\n",
      "    https://scikit-learn.org/stable/modules/preprocessing.html\n",
      "Please also refer to the documentation for alternative solver options:\n",
      "    https://scikit-learn.org/stable/modules/linear_model.html#logistic-regression\n",
      "  n_iter_i = _check_optimize_result(\n",
      "/usr/lib/python3.10/site-packages/sklearn/linear_model/_logistic.py:814: ConvergenceWarning: lbfgs failed to converge (status=1):\n",
      "STOP: TOTAL NO. of ITERATIONS REACHED LIMIT.\n",
      "\n",
      "Increase the number of iterations (max_iter) or scale the data as shown in:\n",
      "    https://scikit-learn.org/stable/modules/preprocessing.html\n",
      "Please also refer to the documentation for alternative solver options:\n",
      "    https://scikit-learn.org/stable/modules/linear_model.html#logistic-regression\n",
      "  n_iter_i = _check_optimize_result(\n",
      "/usr/lib/python3.10/site-packages/sklearn/linear_model/_logistic.py:814: ConvergenceWarning: lbfgs failed to converge (status=1):\n",
      "STOP: TOTAL NO. of ITERATIONS REACHED LIMIT.\n",
      "\n",
      "Increase the number of iterations (max_iter) or scale the data as shown in:\n",
      "    https://scikit-learn.org/stable/modules/preprocessing.html\n",
      "Please also refer to the documentation for alternative solver options:\n",
      "    https://scikit-learn.org/stable/modules/linear_model.html#logistic-regression\n",
      "  n_iter_i = _check_optimize_result(\n",
      "/usr/lib/python3.10/site-packages/sklearn/linear_model/_logistic.py:814: ConvergenceWarning: lbfgs failed to converge (status=1):\n",
      "STOP: TOTAL NO. of ITERATIONS REACHED LIMIT.\n",
      "\n",
      "Increase the number of iterations (max_iter) or scale the data as shown in:\n",
      "    https://scikit-learn.org/stable/modules/preprocessing.html\n",
      "Please also refer to the documentation for alternative solver options:\n",
      "    https://scikit-learn.org/stable/modules/linear_model.html#logistic-regression\n",
      "  n_iter_i = _check_optimize_result(\n",
      "/usr/lib/python3.10/site-packages/sklearn/linear_model/_logistic.py:814: ConvergenceWarning: lbfgs failed to converge (status=1):\n",
      "STOP: TOTAL NO. of ITERATIONS REACHED LIMIT.\n",
      "\n",
      "Increase the number of iterations (max_iter) or scale the data as shown in:\n",
      "    https://scikit-learn.org/stable/modules/preprocessing.html\n",
      "Please also refer to the documentation for alternative solver options:\n",
      "    https://scikit-learn.org/stable/modules/linear_model.html#logistic-regression\n",
      "  n_iter_i = _check_optimize_result(\n",
      "/usr/lib/python3.10/site-packages/sklearn/linear_model/_logistic.py:814: ConvergenceWarning: lbfgs failed to converge (status=1):\n",
      "STOP: TOTAL NO. of ITERATIONS REACHED LIMIT.\n",
      "\n",
      "Increase the number of iterations (max_iter) or scale the data as shown in:\n",
      "    https://scikit-learn.org/stable/modules/preprocessing.html\n",
      "Please also refer to the documentation for alternative solver options:\n",
      "    https://scikit-learn.org/stable/modules/linear_model.html#logistic-regression\n",
      "  n_iter_i = _check_optimize_result(\n",
      "/usr/lib/python3.10/site-packages/sklearn/linear_model/_logistic.py:814: ConvergenceWarning: lbfgs failed to converge (status=1):\n",
      "STOP: TOTAL NO. of ITERATIONS REACHED LIMIT.\n",
      "\n",
      "Increase the number of iterations (max_iter) or scale the data as shown in:\n",
      "    https://scikit-learn.org/stable/modules/preprocessing.html\n",
      "Please also refer to the documentation for alternative solver options:\n",
      "    https://scikit-learn.org/stable/modules/linear_model.html#logistic-regression\n",
      "  n_iter_i = _check_optimize_result(\n",
      "/usr/lib/python3.10/site-packages/sklearn/linear_model/_logistic.py:814: ConvergenceWarning: lbfgs failed to converge (status=1):\n",
      "STOP: TOTAL NO. of ITERATIONS REACHED LIMIT.\n",
      "\n",
      "Increase the number of iterations (max_iter) or scale the data as shown in:\n",
      "    https://scikit-learn.org/stable/modules/preprocessing.html\n",
      "Please also refer to the documentation for alternative solver options:\n",
      "    https://scikit-learn.org/stable/modules/linear_model.html#logistic-regression\n",
      "  n_iter_i = _check_optimize_result(\n",
      "/usr/lib/python3.10/site-packages/sklearn/linear_model/_logistic.py:814: ConvergenceWarning: lbfgs failed to converge (status=1):\n",
      "STOP: TOTAL NO. of ITERATIONS REACHED LIMIT.\n",
      "\n",
      "Increase the number of iterations (max_iter) or scale the data as shown in:\n",
      "    https://scikit-learn.org/stable/modules/preprocessing.html\n",
      "Please also refer to the documentation for alternative solver options:\n",
      "    https://scikit-learn.org/stable/modules/linear_model.html#logistic-regression\n",
      "  n_iter_i = _check_optimize_result(\n",
      "/usr/lib/python3.10/site-packages/sklearn/linear_model/_logistic.py:814: ConvergenceWarning: lbfgs failed to converge (status=1):\n",
      "STOP: TOTAL NO. of ITERATIONS REACHED LIMIT.\n",
      "\n",
      "Increase the number of iterations (max_iter) or scale the data as shown in:\n",
      "    https://scikit-learn.org/stable/modules/preprocessing.html\n",
      "Please also refer to the documentation for alternative solver options:\n",
      "    https://scikit-learn.org/stable/modules/linear_model.html#logistic-regression\n",
      "  n_iter_i = _check_optimize_result(\n",
      "/usr/lib/python3.10/site-packages/sklearn/linear_model/_logistic.py:814: ConvergenceWarning: lbfgs failed to converge (status=1):\n",
      "STOP: TOTAL NO. of ITERATIONS REACHED LIMIT.\n",
      "\n",
      "Increase the number of iterations (max_iter) or scale the data as shown in:\n",
      "    https://scikit-learn.org/stable/modules/preprocessing.html\n",
      "Please also refer to the documentation for alternative solver options:\n",
      "    https://scikit-learn.org/stable/modules/linear_model.html#logistic-regression\n",
      "  n_iter_i = _check_optimize_result(\n",
      "/usr/lib/python3.10/site-packages/sklearn/linear_model/_logistic.py:814: ConvergenceWarning: lbfgs failed to converge (status=1):\n",
      "STOP: TOTAL NO. of ITERATIONS REACHED LIMIT.\n",
      "\n",
      "Increase the number of iterations (max_iter) or scale the data as shown in:\n",
      "    https://scikit-learn.org/stable/modules/preprocessing.html\n",
      "Please also refer to the documentation for alternative solver options:\n",
      "    https://scikit-learn.org/stable/modules/linear_model.html#logistic-regression\n",
      "  n_iter_i = _check_optimize_result(\n",
      "/usr/lib/python3.10/site-packages/sklearn/linear_model/_logistic.py:814: ConvergenceWarning: lbfgs failed to converge (status=1):\n",
      "STOP: TOTAL NO. of ITERATIONS REACHED LIMIT.\n",
      "\n",
      "Increase the number of iterations (max_iter) or scale the data as shown in:\n",
      "    https://scikit-learn.org/stable/modules/preprocessing.html\n",
      "Please also refer to the documentation for alternative solver options:\n",
      "    https://scikit-learn.org/stable/modules/linear_model.html#logistic-regression\n",
      "  n_iter_i = _check_optimize_result(\n",
      "/usr/lib/python3.10/site-packages/sklearn/linear_model/_logistic.py:814: ConvergenceWarning: lbfgs failed to converge (status=1):\n",
      "STOP: TOTAL NO. of ITERATIONS REACHED LIMIT.\n",
      "\n",
      "Increase the number of iterations (max_iter) or scale the data as shown in:\n",
      "    https://scikit-learn.org/stable/modules/preprocessing.html\n",
      "Please also refer to the documentation for alternative solver options:\n",
      "    https://scikit-learn.org/stable/modules/linear_model.html#logistic-regression\n",
      "  n_iter_i = _check_optimize_result(\n",
      "/usr/lib/python3.10/site-packages/sklearn/linear_model/_logistic.py:814: ConvergenceWarning: lbfgs failed to converge (status=1):\n",
      "STOP: TOTAL NO. of ITERATIONS REACHED LIMIT.\n",
      "\n",
      "Increase the number of iterations (max_iter) or scale the data as shown in:\n",
      "    https://scikit-learn.org/stable/modules/preprocessing.html\n",
      "Please also refer to the documentation for alternative solver options:\n",
      "    https://scikit-learn.org/stable/modules/linear_model.html#logistic-regression\n",
      "  n_iter_i = _check_optimize_result(\n",
      "/usr/lib/python3.10/site-packages/sklearn/linear_model/_logistic.py:814: ConvergenceWarning: lbfgs failed to converge (status=1):\n",
      "STOP: TOTAL NO. of ITERATIONS REACHED LIMIT.\n",
      "\n",
      "Increase the number of iterations (max_iter) or scale the data as shown in:\n",
      "    https://scikit-learn.org/stable/modules/preprocessing.html\n",
      "Please also refer to the documentation for alternative solver options:\n",
      "    https://scikit-learn.org/stable/modules/linear_model.html#logistic-regression\n",
      "  n_iter_i = _check_optimize_result(\n",
      "/usr/lib/python3.10/site-packages/sklearn/linear_model/_logistic.py:814: ConvergenceWarning: lbfgs failed to converge (status=1):\n",
      "STOP: TOTAL NO. of ITERATIONS REACHED LIMIT.\n",
      "\n",
      "Increase the number of iterations (max_iter) or scale the data as shown in:\n",
      "    https://scikit-learn.org/stable/modules/preprocessing.html\n",
      "Please also refer to the documentation for alternative solver options:\n",
      "    https://scikit-learn.org/stable/modules/linear_model.html#logistic-regression\n",
      "  n_iter_i = _check_optimize_result(\n"
     ]
    }
   ],
   "source": [
    "from sklearn.linear_model import LogisticRegression\n",
    "from sklearn.model_selection import cross_val_score\n",
    "from sklearn import preprocessing\n",
    "\n",
    "accs = []\n",
    "\n",
    "scaler = preprocessing.MaxAbsScaler()\n",
    "transformer = preprocessing.FunctionTransformer(np.log1p, validate=True)\n",
    "\n",
    "X_scaled = scaler.fit(X_train).transform(X_train)\n",
    "\n",
    "# the grid of regularization parameter\n",
    "grid = [0.01, 0.1, 1, 10, 100, 1000, 10000]\n",
    "\n",
    "for c in grid:\n",
    "\n",
    "    # initialize the classifier\n",
    "    # Increase max iter by a lot because scaling gave worst results, but this\n",
    "    # causes it to take a lot of time to compute.... using MaxAbsScaler \n",
    "    # gives worse results than to simply increase the number of iterations\n",
    "    clf = LogisticRegression(random_state=0, C=c, max_iter=1000) \n",
    "\n",
    "    # crossvalidate\n",
    "    scores = cross_val_score(clf, X_train, Y_train, cv=10)\n",
    "    accs.append(np.mean(scores))\n"
   ]
  },
  {
   "cell_type": "code",
   "execution_count": 82,
   "metadata": {},
   "outputs": [
    {
     "name": "stdout",
     "output_type": "stream",
     "text": [
      "[0.70625, 0.6989583333333333, 0.6916666666666668, 0.6927083333333333, 0.6927083333333333, 0.6937499999999999, 0.7020833333333334]\n"
     ]
    },
    {
     "data": {
      "text/plain": [
       "Text(0, 0.5, 'Crossvalidation accuracy')"
      ]
     },
     "execution_count": 82,
     "metadata": {},
     "output_type": "execute_result"
    },
    {
     "data": {
      "image/png": "[encoded data removed]",
      "text/plain": [
       "<Figure size 432x288 with 1 Axes>"
      ]
     },
     "metadata": {
      "needs_background": "light"
     },
     "output_type": "display_data"
    }
   ],
   "source": [
    "print(accs)\n",
    "plt.plot(accs)\n",
    "plt.xticks(range(len(grid)), grid)\n",
    "plt.xlabel('Regularization parameter \\n (Low - strong regularization, High - weak regularization)')\n",
    "plt.ylabel('Crossvalidation accuracy')\n"
   ]
  },
  {
   "cell_type": "code",
   "execution_count": 83,
   "metadata": {},
   "outputs": [
    {
     "name": "stdout",
     "output_type": "stream",
     "text": [
      "Accuracy: 0.7375\n"
     ]
    }
   ],
   "source": [
    "clf = LogisticRegression(random_state=0, C = 0.01, max_iter=1000).fit(X_train, Y_train)\n",
    "\n",
    "#predict on the test set\n",
    "print('Accuracy:',clf.score(X_test,Y_test))"
   ]
  },
  {
   "cell_type": "code",
   "execution_count": 86,
   "metadata": {},
   "outputs": [
    {
     "name": "stdout",
     "output_type": "stream",
     "text": [
      "['terrorism' 'panhandle' 'tornado' 'certainly' 'threatening' 'be'\n",
      " 'liberal' 'irma' 'snow' 'probably' 'nuclear' 'hurricane' 'could'\n",
      " 'florida' 'floridians' 'storm' 'surge' 'prepared' 'think' 'biological']\n"
     ]
    }
   ],
   "source": [
    "coefs=clf.coef_[0]\n",
    "top_three = np.argpartition(coefs, -20)[-20:]\n",
    "\n",
    "print(np.array(vectorizer.get_feature_names_out())[top_three])"
   ]
  },
  {
   "cell_type": "markdown",
   "metadata": {},
   "source": [
    "## Topic detection"
   ]
  },
  {
   "cell_type": "code",
   "execution_count": 87,
   "metadata": {},
   "outputs": [
    {
     "name": "stdout",
     "output_type": "stream",
     "text": [
      "left_book.txt\n",
      "Number of sentences: 35295\n",
      "Number of chunks: 706 \n",
      "\n",
      "right_book.txt\n",
      "Number of sentences: 32330\n",
      "Number of chunks: 647 \n",
      "\n"
     ]
    }
   ],
   "source": [
    "# Get the chunks again (into smaller chunks)\n",
    "book_id = {f: n for n, f in enumerate(books.fileids())}  # dictionary of books\n",
    "chunks = list()\n",
    "chunk_class = (\n",
    "    list()\n",
    ")  # this list contains the original book of the chunk, for evaluation\n",
    "\n",
    "limit = 60  # how many chunks total\n",
    "size = 50  # how many sentences per chunk/page\n",
    "\n",
    "for f in books.fileids():\n",
    "    sentences = books.sents(f)\n",
    "    print(f)\n",
    "    print(\"Number of sentences:\", len(sentences))\n",
    "\n",
    "    # create chunks\n",
    "    chunks_of_sents = [\n",
    "        x for x in get_chunks(sentences, size)\n",
    "    ]  # this is a list of lists of sentences, which are a list of tokens\n",
    "    chs = list()\n",
    "\n",
    "    # regroup so to have a list of chunks which are strings\n",
    "    for c in chunks_of_sents:\n",
    "        grouped_chunk = list()\n",
    "        for s in c:\n",
    "            grouped_chunk.extend(s)\n",
    "        chs.append(\" \".join(grouped_chunk))\n",
    "    print(\"Number of chunks:\", len(chs), \"\\n\")\n",
    "\n",
    "    # filter to the limit, to have the same number of chunks per book\n",
    "    chunks.extend(chs[:limit])\n",
    "    chunk_class.extend([book_id[f] for _ in range(len(chs[:limit]))])\n"
   ]
  },
  {
   "cell_type": "code",
   "execution_count": null,
   "metadata": {},
   "outputs": [],
   "source": [
    "STOP_WORDS = spacy.lang.en.stop_words.STOP_WORDS\n",
    "\n",
    "processed_docs = list()\n",
    "for doc in nlp.pipe(chunks, batch_size = 10):\n",
    "    ents = doc.ents\n",
    "    \n",
    "    doc = [token.lemma_ for token in doc if token.is_alpha and not token.is_stop]\n",
    "    doc = [token for token in doc if token not in STOP_WORDS and len(token) > 2]\n",
    "    doc.extend([str(entity) for entity in ents if len(entity) > 1])\n",
    "\n",
    "    processed_docs.append(doc)\n",
    "docs = processed_docs\n",
    "# print(docs)\n",
    "del(processed_docs)\n"
   ]
  },
  {
   "cell_type": "code",
   "execution_count": 101,
   "metadata": {},
   "outputs": [],
   "source": [
    "from gensim.models.phrases import Phrases\n",
    "\n",
    "bigrams = Phrases(docs)\n",
    "\n",
    "for idx in range(len(docs)):\n",
    "    for token in bigrams[docs[idx]]:\n",
    "        if '_' in token:\n",
    "            docs[idx].append(token)"
   ]
  },
  {
   "cell_type": "code",
   "execution_count": 115,
   "metadata": {},
   "outputs": [
    {
     "name": "stdout",
     "output_type": "stream",
     "text": [
      "Number of unique tokens: 4048\n",
      "Number of chunks: 120\n"
     ]
    }
   ],
   "source": [
    "from gensim.corpora import Dictionary\n",
    "dictionary = Dictionary(docs)\n",
    "\n",
    "max_freq = 0.6\n",
    "min_wordcount = 3\n",
    "\n",
    "dictionary.filter_extremes(no_below=min_wordcount, no_above=max_freq)\n",
    "\n",
    "corpus = [dictionary.doc2bow(doc) for doc in docs]\n",
    "\n",
    "print('Number of unique tokens: %d' % len(dictionary))\n",
    "print('Number of chunks: %d' % len(corpus))"
   ]
  },
  {
   "cell_type": "code",
   "execution_count": 124,
   "metadata": {},
   "outputs": [],
   "source": [
    "# models\n",
    "from gensim.models import LdaMulticore\n",
    "\n",
    "params = {\"passes\": 10, \"random_state\": 0}\n",
    "base_models = dict()\n",
    "model = LdaMulticore(\n",
    "    corpus=corpus,\n",
    "    num_topics=3,\n",
    "    id2word=dictionary,\n",
    "    workers=6,\n",
    "    passes=params[\"passes\"],\n",
    "    random_state=params[\"random_state\"],\n",
    ")\n"
   ]
  },
  {
   "cell_type": "code",
   "execution_count": 125,
   "metadata": {},
   "outputs": [
    {
     "data": {
      "text/plain": [
       "[(0,\n",
       "  '0.003*\"Comey\" + 0.003*\"disaster\" + 0.003*\"leave\" + 0.003*\"public\" + 0.002*\"government\" + 0.002*\"investigation\" + 0.002*\"protect\" + 0.002*\"new\" + 0.002*\"area\" + 0.002*\"Soleimani\" + 0.002*\"cause\" + 0.002*\"James\" + 0.002*\"threat\" + 0.002*\"James Comey\" + 0.002*\"stand\" + 0.002*\"chemical\" + 0.002*\"Democrats\" + 0.002*\"power\" + 0.002*\"border\" + 0.002*\"close\"'),\n",
       " (1,\n",
       "  '0.003*\"border\" + 0.003*\"ceasefire\" + 0.003*\"fight\" + 0.003*\"firefighter\" + 0.003*\"money\" + 0.003*\"firearm\" + 0.003*\"talk\" + 0.003*\"threat\" + 0.003*\"job\" + 0.003*\"area\" + 0.002*\"place\" + 0.002*\"cease\" + 0.002*\"Russia\" + 0.002*\"president\" + 0.002*\"State\" + 0.002*\"start\" + 0.002*\"tornado\" + 0.002*\"today\" + 0.002*\"end\" + 0.002*\"Hurricane\"'),\n",
       " (2,\n",
       "  '0.008*\"Soleimani\" + 0.004*\"Iran\" + 0.004*\"military\" + 0.003*\"Democrats\" + 0.003*\"Americans\" + 0.003*\"strike\" + 0.003*\"job\" + 0.003*\"ago\" + 0.003*\"administration\" + 0.003*\"deal\" + 0.002*\"today\" + 0.002*\"action\" + 0.002*\"night\" + 0.002*\"seek\" + 0.002*\"fund\" + 0.002*\"Afghanistan\" + 0.002*\"pay\" + 0.002*\"harm\" + 0.002*\"future\" + 0.002*\"terrorism\"')]"
      ]
     },
     "execution_count": 125,
     "metadata": {},
     "output_type": "execute_result"
    }
   ],
   "source": [
    "model.show_topics(num_words=20)"
   ]
  },
  {
   "cell_type": "code",
   "execution_count": 126,
   "metadata": {},
   "outputs": [
    {
     "data": {
      "text/plain": [
       "[(0, 0.95422786), (2, 0.045236453)]"
      ]
     },
     "execution_count": 126,
     "metadata": {},
     "output_type": "execute_result"
    }
   ],
   "source": [
    "sorted(model[corpus[0]], key=lambda x: x[1], reverse=True)"
   ]
  },
  {
   "cell_type": "code",
   "execution_count": 127,
   "metadata": {},
   "outputs": [
    {
     "data": {
      "text/html": [
       "\n",
       "<link rel=\"stylesheet\" type=\"text/css\" href=\"https://cdn.jsdelivr.net/gh/bmabey/pyLDAvis@3.3.1/pyLDAvis/js/ldavis.v1.0.0.css\">\n",
       "\n",
       "\n",
       "<div id=\"ldavis_el749851398083616932489353129129\"></div>\n",
       "<script type=\"text/javascript\">\n",
       "\n",
       "var ldavis_el749851398083616932489353129129_data = {\"mdsDat\": {\"x\": [-0.08890449561885864, 0.08945540193740209, -0.000550906318543436], \"y\": [-0.029940736104262088, -0.029390956615869736, 0.0593316927201318], \"topics\": [1, 2, 3], \"cluster\": [1, 1, 1], \"Freq\": [39.59901954011414, 37.482643859391914, 22.918336600493948]}, \"tinfo\": {\"Term\": [\"Soleimani\", \"investigation\", \"seek\", \"cease\", \"Comey\", \"terrorist_world\", \"ceasefire\", \"James Comey\", \"James\", \"disaster\", \"Iran\", \"strike\", \"fund\", \"FBI\", \"Dorian\", \"Turkey\", \"Hurricane\", \"percent\", \"approve\", \"Hillary\", \"pandemic\", \"news\", \"Russia\", \"drought\", \"harm\", \"listen\", \"dollar\", \"fake\", \"coronavirus\", \"message_terrorist\", \"Qassem\", \"Qassem Soleimani\", \"wicked\", \"wicked_murderer\", \"destabilize\", \"Qassem_Soleimani\", \"strike_kill\", \"flawless_precision\", \"cooperation_terrorist\", \"pay_fund\", \"bloodshed\", \"Iran_seek\", \"include_use\", \"Molson\", \"fire_Molson\", \"Coors\", \"blood\", \"night_ally\", \"Phil\", \"attack_american\", \"overwhelmingly\", \"bloodshed_abroad\", \"message_terrorist\", \"warlord\", \"warlord_plunder\", \"aggression_region\", \"nation_finance\", \"aggression\", \"missile_fire\", \"proxy_fighter\", \"Suleimani\", \"pandemic_specialist\", \"available_administration\", \"Molson Coors\", \"people_minute\", \"terrorist_world\", \"Soleimani\", \"pandemic\", \"seek\", \"two years ago\", \"flawless\", \"murderer\", \"last night\", \"army\", \"Iran\", \"approve\", \"regime\", \"peaceful\", \"terminate\", \"precision\", \"administration\", \"fund\", \"harm\", \"iranian\", \"strike\", \"war\", \"coronavirus\", \"ago\", \"death\", \"military\", \"Democrats\", \"India\", \"Iraq\", \"target\", \"action\", \"guy\", \"ally\", \"Americans\", \"pay\", \"deal\", \"missile\", \"night\", \"Obama\", \"Afghanistan\", \"future\", \"create\", \"job\", \"terrorism\", \"today\", \"Pakistan\", \"end\", \"plan\", \"government\", \"protect\", \"prosecutor\", \"Jim\", \"circumstance\", \"Billions of dollars\", \"Hamza_bin\", \"Hamza\", \"accept\", \"check\", \"unique\", \"fire_prosecutor\", \"Israel_anti\", \"anti - USA\", \"90 percent\", \"horrible_anti\", \"USA_pro\", \"background_check\", \"television\", \"San Juan\", \"Mayor_San\", \"illegal_immigrant\", \"cat\", \"Juan\", \"ceasefire_hold\", \"send_money\", \"category\", \"regardless\", \"shut\", \"pause\", \"defense\", \"sort\", \"tropical\", \"incompetent\", \"tropical_storm\", \"cease\", \"investigate\", \"look_like\", \"Dorian\", \"Turkey\", \"Hurricane Dorian\", \"Hurricane_Dorian\", \"important_peace\", \"ceasefire\", \"cease_fire\", \"dollar\", \"money\", \"Mayor\", \"FEMA\", \"chance\", \"billion_dollar\", \"State\", \"Russia\", \"Secretary\", \"Government\", \"ready\", \"Israel\", \"Hurricane\", \"foreign\", \"fight\", \"firefighter\", \"border\", \"place\", \"Syria\", \"hold\", \"story\", \"talk\", \"firearm\", \"got\", \"threat\", \"ISIS\", \"area\", \"tornado\", \"president\", \"safe\", \"job\", \"start\", \"end\", \"important\", \"didn\", \"today\", \"process\", \"risk\", \"chemical\", \"government\", \"nation\", \"community\", \"public\", \"Crooked\", \"Crooked_Hillary\", \"approval\", \"Major\", \"Nancy_Pelosi\", \"Hillary Clinton\", \"Nancy\", \"apart\", \"lose_home\", \"forever_remain\", \"Supreme_Court\", \"Supreme\", \"Emmet\", \"Lyin_James\", \"leader_distant\", \"retired\", \"Lyin\", \"weren\", \"retired_police\", \"Britain\", \"snow_tire\", \"officer_train\", \"alcohol\", \"Crooked Hillary\", \"presidential_candidate\", \"Japan\", \"candle\", \"thank_Adam\", \"presidential\", \"Parish\", \"wouldn_stand\", \"fake\", \"Clinton\", \"Hillary\", \"way_possible\", \"investigation\", \"James Comey\", \"river\", \"insurance\", \"James\", \"news\", \"South_Carolina\", \"Comey\", \"contact\", \"disaster\", \"ask\", \"truth\", \"new\", \"leave\", \"South\", \"cause\", \"drought\", \"child\", \"line\", \"FBI\", \"protect\", \"stand\", \"public\", \"close\", \"government\", \"possible\", \"area\", \"turn\", \"ensure\", \"away\", \"allow\", \"play\", \"threat\", \"power\", \"high\", \"win\", \"chemical\", \"Democrats\", \"Soleimani\", \"border\", \"talk\", \"military\", \"firearm\", \"president\"], \"Freq\": [199.0, 51.0, 60.0, 57.0, 79.0, 45.0, 90.0, 45.0, 54.0, 76.0, 136.0, 85.0, 70.0, 44.0, 37.0, 48.0, 67.0, 30.0, 51.0, 20.0, 33.0, 36.0, 72.0, 55.0, 66.0, 36.0, 43.0, 18.0, 37.0, 25.0, 20.983244652076202, 15.472831038024456, 17.260805044905428, 15.30788394043364, 11.702024408571493, 15.271655531174462, 11.686810933532849, 11.68086510274067, 11.66741321463108, 20.606099148548036, 11.664839853998554, 11.66030987812132, 11.654841486777203, 13.416591783708517, 13.404948339980447, 13.404003592425395, 16.075910513149598, 18.697372220254028, 9.807521883143883, 14.230066286060024, 10.683421909933912, 9.77545935469213, 23.92710209555065, 9.767907073131074, 9.764697970846221, 9.764069194490883, 9.763163072673672, 9.762607748541113, 23.893157037285786, 9.756836683382442, 20.14111111866463, 11.501969681327692, 16.602400849016256, 11.485256767810252, 13.180375767340143, 40.50123903580869, 169.87598489145662, 30.16559693730304, 52.074601744842084, 13.113160651409393, 28.438388181342262, 23.30974882727138, 29.195685663861983, 17.88288964946576, 97.82447067271896, 41.153005936877456, 42.87017706667022, 16.220786157657297, 23.12575860771635, 29.97041158586242, 55.339426405595276, 51.93259073702276, 48.88137527145132, 43.31296732826283, 59.8618341710497, 43.998063808626284, 29.9715133692041, 58.327245004402826, 39.52407118932415, 77.35795101013274, 68.97856196089424, 33.82951285276601, 34.12561395979886, 42.42155621829014, 52.390122099876486, 42.10273051323069, 42.263654201997916, 63.91278504534565, 49.98186686714617, 54.57016887493896, 37.698492177215705, 52.33466313884325, 46.60710702441056, 50.46850557290244, 47.4376541028876, 44.03126421332229, 59.671770212521444, 46.663700695643975, 53.66868721193977, 44.02934432418897, 43.78211933932722, 43.55486322772022, 43.40294376833156, 42.969970776238625, 14.807814155471373, 10.048252592987831, 11.851984867899388, 9.994062035755888, 10.00019056204853, 9.992632545760001, 9.983719360968033, 10.882272797707975, 9.974013813167863, 9.944857611553628, 8.104692821170362, 8.103660711412326, 8.10494095905644, 8.102545289658721, 8.100312648050888, 9.896221387148474, 8.097474645899723, 9.874640583462131, 9.8686391229469, 9.854121258510679, 8.06802475451694, 9.864409990279823, 8.060428378748439, 8.05916850957806, 10.747219857325014, 8.940474565134915, 8.028962217199549, 10.68706020538907, 8.915516329110279, 11.575987210756285, 12.495227795172562, 10.704241656215952, 12.473419232073876, 49.3780200288817, 21.249991531051382, 24.498931598769648, 31.717392168040934, 39.41106196256146, 19.92280387078565, 21.79196543119451, 12.045280684953367, 66.15047728535097, 32.05988957991935, 33.76289945029048, 59.043976050784856, 13.621561622095788, 33.17718375564007, 34.825639253086386, 22.748365563101366, 46.48507271759003, 48.136927823948994, 16.334318872413178, 14.234197280551355, 31.51525928578806, 31.795422542709534, 44.3923425180256, 29.140908169063163, 65.64157644934751, 59.243368627687126, 70.84995471612477, 49.831486621388464, 38.999105122321026, 42.34985364735647, 22.476466376646684, 57.730758433631976, 57.8186016427713, 37.717399817966374, 56.615566836907306, 38.76269564724433, 53.29652242206996, 45.9155926728384, 47.594582316343626, 42.25026284747526, 54.435688693778076, 46.27016373103848, 45.19297199416256, 43.92861476462593, 42.35744882439122, 45.305643376714734, 39.268359902125034, 41.866423506055405, 42.971914949281775, 44.08452687097823, 41.16783504158296, 41.593040287219246, 41.558900350042826, 11.07666646330465, 9.418571899335742, 9.312935173971997, 6.924414968570891, 8.441736548092011, 8.428877635968636, 9.936002385493156, 6.837823271285907, 6.052010269965243, 6.782838668591459, 5.2658908946553185, 5.261448471811054, 5.2418562949691765, 5.228408822287486, 5.226658166131155, 5.22604688405689, 5.225641561530429, 5.223316270906204, 5.211866459247784, 5.211437315777182, 5.2030321872560465, 5.190206624454468, 4.447794650406579, 4.434091010956357, 5.170450632812113, 5.158088662231125, 4.420942582742652, 5.154655880942375, 7.3478634011425905, 4.375209668276504, 10.779890482153515, 13.821093562736127, 11.322443635430218, 15.22471154577917, 9.910673025873933, 31.13082229813985, 26.188740124999, 13.13963865179293, 12.651019047859963, 28.34754800300323, 20.342124663223313, 14.963345214855602, 33.73870701280299, 7.817001137528857, 31.994242836043707, 20.372052564489938, 9.882507874473742, 30.472106493997593, 31.809368855041463, 17.567515328136995, 28.411678382343567, 23.526759145619845, 17.817301015447402, 20.898791542665528, 19.675040011690225, 30.782447220170802, 25.29706868029605, 31.585748092775535, 23.55843440475823, 31.218738439919075, 20.589865414098227, 28.832076268160964, 21.432515554615385, 19.079985497526756, 21.834212899853906, 22.973018211070272, 22.745860221837436, 26.582420439867853, 24.031686934387807, 22.095652525990214, 22.62633185480279, 24.96349923530079, 24.74360773345915, 28.71515281298715, 23.565774187362166, 22.89532821737275, 23.316860713083386, 22.108017428379714, 21.87665229393551], \"Total\": [199.0, 51.0, 60.0, 57.0, 79.0, 45.0, 90.0, 45.0, 54.0, 76.0, 136.0, 85.0, 70.0, 44.0, 37.0, 48.0, 67.0, 30.0, 51.0, 20.0, 33.0, 36.0, 72.0, 55.0, 66.0, 36.0, 43.0, 18.0, 37.0, 25.0, 21.83331918189736, 16.144613899571105, 18.034420678021114, 16.123910732248884, 12.341289495331939, 16.121208345236667, 12.338713166026599, 12.338253123497067, 12.336663962429226, 21.791715400245618, 12.336038251469045, 12.335767958001549, 12.335369050281132, 14.220743544014418, 14.219412994303383, 14.219441157764388, 17.05560197714998, 19.884045166515673, 10.43698354138763, 15.157126902835731, 11.382614311141563, 10.433582079286017, 25.539472844154865, 10.432846829156352, 10.432323165177554, 10.432038139531896, 10.432043414787575, 10.432467028889986, 25.53424358304375, 10.43133997547878, 21.733108652515075, 12.331711147689544, 17.95843685089269, 12.313806696429953, 14.192514025191196, 45.17121732593135, 199.78099677814546, 33.84065021137662, 60.9376991128963, 14.19605337210989, 32.79634868283948, 26.52985130305694, 34.19655074972756, 19.92397280529831, 136.56522617276997, 51.36061182541499, 54.60231840842714, 17.945290936534278, 27.1194758770635, 36.80195674155116, 76.02156253793103, 70.54997848834368, 66.07480548101967, 57.298586669691, 85.32271577185637, 59.26978907088678, 37.16288711939474, 84.874303904512, 53.85890576183846, 127.91564059101178, 113.23549091135689, 44.80686890267372, 46.36030615087144, 62.82895146034848, 85.16281729062531, 62.52447326002455, 62.99960711547615, 117.0687604352726, 82.8217622133547, 95.8317895448572, 54.273379219962045, 94.6071622650392, 78.22419447693231, 90.01489806776912, 82.32710154756569, 74.1666445520544, 133.88373719763686, 83.34324523491154, 112.59561114012742, 85.90682138026996, 97.15925384496548, 95.0871995892067, 118.70620907922887, 98.25715146652507, 15.567297038687883, 10.692888292620175, 12.626732242765673, 10.685843216519627, 10.693983446912231, 10.693951023067859, 10.688283413306568, 11.655579486870547, 10.688052715023419, 10.681825864780702, 8.737613939241456, 8.73769518099458, 8.739544492324193, 8.73739288597101, 8.737200285457515, 10.674898375839247, 8.739216639255016, 10.686267677692818, 10.685215827047598, 10.670514884902126, 8.73673198715439, 10.685613639827778, 8.733148714872723, 8.733387442358742, 11.651673411974283, 9.708872081794679, 8.730126911407867, 11.623638725654732, 9.698870416768054, 12.593187162473631, 13.610515312254284, 11.657003880643014, 13.611101477145493, 57.90913247133289, 24.037190106612133, 27.969327648452996, 37.28417794181196, 48.02850744725529, 22.99923249081161, 25.779579933652517, 13.491244023099696, 90.2612600863706, 40.351258429622206, 43.61341944081755, 84.24218858246708, 15.540021511729345, 43.938781797977704, 46.7617206319935, 28.457293294267785, 69.0716243114308, 72.35549260553199, 19.396960316789134, 16.467380955862563, 43.70335007298823, 44.42572805857779, 67.4145880418641, 40.47579183526998, 112.57209008939155, 100.15681043694481, 127.13338279587427, 81.19943567896651, 59.67432197203431, 66.89006483819269, 29.456013130434016, 104.98402655851719, 107.95061007425757, 60.406845473739146, 109.20617574062314, 63.372357387589076, 105.95254347097696, 88.57123984842146, 96.28843851998889, 81.20217348995757, 133.88373719763686, 97.85554047368973, 97.15925384496548, 92.99705440021674, 87.82035679030284, 112.59561114012742, 72.6798817016518, 91.38713851149771, 106.21166381632924, 118.70620907922887, 90.77867505513719, 98.0917149788727, 106.21384214058963, 11.808745990010914, 10.132891656469598, 10.149356142834966, 7.620043926040879, 9.314218363739654, 9.315856819456801, 11.012595398946596, 7.6324828548795, 6.788421558658831, 7.642300597720035, 5.944679424415122, 5.945229207441383, 5.948203901924042, 5.9505677533777375, 5.949237609690359, 5.949540855660536, 5.951033911477396, 5.951151389668333, 5.951452290775724, 5.952315067296413, 5.952863992744904, 5.954422042174234, 5.1055196128156926, 5.1076172879945645, 5.957773921011407, 5.960063108668572, 5.109398038916831, 5.958714954942054, 8.52342152780475, 5.1148274605107344, 12.798995460222777, 18.100354990948226, 14.67947743039642, 20.870614887687623, 12.917959734520862, 51.110930378282504, 45.223509322139535, 19.14536406686308, 18.297282568268788, 54.59313464558662, 36.37792172075253, 24.789025657067654, 79.05381339602434, 10.394460856671275, 76.82462037192693, 42.22184494386386, 14.897603043513833, 78.2064629449053, 83.80193510327194, 35.02952171199722, 71.8940494706691, 55.44207809110881, 36.73911760320402, 47.87994286658696, 44.51687949223755, 98.25715146652507, 70.50007407222427, 106.21384214058963, 62.724136134271035, 118.70620907922887, 50.8630541170312, 105.95254347097696, 56.655054185111, 45.44174093030386, 64.13811267733105, 72.91537204923705, 71.96459264413427, 109.20617574062314, 85.31512554974816, 68.19686871991544, 73.59523690000862, 106.21166381632924, 113.23549091135689, 199.78099677814546, 127.13338279587427, 104.98402655851719, 127.91564059101178, 107.95061007425757, 96.28843851998889], \"Category\": [\"Default\", \"Default\", \"Default\", \"Default\", \"Default\", \"Default\", \"Default\", \"Default\", \"Default\", \"Default\", \"Default\", \"Default\", \"Default\", \"Default\", \"Default\", \"Default\", \"Default\", \"Default\", \"Default\", \"Default\", \"Default\", \"Default\", \"Default\", \"Default\", \"Default\", \"Default\", \"Default\", \"Default\", \"Default\", \"Default\", \"Topic1\", \"Topic1\", \"Topic1\", \"Topic1\", \"Topic1\", \"Topic1\", \"Topic1\", \"Topic1\", \"Topic1\", \"Topic1\", \"Topic1\", \"Topic1\", \"Topic1\", \"Topic1\", \"Topic1\", \"Topic1\", \"Topic1\", \"Topic1\", \"Topic1\", \"Topic1\", \"Topic1\", \"Topic1\", \"Topic1\", \"Topic1\", \"Topic1\", \"Topic1\", \"Topic1\", \"Topic1\", \"Topic1\", \"Topic1\", \"Topic1\", \"Topic1\", \"Topic1\", \"Topic1\", \"Topic1\", \"Topic1\", \"Topic1\", \"Topic1\", \"Topic1\", \"Topic1\", \"Topic1\", \"Topic1\", \"Topic1\", \"Topic1\", \"Topic1\", \"Topic1\", \"Topic1\", \"Topic1\", \"Topic1\", \"Topic1\", \"Topic1\", \"Topic1\", \"Topic1\", \"Topic1\", \"Topic1\", \"Topic1\", \"Topic1\", \"Topic1\", \"Topic1\", \"Topic1\", \"Topic1\", \"Topic1\", \"Topic1\", \"Topic1\", \"Topic1\", \"Topic1\", \"Topic1\", \"Topic1\", \"Topic1\", \"Topic1\", \"Topic1\", \"Topic1\", \"Topic1\", \"Topic1\", \"Topic1\", \"Topic1\", \"Topic1\", \"Topic1\", \"Topic1\", \"Topic1\", \"Topic1\", \"Topic1\", \"Topic1\", \"Topic1\", \"Topic2\", \"Topic2\", \"Topic2\", \"Topic2\", \"Topic2\", \"Topic2\", \"Topic2\", \"Topic2\", \"Topic2\", \"Topic2\", \"Topic2\", \"Topic2\", \"Topic2\", \"Topic2\", \"Topic2\", \"Topic2\", \"Topic2\", \"Topic2\", \"Topic2\", \"Topic2\", \"Topic2\", \"Topic2\", \"Topic2\", \"Topic2\", \"Topic2\", \"Topic2\", \"Topic2\", \"Topic2\", \"Topic2\", \"Topic2\", \"Topic2\", \"Topic2\", \"Topic2\", \"Topic2\", \"Topic2\", \"Topic2\", \"Topic2\", \"Topic2\", \"Topic2\", \"Topic2\", \"Topic2\", \"Topic2\", \"Topic2\", \"Topic2\", \"Topic2\", \"Topic2\", \"Topic2\", \"Topic2\", \"Topic2\", \"Topic2\", \"Topic2\", \"Topic2\", \"Topic2\", \"Topic2\", \"Topic2\", \"Topic2\", \"Topic2\", \"Topic2\", \"Topic2\", \"Topic2\", \"Topic2\", \"Topic2\", \"Topic2\", \"Topic2\", \"Topic2\", \"Topic2\", \"Topic2\", \"Topic2\", \"Topic2\", \"Topic2\", \"Topic2\", \"Topic2\", \"Topic2\", \"Topic2\", \"Topic2\", \"Topic2\", \"Topic2\", \"Topic2\", \"Topic2\", \"Topic2\", \"Topic2\", \"Topic2\", \"Topic2\", \"Topic2\", \"Topic2\", \"Topic2\", \"Topic3\", \"Topic3\", \"Topic3\", \"Topic3\", \"Topic3\", \"Topic3\", \"Topic3\", \"Topic3\", \"Topic3\", \"Topic3\", \"Topic3\", \"Topic3\", \"Topic3\", \"Topic3\", \"Topic3\", \"Topic3\", \"Topic3\", \"Topic3\", \"Topic3\", \"Topic3\", \"Topic3\", \"Topic3\", \"Topic3\", \"Topic3\", \"Topic3\", \"Topic3\", \"Topic3\", \"Topic3\", \"Topic3\", \"Topic3\", \"Topic3\", \"Topic3\", \"Topic3\", \"Topic3\", \"Topic3\", \"Topic3\", \"Topic3\", \"Topic3\", \"Topic3\", \"Topic3\", \"Topic3\", \"Topic3\", \"Topic3\", \"Topic3\", \"Topic3\", \"Topic3\", \"Topic3\", \"Topic3\", \"Topic3\", \"Topic3\", \"Topic3\", \"Topic3\", \"Topic3\", \"Topic3\", \"Topic3\", \"Topic3\", \"Topic3\", \"Topic3\", \"Topic3\", \"Topic3\", \"Topic3\", \"Topic3\", \"Topic3\", \"Topic3\", \"Topic3\", \"Topic3\", \"Topic3\", \"Topic3\", \"Topic3\", \"Topic3\", \"Topic3\", \"Topic3\", \"Topic3\", \"Topic3\", \"Topic3\", \"Topic3\", \"Topic3\", \"Topic3\", \"Topic3\"], \"logprob\": [30.0, 29.0, 28.0, 27.0, 26.0, 25.0, 24.0, 23.0, 22.0, 21.0, 20.0, 19.0, 18.0, 17.0, 16.0, 15.0, 14.0, 13.0, 12.0, 11.0, 10.0, 9.0, 8.0, 7.0, 6.0, 5.0, 4.0, 3.0, 2.0, 1.0, -6.944, -7.2486, -7.1392, -7.2593, -7.5279, -7.2617, -7.5292, -7.5297, -7.5309, -6.9621, -7.5311, -7.5315, -7.532, -7.3912, -7.3921, -7.3921, -7.2104, -7.0593, -7.7045, -7.3323, -7.619, -7.7078, -6.8127, -7.7086, -7.7089, -7.709, -7.7091, -7.7091, -6.8141, -7.7097, -6.9849, -7.5452, -7.1781, -7.5466, -7.409, -6.2864, -4.8526, -6.581, -6.035, -7.4141, -6.6399, -6.8388, -6.6137, -7.1038, -5.4045, -6.2704, -6.2295, -7.2014, -6.8467, -6.5875, -5.9742, -6.0377, -6.0983, -6.2192, -5.8956, -6.2035, -6.5874, -5.9216, -6.3108, -5.6392, -5.7539, -6.4664, -6.4576, -6.24, -6.029, -6.2476, -6.2438, -5.8302, -6.076, -5.9882, -6.3581, -6.03, -6.1459, -6.0663, -6.1283, -6.2028, -5.8988, -6.1447, -6.0049, -6.2028, -6.2085, -6.2137, -6.2172, -6.2272, -7.2376, -7.6254, -7.4603, -7.6308, -7.6302, -7.6309, -7.6318, -7.5456, -7.6328, -7.6357, -7.8403, -7.8404, -7.8403, -7.8406, -7.8409, -7.6406, -7.8412, -7.6428, -7.6434, -7.6449, -7.8449, -7.6438, -7.8458, -7.8459, -7.5581, -7.7422, -7.8497, -7.5637, -7.745, -7.4838, -7.4074, -7.5621, -7.4092, -6.0333, -6.8764, -6.7341, -6.4759, -6.2587, -6.9409, -6.8512, -7.4441, -5.7408, -6.4652, -6.4134, -5.8545, -7.3211, -6.4309, -6.3824, -6.8083, -6.0936, -6.0587, -7.1395, -7.2771, -6.4823, -6.4734, -6.1397, -6.5606, -5.7486, -5.8511, -5.6722, -6.0241, -6.2692, -6.1868, -6.8203, -5.877, -5.8754, -6.3026, -5.8965, -6.2753, -5.9569, -6.106, -6.07, -6.1891, -5.9357, -6.0983, -6.1218, -6.1502, -6.1866, -6.1193, -6.2623, -6.1983, -6.1722, -6.1467, -6.2151, -6.2048, -6.2056, -7.036, -7.1981, -7.2094, -7.5058, -7.3076, -7.3092, -7.1447, -7.5183, -7.6404, -7.5264, -7.7796, -7.7804, -7.7841, -7.7867, -7.787, -7.7872, -7.7872, -7.7877, -7.7899, -7.79, -7.7916, -7.794, -7.9484, -7.9515, -7.7979, -7.8003, -7.9545, -7.8009, -7.4464, -7.9649, -7.0631, -6.8146, -7.014, -6.7179, -7.1472, -6.0026, -6.1755, -6.8652, -6.9031, -6.0963, -6.4281, -6.7352, -5.9222, -7.3845, -5.9753, -6.4267, -7.1501, -6.024, -5.9811, -6.5748, -6.094, -6.2827, -6.5606, -6.4011, -6.4615, -6.0139, -6.2101, -5.9881, -6.2813, -5.9998, -6.416, -6.0793, -6.3759, -6.4922, -6.3573, -6.3065, -6.3164, -6.1606, -6.2614, -6.3454, -6.3217, -6.2234, -6.2323, -6.0834, -6.281, -6.3099, -6.2916, -6.3449, -6.3554], \"loglift\": [30.0, 29.0, 28.0, 27.0, 26.0, 25.0, 24.0, 23.0, 22.0, 21.0, 20.0, 19.0, 18.0, 17.0, 16.0, 15.0, 14.0, 13.0, 12.0, 11.0, 10.0, 9.0, 8.0, 7.0, 6.0, 5.0, 4.0, 3.0, 2.0, 1.0, 0.8867, 0.8839, 0.8825, 0.8744, 0.8732, 0.8722, 0.8721, 0.8716, 0.8706, 0.8704, 0.8704, 0.8701, 0.8696, 0.8682, 0.8674, 0.8673, 0.8672, 0.8648, 0.8642, 0.8633, 0.863, 0.8612, 0.8612, 0.8605, 0.8602, 0.8602, 0.8601, 0.86, 0.8599, 0.8595, 0.8503, 0.8567, 0.8479, 0.8567, 0.8524, 0.8172, 0.7642, 0.8114, 0.7692, 0.847, 0.7838, 0.797, 0.7683, 0.8183, 0.5927, 0.7048, 0.6845, 0.8253, 0.7671, 0.721, 0.6088, 0.62, 0.625, 0.6465, 0.572, 0.6284, 0.7113, 0.5513, 0.6169, 0.4234, 0.4307, 0.6453, 0.62, 0.5336, 0.4405, 0.5309, 0.5272, 0.3211, 0.4213, 0.3633, 0.562, 0.3343, 0.4085, 0.3477, 0.3751, 0.405, 0.1183, 0.3464, 0.1854, 0.258, 0.1292, 0.1456, -0.0798, 0.0993, 0.9313, 0.9191, 0.918, 0.9144, 0.9142, 0.9135, 0.9131, 0.9126, 0.9121, 0.9098, 0.9061, 0.906, 0.9059, 0.9059, 0.9056, 0.9056, 0.905, 0.9023, 0.9018, 0.9017, 0.9017, 0.9013, 0.9011, 0.9009, 0.9005, 0.8988, 0.8976, 0.8973, 0.8971, 0.8971, 0.8958, 0.896, 0.894, 0.8219, 0.858, 0.8488, 0.8196, 0.7835, 0.8377, 0.8133, 0.8679, 0.6705, 0.7513, 0.7253, 0.6259, 0.8495, 0.7004, 0.6866, 0.7574, 0.5853, 0.5738, 0.8094, 0.8356, 0.6543, 0.6468, 0.5635, 0.6527, 0.4419, 0.4562, 0.3966, 0.493, 0.5559, 0.5242, 0.7109, 0.3833, 0.3569, 0.5103, 0.3243, 0.4897, 0.2942, 0.3243, 0.2767, 0.328, 0.0813, 0.2323, 0.2159, 0.2313, 0.2521, 0.0709, 0.3656, 0.2007, 0.0764, -0.0093, 0.1905, 0.1233, 0.0429, 1.4092, 1.4001, 1.3872, 1.3775, 1.3749, 1.3732, 1.3704, 1.3633, 1.3584, 1.3539, 1.352, 1.3511, 1.3468, 1.3439, 1.3437, 1.3436, 1.3432, 1.3428, 1.3405, 1.3403, 1.3386, 1.3359, 1.3353, 1.3318, 1.3315, 1.3287, 1.3285, 1.3283, 1.3248, 1.317, 1.3015, 1.2035, 1.2136, 1.1578, 1.2082, 0.9774, 0.9269, 1.0968, 1.1042, 0.8179, 0.892, 0.9684, 0.6217, 1.1883, 0.5973, 0.7445, 1.0628, 0.5307, 0.5045, 0.7831, 0.5448, 0.616, 0.7496, 0.6442, 0.6567, 0.3126, 0.4483, 0.2605, 0.494, 0.1376, 0.5689, 0.1717, 0.5012, 0.6054, 0.3957, 0.3183, 0.3214, 0.0602, 0.2063, 0.3462, 0.2938, 0.0252, -0.0477, -0.4666, -0.2122, -0.0496, -0.229, -0.1125, -0.0087]}, \"token.table\": {\"Topic\": [2, 1, 2, 3, 1, 2, 3, 2, 3, 1, 2, 3, 1, 2, 3, 1, 3, 3, 3, 1, 2, 3, 1, 2, 3, 3, 1, 2, 3, 1, 2, 3, 1, 2, 3, 2, 2, 1, 2, 3, 1, 3, 1, 2, 3, 2, 3, 2, 3, 1, 2, 3, 1, 2, 3, 1, 2, 3, 1, 1, 2, 3, 1, 2, 3, 2, 1, 2, 3, 1, 2, 3, 3, 2, 1, 2, 3, 3, 3, 1, 2, 2, 1, 1, 1, 3, 1, 3, 1, 2, 3, 1, 2, 3, 3, 1, 1, 1, 1, 1, 2, 3, 2, 1, 2, 3, 1, 2, 3, 1, 2, 3, 1, 2, 3, 1, 2, 3, 1, 3, 3, 3, 1, 2, 3, 1, 2, 3, 2, 2, 1, 2, 3, 1, 2, 3, 1, 1, 1, 2, 3, 3, 1, 2, 3, 1, 2, 3, 2, 3, 3, 1, 2, 3, 1, 2, 3, 1, 2, 3, 1, 2, 3, 1, 3, 1, 3, 1, 2, 3, 2, 1, 2, 3, 1, 3, 1, 1, 1, 2, 3, 3, 2, 1, 2, 1, 2, 3, 1, 2, 3, 1, 2, 3, 1, 2, 3, 2, 1, 2, 3, 2, 1, 2, 3, 1, 2, 3, 2, 1, 2, 3, 1, 2, 3, 1, 2, 3, 1, 1, 3, 1, 2, 3, 1, 2, 3, 1, 2, 3, 2, 1, 1, 2, 3, 1, 2, 3, 1, 2, 3, 1, 2, 3, 1, 2, 3, 1, 2, 3, 1, 2, 3, 1, 2, 3, 1, 2, 1, 2, 3, 1, 2, 3, 1, 2, 3, 1, 1, 2, 3, 3, 1, 2, 3, 1, 2, 3, 1, 2, 3, 1, 2, 3, 1, 2, 3, 1, 2, 3, 1, 2, 3, 1, 2, 3, 2, 2, 1, 2, 3, 2, 3, 1, 1, 2, 1, 2, 3, 2, 3, 1, 2, 3, 1, 2, 3, 1, 2, 3, 1, 2, 3, 3, 1, 2, 3, 1, 2, 3, 1, 3, 1, 2, 3, 3, 1, 3, 1, 2, 3, 1, 2, 3, 1, 3, 1, 2, 3, 1, 2, 3, 1, 2, 3, 1, 1, 2, 3, 1, 2, 3, 1, 2, 3, 1, 3, 3, 1, 1, 2, 3, 1, 2, 3, 1, 2, 3, 1, 3, 1, 2, 3, 1, 3, 1, 2, 3, 1, 2, 3, 1, 2, 3, 1, 2, 3, 1, 2, 3, 1, 2, 3, 1, 2, 3, 1, 2, 3, 2, 3, 3, 1, 2, 3, 2, 1, 2, 3, 1, 1, 2, 3, 1, 2, 3, 2, 1, 2, 3, 3, 3, 1, 2, 3, 1, 2, 3, 1, 2, 3, 1, 2, 3, 2, 2, 3, 2, 3, 1, 2, 3, 1, 2, 3, 1, 2, 3, 1, 2, 3, 1, 1, 2, 3, 1, 2, 3, 2, 1, 3, 1, 2, 3, 1, 2, 3, 3, 1, 2, 3, 1, 2, 3, 1, 2, 3, 1, 2, 1, 2, 1, 2, 3, 1, 2, 3, 1, 3, 2, 1, 2, 3, 1, 1, 1, 3, 3, 1, 1, 1, 2, 3, 1, 3], \"Freq\": [0.9153795151482181, 0.5554636073948195, 0.27773180369740974, 0.16663908221844584, 0.54668726107667, 0.28188561899265796, 0.17083976908645937, 0.9358175856951225, 0.8400092978060447, 0.06812231598444543, 0.13624463196889086, 0.7493454758288998, 0.15179533389344993, 0.4300867793647748, 0.4300867793647748, 0.9142412740251382, 0.9315129658394687, 0.7831440326200605, 0.8881966081472632, 0.6093495903507377, 0.1766230696668805, 0.2207788370836006, 0.02682102852208953, 0.858272912706865, 0.13410514261044765, 0.8405898793050235, 0.06739016827365703, 0.49419456734015155, 0.4492677884910468, 0.1365536265340008, 0.7510449459370044, 0.11379468877833401, 0.12145222153787477, 0.8501655507651235, 0.060726110768937386, 0.9351080791775704, 0.9351052439572822, 0.04791425673758842, 0.23957128368794214, 0.7187138510638263, 0.10734385675737651, 0.8587508540590121, 0.08900150804561813, 0.6526777256678663, 0.2521709394625847, 0.8695942357202646, 0.1304391353580397, 0.8533886144235161, 0.1551615662588211, 0.22091650961278234, 0.615410276778465, 0.15779750686627309, 0.7588122275147673, 0.223180066916108, 0.0223180066916108, 0.7176058118632577, 0.17574019882365494, 0.10983762426478434, 0.9727809440689297, 0.7333860110706129, 0.19413159116575046, 0.08628070718477798, 0.09003791664878914, 0.7203033331903131, 0.18007583329757829, 0.9155817658721723, 0.18317321518390614, 0.31139446581264046, 0.5128850025149372, 0.17689914205936105, 0.24323632033162143, 0.5749222116929233, 0.8389172914507877, 0.9352010164458203, 0.09358376914104084, 0.9358376914104085, 0.8401901374409588, 0.8402559566121798, 0.9186298750953482, 0.1286999505432109, 0.9008996538024763, 0.9358725328398979, 0.9141575445590371, 0.8933062107584606, 0.09080511575823938, 0.9080511575823937, 0.10736273951800508, 0.8589019161440407, 0.6008371235303666, 0.28124290888655457, 0.1278376858575248, 0.5121828429110682, 0.29101297892674327, 0.19788882567018543, 0.7820400650622504, 0.9581312416892505, 0.9618326844876482, 0.9291024296591254, 0.9304513457536233, 0.11056520675789518, 0.6633912405473711, 0.22113041351579035, 0.9357804147910896, 0.15466340864776298, 0.8248715127880692, 0.05155446954925433, 0.8509317840113846, 0.005005481082419909, 0.14515895139017737, 0.14273674762414915, 0.3711155438227878, 0.5138522914469369, 0.08068086368815289, 0.32272345475261155, 0.6051064776611467, 0.15925497785317883, 0.6659753619314751, 0.17373270311255873, 0.9202549124368129, 0.04601274562184064, 0.8410104683166326, 0.8410882476630661, 0.3016372772268027, 0.6535474339914059, 0.050272879537800456, 0.08328387061356807, 0.8120177384822886, 0.08328387061356807, 0.9156251131515738, 0.935603933139565, 0.6105951124484951, 0.15264877811212377, 0.23484427401865193, 0.7234789468127243, 0.14469578936254487, 0.1315416266932226, 0.9585460440284755, 0.9585854524539457, 0.6833634837848332, 0.2002961935231408, 0.10603916127695688, 0.7834657984584651, 0.23314699661026936, 0.45257946400816995, 0.3154341718844821, 0.666670824200783, 0.20635049320500426, 0.12698491889538724, 0.9155732529329764, 0.9171327513071125, 0.8867557580343296, 0.7982770948945704, 0.058410519138627104, 0.15576138436967227, 0.22651650648268012, 0.5002239518159186, 0.2737074453332385, 0.9034342786903085, 0.05019079326057269, 0.05019079326057269, 0.2605286437536084, 0.2605286437536084, 0.47368844318837894, 0.9236578996630789, 0.0659755642616485, 0.9466302741797349, 0.05568413377527852, 0.35860113495558327, 0.31182707387442027, 0.34300978126186227, 0.936777067839188, 0.03514037648132306, 0.8082286590704303, 0.17570188240661527, 0.9381081958546987, 0.05863176224091867, 0.9727596295813181, 0.9584436029743979, 0.25956990425547705, 0.5584685818829961, 0.1887781121858015, 0.7828710876571248, 0.9156741916499664, 0.08582458198427637, 0.94407040182704, 0.27818713992678185, 0.3199152109157991, 0.38946199589749453, 0.08634216723027548, 0.8461532388566997, 0.06907373378422038, 0.12391187275412102, 0.7930359856263746, 0.07434712365247262, 0.11078950139219244, 0.7312107091884702, 0.15510530194906944, 0.9160498992048359, 0.12831007753583198, 0.7484754522923532, 0.12831007753583198, 0.9437540203291457, 0.3577761484436683, 0.4048519574494141, 0.23537904502872914, 0.3266273330133949, 0.16331366650669746, 0.4899409995200924, 0.950364652491562, 0.4463991331831422, 0.17537108803623444, 0.38262782844269333, 0.356808931391794, 0.4281707176701528, 0.2140853588350764, 0.09620508593845821, 0.19241017187691642, 0.7696406875076657, 0.972710291578459, 0.8072569793519476, 0.18835996184878778, 0.5932586038609079, 0.17528095114072278, 0.2292135514917144, 0.573922288848164, 0.3443533733088984, 0.0939145563569723, 0.7426812601221071, 0.18567031503052678, 0.09283515751526339, 0.9279431122659604, 0.9723457183739973, 0.3643802094360593, 0.47824902488482784, 0.1480294600833991, 0.4295497958888552, 0.15619992577776554, 0.41653313540737474, 0.04585744538361538, 0.7795765715214614, 0.18342978153446152, 0.14429473561314707, 0.41484736488779783, 0.43288420683944123, 0.45286473762148965, 0.46315711802197806, 0.08233904320390721, 0.17604959308821327, 0.3961115844484798, 0.4181177835845065, 0.2209901409116204, 0.0552475352279051, 0.7734654931906714, 0.257612699355334, 0.5862909709466222, 0.15989753753089697, 0.914243084803015, 0.9361695394203376, 0.25937787642644383, 0.537282744026205, 0.20379690290649158, 0.23962424417568243, 0.589076266931886, 0.16973383962444172, 0.8537535769843445, 0.030491199178012303, 0.12196479671204921, 0.9725850069607589, 0.22235513110227875, 0.7164776446628982, 0.04941225135606194, 0.9159545493523696, 0.737066135443138, 0.07087174379260942, 0.1984408826193064, 0.5708934131835682, 0.18220002548411754, 0.2429333673121567, 0.19865298222230124, 0.6290677770372872, 0.18209856703710947, 0.36223884440029774, 0.37066300357239773, 0.2611489343350984, 0.67173696650481, 0.1599373729773357, 0.17593111027506927, 0.7415837192903354, 0.07567180809085054, 0.1816123394180413, 0.234614877491106, 0.4399028952958237, 0.3225954565502707, 0.26909825911429547, 0.6278959379333561, 0.08969941970476515, 0.9156049298006288, 0.9371618996707602, 0.34409692012702525, 0.4731332651746597, 0.18280148881748215, 0.8894657882885826, 0.07412214902404855, 0.9728124023761179, 0.08578533645858569, 0.9436387010444426, 0.16395877304767706, 0.10930584869845138, 0.710488016539934, 0.8736462085151682, 0.08320440081096839, 0.2543487254836554, 0.1369570060296606, 0.6065238838456398, 0.7504548104804396, 0.12216706217123435, 0.12216706217123435, 0.44815002371370194, 0.40333502134233173, 0.14938334123790065, 0.8480387455518753, 0.11697086145543108, 0.02924271536385777, 0.8404438228951887, 0.3460540614517114, 0.2744566694272194, 0.3818527574639574, 0.31328358184962996, 0.2506268654797039, 0.4385970145894819, 0.6340452403420929, 0.358373396715096, 0.035753451515496505, 0.8580828363719161, 0.07150690303099301, 0.883857896589646, 0.9397218238000085, 0.039155075991667024, 0.6019592259729538, 0.21107661170480196, 0.17980600256334983, 0.7001590935768266, 0.14740191443722664, 0.14740191443722664, 0.939914273236487, 0.039163094718186964, 0.20179912566443137, 0.7003616714236147, 0.09496429443032064, 0.8669479424240042, 0.07538677760208731, 0.037693388801043656, 0.4075847105889894, 0.4516479225445558, 0.13218963586669927, 0.958584967718295, 0.3452400093713597, 0.26852000728883535, 0.3836000104126219, 0.2748920094106227, 0.1649352056463736, 0.5497840188212454, 0.5496412613489402, 0.2748206306744701, 0.1691203881073662, 0.9555399739282233, 0.050291577575169645, 0.8397120601438371, 0.9663860778655171, 0.8865077890824491, 0.029550259636081638, 0.08865077890824491, 0.9731009635470018, 0.9463473753465609, 0.08603157957696009, 0.6037060630416976, 0.2656306677383469, 0.13281533386917346, 0.9636689730154656, 0.045888998715022174, 0.8915988075415419, 0.055724925471346366, 0.055724925471346366, 0.9159758431047151, 0.07045968023882423, 0.03268283904893033, 0.45755974668502464, 0.5229254247828853, 0.20936106092180137, 0.6157678262405923, 0.17241499134736585, 0.4627331564089349, 0.326016542015386, 0.21033325291315225, 0.23622728032471738, 0.44466311590535035, 0.31960161455697056, 0.29490954211059334, 0.29490954211059334, 0.4128733589548307, 0.24614627083628537, 0.4688500396881626, 0.28131002381289755, 0.815174046605206, 0.10868987288069414, 0.0815174046605206, 0.28040749663205894, 0.4985022162347715, 0.22848018244093693, 0.11732377622505724, 0.8212664335754006, 0.8392396331734567, 0.2889382798695823, 0.5365996626149385, 0.16510758849690418, 0.9635584111179972, 0.43762717886900615, 0.2544344063191896, 0.31549866383579517, 0.9586496100699679, 0.3106939673297916, 0.39542868569246203, 0.30127899862282825, 0.13728924647605964, 0.7322093145389847, 0.1601707875554029, 0.9269871849353232, 0.7875123484383683, 0.10988544396814441, 0.10988544396814441, 0.8404009857740333, 0.8401310731751308, 0.3063888470091142, 0.4595832705136713, 0.24073409407858973, 0.2611598286947195, 0.0522319657389439, 0.6790155546062706, 0.23398388470906836, 0.5172275346200459, 0.24629882600954564, 0.8533305450811679, 0.03282040558004492, 0.11487141953015723, 0.9160248589451487, 0.9163669762401974, 0.8399318388751676, 0.9528961846734664, 0.07940801538945554, 0.26950326294033855, 0.3687939387604633, 0.35460955650044546, 0.3474509448868818, 0.47008069014107534, 0.1737254724434409, 0.06789785131965452, 0.7468763645161997, 0.16974462829913628, 0.703212496897467, 0.09376166625299559, 0.2109637490692401, 0.9725487446325268, 0.22860620597956022, 0.5524649977839372, 0.21908094739707853, 0.6684816318557586, 0.09549737597939409, 0.23874343994848524, 0.9154138557528617, 0.8480989862880213, 0.14749547587617762, 0.5639329242283001, 0.26396860283026813, 0.1679800199828979, 0.907657628621472, 0.022137990941987123, 0.0885519637679485, 0.8391070957091323, 0.2380817735230735, 0.5219485034928919, 0.24723876481242246, 0.47959240554053173, 0.3996603379504431, 0.12433877180680453, 0.3048393592119418, 0.5193559453240489, 0.1693551995621899, 0.07347260386971873, 0.8816712464366246, 0.07346943975688579, 0.8816332770826295, 0.13424978462362552, 0.20137467693543828, 0.6712489231181276, 0.22945878681052276, 0.3883148699870385, 0.3706641940785368, 0.915747472853286, 0.07044211329640661, 0.9356241278585505, 0.7423680881903582, 0.15184801803893688, 0.11810401403028424, 0.9585111488508881, 0.9585592625599807, 0.23223481584193625, 0.7741160528064541, 0.8401735517399866, 0.9426418682091751, 0.9302954009785611, 0.4076350761770085, 0.28534455332390596, 0.31252022506903987, 0.15626226341088087, 0.8594424487598448], \"Term\": [\"90 percent\", \"Afghanistan\", \"Afghanistan\", \"Afghanistan\", \"Americans\", \"Americans\", \"Americans\", \"Billions of dollars\", \"Britain\", \"Clinton\", \"Clinton\", \"Clinton\", \"Comey\", \"Comey\", \"Comey\", \"Coors\", \"Crooked\", \"Crooked Hillary\", \"Crooked_Hillary\", \"Democrats\", \"Democrats\", \"Democrats\", \"Dorian\", \"Dorian\", \"Dorian\", \"Emmet\", \"FBI\", \"FBI\", \"FBI\", \"FEMA\", \"FEMA\", \"FEMA\", \"Government\", \"Government\", \"Government\", \"Hamza\", \"Hamza_bin\", \"Hillary\", \"Hillary\", \"Hillary\", \"Hillary Clinton\", \"Hillary Clinton\", \"Hurricane\", \"Hurricane\", \"Hurricane\", \"Hurricane Dorian\", \"Hurricane Dorian\", \"Hurricane_Dorian\", \"Hurricane_Dorian\", \"ISIS\", \"ISIS\", \"ISIS\", \"India\", \"India\", \"India\", \"Iran\", \"Iran\", \"Iran\", \"Iran_seek\", \"Iraq\", \"Iraq\", \"Iraq\", \"Israel\", \"Israel\", \"Israel\", \"Israel_anti\", \"James\", \"James\", \"James\", \"James Comey\", \"James Comey\", \"James Comey\", \"Japan\", \"Jim\", \"Juan\", \"Juan\", \"Lyin\", \"Lyin_James\", \"Major\", \"Mayor\", \"Mayor\", \"Mayor_San\", \"Molson\", \"Molson Coors\", \"Nancy\", \"Nancy\", \"Nancy_Pelosi\", \"Nancy_Pelosi\", \"Obama\", \"Obama\", \"Obama\", \"Pakistan\", \"Pakistan\", \"Pakistan\", \"Parish\", \"Phil\", \"Qassem\", \"Qassem Soleimani\", \"Qassem_Soleimani\", \"Russia\", \"Russia\", \"Russia\", \"San Juan\", \"Secretary\", \"Secretary\", \"Secretary\", \"Soleimani\", \"Soleimani\", \"Soleimani\", \"South\", \"South\", \"South\", \"South_Carolina\", \"South_Carolina\", \"South_Carolina\", \"State\", \"State\", \"State\", \"Suleimani\", \"Suleimani\", \"Supreme\", \"Supreme_Court\", \"Syria\", \"Syria\", \"Syria\", \"Turkey\", \"Turkey\", \"Turkey\", \"USA_pro\", \"accept\", \"action\", \"action\", \"action\", \"administration\", \"administration\", \"administration\", \"aggression\", \"aggression_region\", \"ago\", \"ago\", \"ago\", \"alcohol\", \"allow\", \"allow\", \"allow\", \"ally\", \"ally\", \"ally\", \"anti - USA\", \"apart\", \"approval\", \"approve\", \"approve\", \"approve\", \"area\", \"area\", \"area\", \"army\", \"army\", \"army\", \"ask\", \"ask\", \"ask\", \"attack_american\", \"attack_american\", \"available_administration\", \"available_administration\", \"away\", \"away\", \"away\", \"background_check\", \"billion_dollar\", \"billion_dollar\", \"billion_dollar\", \"blood\", \"blood\", \"bloodshed\", \"bloodshed_abroad\", \"border\", \"border\", \"border\", \"candle\", \"cat\", \"category\", \"category\", \"cause\", \"cause\", \"cause\", \"cease\", \"cease\", \"cease\", \"cease_fire\", \"cease_fire\", \"cease_fire\", \"ceasefire\", \"ceasefire\", \"ceasefire\", \"ceasefire_hold\", \"chance\", \"chance\", \"chance\", \"check\", \"chemical\", \"chemical\", \"chemical\", \"child\", \"child\", \"child\", \"circumstance\", \"close\", \"close\", \"close\", \"community\", \"community\", \"community\", \"contact\", \"contact\", \"contact\", \"cooperation_terrorist\", \"coronavirus\", \"coronavirus\", \"create\", \"create\", \"create\", \"deal\", \"deal\", \"deal\", \"death\", \"death\", \"death\", \"defense\", \"destabilize\", \"didn\", \"didn\", \"didn\", \"disaster\", \"disaster\", \"disaster\", \"dollar\", \"dollar\", \"dollar\", \"drought\", \"drought\", \"drought\", \"end\", \"end\", \"end\", \"ensure\", \"ensure\", \"ensure\", \"fake\", \"fake\", \"fake\", \"fight\", \"fight\", \"fight\", \"fire_Molson\", \"fire_prosecutor\", \"firearm\", \"firearm\", \"firearm\", \"firefighter\", \"firefighter\", \"firefighter\", \"flawless\", \"flawless\", \"flawless\", \"flawless_precision\", \"foreign\", \"foreign\", \"foreign\", \"forever_remain\", \"fund\", \"fund\", \"fund\", \"future\", \"future\", \"future\", \"got\", \"got\", \"got\", \"government\", \"government\", \"government\", \"guy\", \"guy\", \"guy\", \"harm\", \"harm\", \"harm\", \"high\", \"high\", \"high\", \"hold\", \"hold\", \"hold\", \"horrible_anti\", \"illegal_immigrant\", \"important\", \"important\", \"important\", \"important_peace\", \"important_peace\", \"include_use\", \"incompetent\", \"incompetent\", \"insurance\", \"insurance\", \"insurance\", \"investigate\", \"investigate\", \"investigation\", \"investigation\", \"investigation\", \"iranian\", \"iranian\", \"iranian\", \"job\", \"job\", \"job\", \"last night\", \"last night\", \"last night\", \"leader_distant\", \"leave\", \"leave\", \"leave\", \"line\", \"line\", \"line\", \"listen\", \"listen\", \"look_like\", \"look_like\", \"look_like\", \"lose_home\", \"message_terrorist\", \"message_terrorist\", \"military\", \"military\", \"military\", \"missile\", \"missile\", \"missile\", \"missile_fire\", \"missile_fire\", \"money\", \"money\", \"money\", \"murderer\", \"murderer\", \"murderer\", \"nation\", \"nation\", \"nation\", \"nation_finance\", \"new\", \"new\", \"new\", \"news\", \"news\", \"news\", \"night\", \"night\", \"night\", \"night_ally\", \"night_ally\", \"officer_train\", \"overwhelmingly\", \"pandemic\", \"pandemic\", \"pandemic\", \"pandemic_specialist\", \"pause\", \"pause\", \"pay\", \"pay\", \"pay\", \"pay_fund\", \"pay_fund\", \"peaceful\", \"peaceful\", \"peaceful\", \"people_minute\", \"people_minute\", \"percent\", \"percent\", \"percent\", \"place\", \"place\", \"place\", \"plan\", \"plan\", \"plan\", \"play\", \"play\", \"play\", \"possible\", \"possible\", \"possible\", \"power\", \"power\", \"power\", \"precision\", \"precision\", \"precision\", \"president\", \"president\", \"president\", \"presidential\", \"presidential\", \"presidential_candidate\", \"process\", \"process\", \"process\", \"prosecutor\", \"protect\", \"protect\", \"protect\", \"proxy_fighter\", \"public\", \"public\", \"public\", \"ready\", \"ready\", \"ready\", \"regardless\", \"regime\", \"regime\", \"regime\", \"retired\", \"retired_police\", \"risk\", \"risk\", \"risk\", \"river\", \"river\", \"river\", \"safe\", \"safe\", \"safe\", \"seek\", \"seek\", \"seek\", \"send_money\", \"shut\", \"snow_tire\", \"sort\", \"sort\", \"stand\", \"stand\", \"stand\", \"start\", \"start\", \"start\", \"story\", \"story\", \"story\", \"strike\", \"strike\", \"strike\", \"strike_kill\", \"talk\", \"talk\", \"talk\", \"target\", \"target\", \"target\", \"television\", \"terminate\", \"terminate\", \"terrorism\", \"terrorism\", \"terrorism\", \"terrorist_world\", \"terrorist_world\", \"terrorist_world\", \"thank_Adam\", \"threat\", \"threat\", \"threat\", \"today\", \"today\", \"today\", \"tornado\", \"tornado\", \"tornado\", \"tropical\", \"tropical\", \"tropical_storm\", \"tropical_storm\", \"truth\", \"truth\", \"truth\", \"turn\", \"turn\", \"turn\", \"two years ago\", \"two years ago\", \"unique\", \"war\", \"war\", \"war\", \"warlord\", \"warlord_plunder\", \"way_possible\", \"way_possible\", \"weren\", \"wicked\", \"wicked_murderer\", \"win\", \"win\", \"win\", \"wouldn_stand\", \"wouldn_stand\"]}, \"R\": 30, \"lambda.step\": 0.01, \"plot.opts\": {\"xlab\": \"PC1\", \"ylab\": \"PC2\"}, \"topic.order\": [3, 2, 1]};\n",
       "\n",
       "function LDAvis_load_lib(url, callback){\n",
       "  var s = document.createElement('script');\n",
       "  s.src = url;\n",
       "  s.async = true;\n",
       "  s.onreadystatechange = s.onload = callback;\n",
       "  s.onerror = function(){console.warn(\"failed to load library \" + url);};\n",
       "  document.getElementsByTagName(\"head\")[0].appendChild(s);\n",
       "}\n",
       "\n",
       "if(typeof(LDAvis) !== \"undefined\"){\n",
       "   // already loaded: just create the visualization\n",
       "   !function(LDAvis){\n",
       "       new LDAvis(\"#\" + \"ldavis_el749851398083616932489353129129\", ldavis_el749851398083616932489353129129_data);\n",
       "   }(LDAvis);\n",
       "}else if(typeof define === \"function\" && define.amd){\n",
       "   // require.js is available: use it to load d3/LDAvis\n",
       "   require.config({paths: {d3: \"https://d3js.org/d3.v5\"}});\n",
       "   require([\"d3\"], function(d3){\n",
       "      window.d3 = d3;\n",
       "      LDAvis_load_lib(\"https://cdn.jsdelivr.net/gh/bmabey/pyLDAvis@3.3.1/pyLDAvis/js/ldavis.v3.0.0.js\", function(){\n",
       "        new LDAvis(\"#\" + \"ldavis_el749851398083616932489353129129\", ldavis_el749851398083616932489353129129_data);\n",
       "      });\n",
       "    });\n",
       "}else{\n",
       "    // require.js not available: dynamically load d3 & LDAvis\n",
       "    LDAvis_load_lib(\"https://d3js.org/d3.v5.js\", function(){\n",
       "         LDAvis_load_lib(\"https://cdn.jsdelivr.net/gh/bmabey/pyLDAvis@3.3.1/pyLDAvis/js/ldavis.v3.0.0.js\", function(){\n",
       "                 new LDAvis(\"#\" + \"ldavis_el749851398083616932489353129129\", ldavis_el749851398083616932489353129129_data);\n",
       "            })\n",
       "         });\n",
       "}\n",
       "</script>"
      ],
      "text/plain": [
       "<IPython.core.display.HTML object>"
      ]
     },
     "execution_count": 127,
     "metadata": {},
     "output_type": "execute_result"
    }
   ],
   "source": [
    "import pyLDAvis.gensim_models\n",
    "# plot topics\n",
    "data =  pyLDAvis.gensim_models.prepare(model, corpus, dictionary)\n",
    "pyLDAvis.display(data)"
   ]
  }
 ],
 "metadata": {
  "interpreter": {
   "hash": "e7370f93d1d0cde622a1f8e1c04877d8463912d04d973331ad4851f04de6915a"
  },
  "kernelspec": {
   "display_name": "Python 3.9.9 64-bit",
   "language": "python",
   "name": "python3"
  },
  "language_info": {
   "codemirror_mode": {
    "name": "ipython",
    "version": 3
   },
   "file_extension": ".py",
   "mimetype": "text/x-python",
   "name": "python",
   "nbconvert_exporter": "python",
   "pygments_lexer": "ipython3",
   "version": "3.10.1"
  },
  "orig_nbformat": 4
 },
 "nbformat": 4,
 "nbformat_minor": 2
}
