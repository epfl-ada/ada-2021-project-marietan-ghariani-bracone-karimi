{
 "cells": [
  {
   "cell_type": "code",
   "execution_count": 1,
   "metadata": {},
   "outputs": [],
   "source": [
    "import numpy as np\n",
    "import pandas as pd\n",
    "import matplotlib.pyplot as plt\n",
    "import math\n",
    "import seaborn as sns\n",
    "import time\n",
    "from pathlib import Path\n",
    "from glob import glob\n",
    "from datetime import datetime\n",
    "import spacy\n",
    "\n",
    "nlp = spacy.load(\"en_core_web_sm\")\n"
   ]
  },
  {
   "cell_type": "code",
   "execution_count": 2,
   "metadata": {},
   "outputs": [
    {
     "name": "stdout",
     "output_type": "stream",
     "text": [
      "Number of quotes: 1480711\n"
     ]
    }
   ],
   "source": [
    "if Path(\"./data/df_quotes.pickle\").is_file():\n",
    "    df_quotes = pd.read_pickle(\"./data/df_quotes.pickle\")\n",
    "else:\n",
    "    df_quotes = pd.read_json(\n",
    "        \"data/natural_disaster_quotes.json.bz2\", lines=True, compression=\"bz2\"\n",
    "    )\n",
    "    df_quotes.to_pickle(\"./data/df_quotes.pickle\")\n",
    "\n",
    "print(f\"Number of quotes: %d\" % len(df_quotes.index))\n"
   ]
  },
  {
   "cell_type": "code",
   "execution_count": 3,
   "metadata": {},
   "outputs": [],
   "source": [
    "# Turn the parquets into exploded pickles\n",
    "files = sorted(glob(\"data/speaker_attributes.parquet/part*\"))\n",
    "for (i, f) in enumerate(files):\n",
    "    if Path(\"data/speaker_chunks/chunk_\" + str(i) + \".pickle\").is_file():\n",
    "        continue\n",
    "    else:\n",
    "        chunk = pd.read_parquet(f, engine=\"pyarrow\").explode(\"aliases\")\n",
    "        chunk = chunk[chunk.aliases.isin(df_quotes.speaker)]\n",
    "        chunk.to_pickle(\"data/speaker_chunks/chunk_\" + str(i) + \".pickle\")\n"
   ]
  },
  {
   "cell_type": "code",
   "execution_count": 4,
   "metadata": {},
   "outputs": [
    {
     "data": {
      "text/html": [
       "<div>\n",
       "<style scoped>\n",
       "    .dataframe tbody tr th:only-of-type {\n",
       "        vertical-align: middle;\n",
       "    }\n",
       "\n",
       "    .dataframe tbody tr th {\n",
       "        vertical-align: top;\n",
       "    }\n",
       "\n",
       "    .dataframe thead th {\n",
       "        text-align: right;\n",
       "    }\n",
       "</style>\n",
       "<table border=\"1\" class=\"dataframe\">\n",
       "  <thead>\n",
       "    <tr style=\"text-align: right;\">\n",
       "      <th></th>\n",
       "      <th>aliases</th>\n",
       "      <th>date_of_birth</th>\n",
       "      <th>nationality</th>\n",
       "      <th>gender</th>\n",
       "      <th>lastrevid</th>\n",
       "      <th>ethnic_group</th>\n",
       "      <th>US_congress_bio_ID</th>\n",
       "      <th>occupation</th>\n",
       "      <th>party</th>\n",
       "      <th>academic_degree</th>\n",
       "      <th>id</th>\n",
       "      <th>label</th>\n",
       "      <th>candidacy</th>\n",
       "      <th>type</th>\n",
       "      <th>religion</th>\n",
       "    </tr>\n",
       "  </thead>\n",
       "  <tbody>\n",
       "    <tr>\n",
       "      <th>3</th>\n",
       "      <td>President George W. Bush</td>\n",
       "      <td>[+1946-07-06T00:00:00Z]</td>\n",
       "      <td>[Q30]</td>\n",
       "      <td>[Q6581097]</td>\n",
       "      <td>1395142029</td>\n",
       "      <td>None</td>\n",
       "      <td>None</td>\n",
       "      <td>[Q82955, Q15982858, Q18814623, Q1028181, Q1408...</td>\n",
       "      <td>[Q29468]</td>\n",
       "      <td>None</td>\n",
       "      <td>Q207</td>\n",
       "      <td>George W. Bush</td>\n",
       "      <td>[Q327959, Q464075, Q3586276, Q4450587]</td>\n",
       "      <td>item</td>\n",
       "      <td>[Q329646, Q682443, Q33203]</td>\n",
       "    </tr>\n",
       "    <tr>\n",
       "      <th>3</th>\n",
       "      <td>George Bush</td>\n",
       "      <td>[+1946-07-06T00:00:00Z]</td>\n",
       "      <td>[Q30]</td>\n",
       "      <td>[Q6581097]</td>\n",
       "      <td>1395142029</td>\n",
       "      <td>None</td>\n",
       "      <td>None</td>\n",
       "      <td>[Q82955, Q15982858, Q18814623, Q1028181, Q1408...</td>\n",
       "      <td>[Q29468]</td>\n",
       "      <td>None</td>\n",
       "      <td>Q207</td>\n",
       "      <td>George W. Bush</td>\n",
       "      <td>[Q327959, Q464075, Q3586276, Q4450587]</td>\n",
       "      <td>item</td>\n",
       "      <td>[Q329646, Q682443, Q33203]</td>\n",
       "    </tr>\n",
       "  </tbody>\n",
       "</table>\n",
       "</div>"
      ],
      "text/plain": [
       "                    aliases            date_of_birth nationality      gender  \\\n",
       "3  President George W. Bush  [+1946-07-06T00:00:00Z]       [Q30]  [Q6581097]   \n",
       "3               George Bush  [+1946-07-06T00:00:00Z]       [Q30]  [Q6581097]   \n",
       "\n",
       "    lastrevid ethnic_group US_congress_bio_ID  \\\n",
       "3  1395142029         None               None   \n",
       "3  1395142029         None               None   \n",
       "\n",
       "                                          occupation     party  \\\n",
       "3  [Q82955, Q15982858, Q18814623, Q1028181, Q1408...  [Q29468]   \n",
       "3  [Q82955, Q15982858, Q18814623, Q1028181, Q1408...  [Q29468]   \n",
       "\n",
       "  academic_degree    id           label  \\\n",
       "3            None  Q207  George W. Bush   \n",
       "3            None  Q207  George W. Bush   \n",
       "\n",
       "                                candidacy  type                    religion  \n",
       "3  [Q327959, Q464075, Q3586276, Q4450587]  item  [Q329646, Q682443, Q33203]  \n",
       "3  [Q327959, Q464075, Q3586276, Q4450587]  item  [Q329646, Q682443, Q33203]  "
      ]
     },
     "execution_count": 4,
     "metadata": {},
     "output_type": "execute_result"
    }
   ],
   "source": [
    "# Regroup the chunks into one\n",
    "files = sorted(glob(\"data/speaker_chunks/chunk*\"))\n",
    "chunks = pd.DataFrame()\n",
    "\n",
    "for f in files:\n",
    "    chunk = pd.read_pickle(f)\n",
    "    chunks = chunks.append(chunk)\n",
    "\n",
    "chunks.head(2)\n"
   ]
  },
  {
   "cell_type": "code",
   "execution_count": 5,
   "metadata": {},
   "outputs": [
    {
     "data": {
      "text/html": [
       "<div>\n",
       "<style scoped>\n",
       "    .dataframe tbody tr th:only-of-type {\n",
       "        vertical-align: middle;\n",
       "    }\n",
       "\n",
       "    .dataframe tbody tr th {\n",
       "        vertical-align: top;\n",
       "    }\n",
       "\n",
       "    .dataframe thead th {\n",
       "        text-align: right;\n",
       "    }\n",
       "</style>\n",
       "<table border=\"1\" class=\"dataframe\">\n",
       "  <thead>\n",
       "    <tr style=\"text-align: right;\">\n",
       "      <th></th>\n",
       "      <th>Label</th>\n",
       "      <th>Description</th>\n",
       "    </tr>\n",
       "    <tr>\n",
       "      <th>QID</th>\n",
       "      <th></th>\n",
       "      <th></th>\n",
       "    </tr>\n",
       "  </thead>\n",
       "  <tbody>\n",
       "    <tr>\n",
       "      <th>Q31</th>\n",
       "      <td>Belgium</td>\n",
       "      <td>country in western Europe</td>\n",
       "    </tr>\n",
       "    <tr>\n",
       "      <th>Q45</th>\n",
       "      <td>Portugal</td>\n",
       "      <td>country in southwestern Europe</td>\n",
       "    </tr>\n",
       "    <tr>\n",
       "      <th>Q75</th>\n",
       "      <td>Internet</td>\n",
       "      <td>global system of connected computer networks</td>\n",
       "    </tr>\n",
       "    <tr>\n",
       "      <th>Q148</th>\n",
       "      <td>People's Republic of China</td>\n",
       "      <td>sovereign state in East Asia</td>\n",
       "    </tr>\n",
       "    <tr>\n",
       "      <th>Q155</th>\n",
       "      <td>Brazil</td>\n",
       "      <td>country in South America</td>\n",
       "    </tr>\n",
       "  </tbody>\n",
       "</table>\n",
       "</div>"
      ],
      "text/plain": [
       "                           Label                                   Description\n",
       "QID                                                                           \n",
       "Q31                      Belgium                     country in western Europe\n",
       "Q45                     Portugal                country in southwestern Europe\n",
       "Q75                     Internet  global system of connected computer networks\n",
       "Q148  People's Republic of China                  sovereign state in East Asia\n",
       "Q155                      Brazil                      country in South America"
      ]
     },
     "execution_count": 5,
     "metadata": {},
     "output_type": "execute_result"
    }
   ],
   "source": [
    "# Load the Wikidata nodes\n",
    "df_labels = pd.read_csv(\n",
    "    \"data/wikidata_labels_descriptions_quotebank.csv.bz2\",\n",
    "    compression=\"bz2\",\n",
    "    index_col=\"QID\",\n",
    ")\n",
    "df_labels.head()\n"
   ]
  },
  {
   "cell_type": "code",
   "execution_count": 6,
   "metadata": {},
   "outputs": [
    {
     "name": "stdout",
     "output_type": "stream",
     "text": [
      "nationality\n",
      "occupation\n",
      "party\n",
      "academic_degree\n",
      "candidacy\n",
      "religion\n"
     ]
    }
   ],
   "source": [
    "# Turn the wikinodes into human readable labels\n",
    "cols = [\n",
    "    \"nationality\",\n",
    "    \"occupation\",\n",
    "    \"party\",\n",
    "    \"academic_degree\",\n",
    "    \"candidacy\",\n",
    "    \"religion\",\n",
    "]\n",
    "for col in cols:\n",
    "    print(col)\n",
    "    chunks[col] = chunks[col].apply(\n",
    "        lambda l: [df_labels.loc[q][\"Label\"] for q in l] if l is not None else l\n",
    "    )\n",
    "\n",
    "chunks.head(2)\n",
    "speakers = chunks\n"
   ]
  },
  {
   "cell_type": "code",
   "execution_count": 7,
   "metadata": {},
   "outputs": [
    {
     "data": {
      "image/png": "[encoded data removed]",
      "text/plain": [
       "<Figure size 432x288 with 1 Axes>"
      ]
     },
     "metadata": {
      "needs_background": "light"
     },
     "output_type": "display_data"
    }
   ],
   "source": [
    "# Now to the fun stuff...\n",
    "\n",
    "# Count and display the profession of the speakers\n",
    "speakers.occupation.explode().value_counts().head(10).plot(kind=\"bar\")\n"
   ]
  },
  {
   "cell_type": "code",
   "execution_count": 8,
   "metadata": {},
   "outputs": [
    {
     "data": {
      "image/png": "[encoded data removed]",
      "text/plain": [
       "<Figure size 432x288 with 1 Axes>"
      ]
     },
     "metadata": {
      "needs_background": "light"
     },
     "output_type": "display_data"
    }
   ],
   "source": [
    "# Count and display Political party\n",
    "speakers.nationality.explode().value_counts().head(10).plot(kind=\"bar\")\n"
   ]
  },
  {
   "cell_type": "code",
   "execution_count": 9,
   "metadata": {},
   "outputs": [
    {
     "data": {
      "image/png": "[encoded data removed]",
      "text/plain": [
       "<Figure size 432x288 with 1 Axes>"
      ]
     },
     "metadata": {
      "needs_background": "light"
     },
     "output_type": "display_data"
    }
   ],
   "source": [
    "# Count and display Political party\n",
    "chunks.party.explode().value_counts().head(10).plot(kind=\"bar\")\n"
   ]
  },
  {
   "cell_type": "code",
   "execution_count": 14,
   "metadata": {},
   "outputs": [],
   "source": [
    "# We will need to do matching later.....\n",
    "# Do topic detection on the democrats and the republicans\n",
    "\n",
    "## Get left wingers TODO include more parties than dems\n",
    "democrats = speakers[\n",
    "    speakers.party.apply(lambda l: \"Democratic Party\" in l if l is not None else False)\n",
    "]\n",
    "\n",
    "## Get right wingers TODO include more parties than repubs\n",
    "republicans = speakers[\n",
    "    speakers.party.apply(lambda l: \"Republican Party\" in l if l is not None else False)\n",
    "]\n",
    "\n",
    "## Get lefties quotes\n",
    "left_quotes = df_quotes[df_quotes.speaker.isin(democrats.aliases)]\n",
    "left_book = left_quotes.quotation.str.cat(sep=\"\\n\")\n",
    "with open(\"data/left_book.txt\", \"w\") as f:\n",
    "    f.write(left_book)\n",
    "\n",
    "## Get righties quotes\n",
    "right_quotes = df_quotes[df_quotes.speaker.isin(republicans.aliases)]\n",
    "right_book = right_quotes.quotation.str.cat(sep=\"\\n\")\n",
    "with open(\"data/right_book.txt\", \"w\") as f:\n",
    "    f.write(right_book)\n"
   ]
  },
  {
   "cell_type": "code",
   "execution_count": 52,
   "metadata": {},
   "outputs": [
    {
     "name": "stdout",
     "output_type": "stream",
     "text": [
      "['left_book.txt', 'right_book.txt']\n",
      "left_book.txt :\n",
      "Num of sentences: 35295\n",
      "Num of chunks: 706 \n",
      "\n",
      "right_book.txt :\n",
      "Num of sentences: 32330\n",
      "Num of chunks: 647 \n",
      "\n"
     ]
    }
   ],
   "source": [
    "def get_chunks(l, n):\n",
    "    \"\"\"Yield successive n-sized chunks from l.\"\"\"\n",
    "    for i in range(0, len(l), n):\n",
    "        yield l[i : i + n]\n",
    "\n",
    "\n",
    "# Get the quotes into chunks\n",
    "from nltk.corpus import PlaintextCorpusReader\n",
    "\n",
    "books = PlaintextCorpusReader(\"data\", \".*book.txt\")\n",
    "print(books.fileids())\n",
    "limit = 600\n",
    "size = 50\n",
    "\n",
    "chunks = list()\n",
    "chunk_class = list()\n",
    "book_id = {f: n for n, f in enumerate(books.fileids())}  # dictionary of books\n",
    "\n",
    "for f in books.fileids():\n",
    "    sentences = books.sents(f)\n",
    "    print(f, \":\")\n",
    "    print(\"Num of sentences:\", len(sentences))\n",
    "\n",
    "    chunks_of_sents = [x for x in get_chunks(sentences, size)]\n",
    "    chs = list()\n",
    "\n",
    "    for c in chunks_of_sents:\n",
    "        grouped_chunk = list()\n",
    "        for sent in c:\n",
    "            grouped_chunk.extend(sent)\n",
    "        chs.append(\" \".join(grouped_chunk))\n",
    "    print(\"Num of chunks:\", len(chs), \"\\n\")\n",
    "\n",
    "    # filter to the limit, to have the same number of chunks per book\n",
    "    chunks.extend(chs[:limit])\n",
    "    chunk_class.extend([book_id[f] for _ in range(len(chs[:limit]))])\n"
   ]
  },
  {
   "cell_type": "code",
   "execution_count": 53,
   "metadata": {},
   "outputs": [
    {
     "name": "stdout",
     "output_type": "stream",
     "text": [
      "Number of samples: 1200\n",
      "Number of features: 25608\n"
     ]
    }
   ],
   "source": [
    "from sklearn.feature_extraction.text import CountVectorizer\n",
    "from sklearn.model_selection import train_test_split\n",
    "from sklearn.utils import shuffle\n",
    "\n",
    "vectorizer = CountVectorizer()\n",
    "\n",
    "X = vectorizer.fit_transform(chunks)\n",
    "\n",
    "print(\"Number of samples:\", X.toarray().shape[0])\n",
    "print(\"Number of features:\", X.toarray().shape[1])\n",
    "\n",
    "Y = chunk_class\n",
    "\n",
    "X, Y = shuffle(X, Y, random_state=0)\n",
    "\n",
    "# split into training and test set\n",
    "X_train, X_test, Y_train, Y_test = train_test_split(\n",
    "    X, Y, test_size=0.2, random_state=42\n",
    ")\n"
   ]
  },
  {
   "cell_type": "code",
   "execution_count": 54,
   "metadata": {},
   "outputs": [
    {
     "name": "stderr",
     "output_type": "stream",
     "text": [
      "/usr/lib/python3.10/site-packages/sklearn/linear_model/_logistic.py:814: ConvergenceWarning: lbfgs failed to converge (status=1):\n",
      "STOP: TOTAL NO. of ITERATIONS REACHED LIMIT.\n",
      "\n",
      "Increase the number of iterations (max_iter) or scale the data as shown in:\n",
      "    https://scikit-learn.org/stable/modules/preprocessing.html\n",
      "Please also refer to the documentation for alternative solver options:\n",
      "    https://scikit-learn.org/stable/modules/linear_model.html#logistic-regression\n",
      "  n_iter_i = _check_optimize_result(\n"
     ]
    }
   ],
   "source": [
    "from sklearn.linear_model import LogisticRegression\n",
    "from sklearn.model_selection import cross_val_score\n",
    "from sklearn import preprocessing\n",
    "\n",
    "accs = []\n",
    "\n",
    "scaler = preprocessing.StandardScaler(with_mean=False)\n",
    "\n",
    "# X_scaled = scaler.fit(X_train).transform(X_train)\n",
    "\n",
    "# the grid of regularization parameter\n",
    "grid = [0.01, 0.1, 1, 10, 100, 1000, 10000]\n",
    "\n",
    "for c in grid:\n",
    "\n",
    "    # initialize the classifier\n",
    "    # Increase max iter by a lot because scaling gave worst results, but this\n",
    "    # causes it to take a lot of time to compute.... TODO take logs of X to\n",
    "    # scale it instead of normalizing and see if that keeps the good results\n",
    "    clf = LogisticRegression(random_state=0, C=c, max_iter=1000) \n",
    "\n",
    "    # crossvalidate\n",
    "    scores = cross_val_score(clf, X_train, Y_train, cv=10)\n",
    "    accs.append(np.mean(scores))\n"
   ]
  },
  {
   "cell_type": "code",
   "execution_count": 55,
   "metadata": {},
   "outputs": [
    {
     "name": "stdout",
     "output_type": "stream",
     "text": [
      "[0.70625, 0.6989583333333333, 0.6916666666666668, 0.6916666666666667, 0.6937499999999999, 0.6937499999999999, 0.7020833333333334]\n"
     ]
    },
    {
     "data": {
      "text/plain": [
       "Text(0, 0.5, 'Crossvalidation accuracy')"
      ]
     },
     "execution_count": 55,
     "metadata": {},
     "output_type": "execute_result"
    },
    {
     "data": {
      "image/png": "[encoded data removed]",
      "text/plain": [
       "<Figure size 432x288 with 1 Axes>"
      ]
     },
     "metadata": {
      "needs_background": "light"
     },
     "output_type": "display_data"
    }
   ],
   "source": [
    "print(accs)\n",
    "plt.plot(accs)\n",
    "plt.xticks(range(len(grid)), grid)\n",
    "plt.xlabel('Regularization parameter \\n (Low - strong regularization, High - weak regularization)')\n",
    "plt.ylabel('Crossvalidation accuracy')\n"
   ]
  },
  {
   "cell_type": "code",
   "execution_count": 58,
   "metadata": {},
   "outputs": [
    {
     "name": "stdout",
     "output_type": "stream",
     "text": [
      "Accuracy: 0.7375\n"
     ]
    }
   ],
   "source": [
    "clf = LogisticRegression(random_state=0, C = 0.01, max_iter=1000).fit(X_train, Y_train)\n",
    "\n",
    "#predict on the test set\n",
    "print('Accuracy:',clf.score(X_test,Y_test))"
   ]
  },
  {
   "cell_type": "code",
   "execution_count": 70,
   "metadata": {},
   "outputs": [
    {
     "name": "stdout",
     "output_type": "stream",
     "text": [
      "['terrorism' 'panhandle' 'tornado' 'certainly' 'threatening' 'be'\n",
      " 'liberal' 'irma' 'snow' 'probably' 'nuclear' 'hurricane' 'could'\n",
      " 'florida' 'floridians' 'storm' 'surge' 'prepared' 'think' 'biological']\n"
     ]
    },
    {
     "data": {
      "text/plain": [
       "array(['global', 'taken', 'new', ..., '075', '01', '00'], dtype=object)"
      ]
     },
     "execution_count": 70,
     "metadata": {},
     "output_type": "execute_result"
    }
   ],
   "source": [
    "coefs=clf.coef_[0]\n",
    "top_three = np.argpartition(coefs, -20)[-20:]\n",
    "\n",
    "print(np.array(vectorizer.get_feature_names_out())[top_three])"
   ]
  }
 ],
 "metadata": {
  "interpreter": {
   "hash": "e7370f93d1d0cde622a1f8e1c04877d8463912d04d973331ad4851f04de6915a"
  },
  "kernelspec": {
   "display_name": "Python 3.9.9 64-bit",
   "language": "python",
   "name": "python3"
  },
  "language_info": {
   "codemirror_mode": {
    "name": "ipython",
    "version": 3
   },
   "file_extension": ".py",
   "mimetype": "text/x-python",
   "name": "python",
   "nbconvert_exporter": "python",
   "pygments_lexer": "ipython3",
   "version": "3.10.1"
  },
  "orig_nbformat": 4
 },
 "nbformat": 4,
 "nbformat_minor": 2
}
