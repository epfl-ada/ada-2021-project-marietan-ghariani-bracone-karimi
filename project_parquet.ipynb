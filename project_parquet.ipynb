{
 "cells": [
  {
   "cell_type": "code",
   "execution_count": 1,
   "metadata": {},
   "outputs": [],
   "source": [
    "import numpy as np\n",
    "import pandas as pd\n",
    "import matplotlib.pyplot as plt\n",
    "import math\n",
    "import seaborn as sns\n",
    "import time\n",
    "from pathlib import Path\n",
    "from glob import glob\n",
    "from datetime import datetime\n",
    "import spacy\n",
    "\n",
    "nlp = spacy.load(\"en_core_web_sm\")\n"
   ]
  },
  {
   "cell_type": "code",
   "execution_count": 2,
   "metadata": {},
   "outputs": [
    {
     "name": "stdout",
     "output_type": "stream",
     "text": [
      "Number of quotes: 1480711\n"
     ]
    }
   ],
   "source": [
    "if Path(\"./data/df_quotes.pickle\").is_file():\n",
    "    df_quotes = pd.read_pickle(\"./data/df_quotes.pickle\")\n",
    "else:\n",
    "    df_quotes = pd.read_json(\n",
    "        \"data/natural_disaster_quotes.json.bz2\", lines=True, compression=\"bz2\"\n",
    "    )\n",
    "    df_quotes.to_pickle(\"./data/df_quotes.pickle\")\n",
    "\n",
    "print(f\"Number of quotes: %d\" % len(df_quotes.index))\n"
   ]
  },
  {
   "cell_type": "code",
   "execution_count": 3,
   "metadata": {},
   "outputs": [],
   "source": [
    "# Turn the parquets into exploded pickles\n",
    "files = sorted(glob(\"data/speaker_attributes.parquet/part*\"))\n",
    "for (i, f) in enumerate(files):\n",
    "    if Path(\"data/speaker_chunks/chunk_\" + str(i) + \".pickle\").is_file():\n",
    "        continue\n",
    "    else:\n",
    "        chunk = pd.read_parquet(f, engine=\"pyarrow\").explode(\"aliases\")\n",
    "        chunk = chunk[chunk.aliases.isin(df_quotes.speaker)]\n",
    "        chunk.to_pickle(\"data/speaker_chunks/chunk_\" + str(i) + \".pickle\")\n"
   ]
  },
  {
   "cell_type": "code",
   "execution_count": 4,
   "metadata": {},
   "outputs": [
    {
     "data": {
      "text/html": [
       "<div>\n",
       "<style scoped>\n",
       "    .dataframe tbody tr th:only-of-type {\n",
       "        vertical-align: middle;\n",
       "    }\n",
       "\n",
       "    .dataframe tbody tr th {\n",
       "        vertical-align: top;\n",
       "    }\n",
       "\n",
       "    .dataframe thead th {\n",
       "        text-align: right;\n",
       "    }\n",
       "</style>\n",
       "<table border=\"1\" class=\"dataframe\">\n",
       "  <thead>\n",
       "    <tr style=\"text-align: right;\">\n",
       "      <th></th>\n",
       "      <th>aliases</th>\n",
       "      <th>date_of_birth</th>\n",
       "      <th>nationality</th>\n",
       "      <th>gender</th>\n",
       "      <th>lastrevid</th>\n",
       "      <th>ethnic_group</th>\n",
       "      <th>US_congress_bio_ID</th>\n",
       "      <th>occupation</th>\n",
       "      <th>party</th>\n",
       "      <th>academic_degree</th>\n",
       "      <th>id</th>\n",
       "      <th>label</th>\n",
       "      <th>candidacy</th>\n",
       "      <th>type</th>\n",
       "      <th>religion</th>\n",
       "    </tr>\n",
       "  </thead>\n",
       "  <tbody>\n",
       "    <tr>\n",
       "      <th>3</th>\n",
       "      <td>President George W. Bush</td>\n",
       "      <td>[+1946-07-06T00:00:00Z]</td>\n",
       "      <td>[Q30]</td>\n",
       "      <td>[Q6581097]</td>\n",
       "      <td>1395142029</td>\n",
       "      <td>None</td>\n",
       "      <td>None</td>\n",
       "      <td>[Q82955, Q15982858, Q18814623, Q1028181, Q1408...</td>\n",
       "      <td>[Q29468]</td>\n",
       "      <td>None</td>\n",
       "      <td>Q207</td>\n",
       "      <td>George W. Bush</td>\n",
       "      <td>[Q327959, Q464075, Q3586276, Q4450587]</td>\n",
       "      <td>item</td>\n",
       "      <td>[Q329646, Q682443, Q33203]</td>\n",
       "    </tr>\n",
       "    <tr>\n",
       "      <th>3</th>\n",
       "      <td>George Bush</td>\n",
       "      <td>[+1946-07-06T00:00:00Z]</td>\n",
       "      <td>[Q30]</td>\n",
       "      <td>[Q6581097]</td>\n",
       "      <td>1395142029</td>\n",
       "      <td>None</td>\n",
       "      <td>None</td>\n",
       "      <td>[Q82955, Q15982858, Q18814623, Q1028181, Q1408...</td>\n",
       "      <td>[Q29468]</td>\n",
       "      <td>None</td>\n",
       "      <td>Q207</td>\n",
       "      <td>George W. Bush</td>\n",
       "      <td>[Q327959, Q464075, Q3586276, Q4450587]</td>\n",
       "      <td>item</td>\n",
       "      <td>[Q329646, Q682443, Q33203]</td>\n",
       "    </tr>\n",
       "  </tbody>\n",
       "</table>\n",
       "</div>"
      ],
      "text/plain": [
       "                    aliases            date_of_birth nationality      gender  \\\n",
       "3  President George W. Bush  [+1946-07-06T00:00:00Z]       [Q30]  [Q6581097]   \n",
       "3               George Bush  [+1946-07-06T00:00:00Z]       [Q30]  [Q6581097]   \n",
       "\n",
       "    lastrevid ethnic_group US_congress_bio_ID  \\\n",
       "3  1395142029         None               None   \n",
       "3  1395142029         None               None   \n",
       "\n",
       "                                          occupation     party  \\\n",
       "3  [Q82955, Q15982858, Q18814623, Q1028181, Q1408...  [Q29468]   \n",
       "3  [Q82955, Q15982858, Q18814623, Q1028181, Q1408...  [Q29468]   \n",
       "\n",
       "  academic_degree    id           label  \\\n",
       "3            None  Q207  George W. Bush   \n",
       "3            None  Q207  George W. Bush   \n",
       "\n",
       "                                candidacy  type                    religion  \n",
       "3  [Q327959, Q464075, Q3586276, Q4450587]  item  [Q329646, Q682443, Q33203]  \n",
       "3  [Q327959, Q464075, Q3586276, Q4450587]  item  [Q329646, Q682443, Q33203]  "
      ]
     },
     "execution_count": 4,
     "metadata": {},
     "output_type": "execute_result"
    }
   ],
   "source": [
    "# Regroup the chunks into one\n",
    "files = sorted(glob(\"data/speaker_chunks/chunk*\"))\n",
    "chunks = pd.DataFrame()\n",
    "\n",
    "for f in files:\n",
    "    chunk = pd.read_pickle(f)\n",
    "    chunks = chunks.append(chunk)\n",
    "\n",
    "chunks.head(2)\n"
   ]
  },
  {
   "cell_type": "code",
   "execution_count": 5,
   "metadata": {},
   "outputs": [
    {
     "data": {
      "text/html": [
       "<div>\n",
       "<style scoped>\n",
       "    .dataframe tbody tr th:only-of-type {\n",
       "        vertical-align: middle;\n",
       "    }\n",
       "\n",
       "    .dataframe tbody tr th {\n",
       "        vertical-align: top;\n",
       "    }\n",
       "\n",
       "    .dataframe thead th {\n",
       "        text-align: right;\n",
       "    }\n",
       "</style>\n",
       "<table border=\"1\" class=\"dataframe\">\n",
       "  <thead>\n",
       "    <tr style=\"text-align: right;\">\n",
       "      <th></th>\n",
       "      <th>Label</th>\n",
       "      <th>Description</th>\n",
       "    </tr>\n",
       "    <tr>\n",
       "      <th>QID</th>\n",
       "      <th></th>\n",
       "      <th></th>\n",
       "    </tr>\n",
       "  </thead>\n",
       "  <tbody>\n",
       "    <tr>\n",
       "      <th>Q31</th>\n",
       "      <td>Belgium</td>\n",
       "      <td>country in western Europe</td>\n",
       "    </tr>\n",
       "    <tr>\n",
       "      <th>Q45</th>\n",
       "      <td>Portugal</td>\n",
       "      <td>country in southwestern Europe</td>\n",
       "    </tr>\n",
       "    <tr>\n",
       "      <th>Q75</th>\n",
       "      <td>Internet</td>\n",
       "      <td>global system of connected computer networks</td>\n",
       "    </tr>\n",
       "    <tr>\n",
       "      <th>Q148</th>\n",
       "      <td>People's Republic of China</td>\n",
       "      <td>sovereign state in East Asia</td>\n",
       "    </tr>\n",
       "    <tr>\n",
       "      <th>Q155</th>\n",
       "      <td>Brazil</td>\n",
       "      <td>country in South America</td>\n",
       "    </tr>\n",
       "  </tbody>\n",
       "</table>\n",
       "</div>"
      ],
      "text/plain": [
       "                           Label                                   Description\n",
       "QID                                                                           \n",
       "Q31                      Belgium                     country in western Europe\n",
       "Q45                     Portugal                country in southwestern Europe\n",
       "Q75                     Internet  global system of connected computer networks\n",
       "Q148  People's Republic of China                  sovereign state in East Asia\n",
       "Q155                      Brazil                      country in South America"
      ]
     },
     "execution_count": 5,
     "metadata": {},
     "output_type": "execute_result"
    }
   ],
   "source": [
    "# Load the Wikidata nodes\n",
    "df_labels = pd.read_csv(\n",
    "    \"data/wikidata_labels_descriptions_quotebank.csv.bz2\",\n",
    "    compression=\"bz2\",\n",
    "    index_col=\"QID\",\n",
    ")\n",
    "df_labels.head()\n"
   ]
  },
  {
   "cell_type": "code",
   "execution_count": 6,
   "metadata": {},
   "outputs": [
    {
     "name": "stdout",
     "output_type": "stream",
     "text": [
      "nationality\n",
      "occupation\n",
      "party\n",
      "academic_degree\n",
      "candidacy\n",
      "religion\n",
      "['2000 United States presidential election', '2004 United States presidential election', '1998 Texas gubernatorial election', '1978 United States House of Representatives elections']\n"
     ]
    }
   ],
   "source": [
    "# Turn the wikinodes into human readable labels\n",
    "cols = [\n",
    "    \"nationality\",\n",
    "    \"occupation\",\n",
    "    \"party\",\n",
    "    \"academic_degree\",\n",
    "    \"candidacy\",\n",
    "    \"religion\",\n",
    "]\n",
    "for col in cols:\n",
    "    print(col)\n",
    "    chunks[col] = chunks[col].apply(\n",
    "        lambda l: [df_labels.loc[q][\"Label\"] for q in l] if l is not None else l\n",
    "    )\n",
    "\n",
    "speakers = chunks\n",
    "chunks.head(2)\n",
    "print(chunks.candidacy.iloc[1])"
   ]
  },
  {
   "cell_type": "code",
   "execution_count": 7,
   "metadata": {},
   "outputs": [
    {
     "data": {
      "text/plain": [
       "<AxesSubplot:>"
      ]
     },
     "execution_count": 7,
     "metadata": {},
     "output_type": "execute_result"
    },
    {
     "data": {
      "image/png": "[encoded data removed]",
      "text/plain": [
       "<Figure size 432x288 with 1 Axes>"
      ]
     },
     "metadata": {
      "needs_background": "light"
     },
     "output_type": "display_data"
    }
   ],
   "source": [
    "# Now to the fun stuff...\n",
    "\n",
    "# Count and display the profession of the speakers\n",
    "speakers.occupation.explode().value_counts().head(10).plot(kind=\"bar\")\n"
   ]
  },
  {
   "cell_type": "code",
   "execution_count": 8,
   "metadata": {},
   "outputs": [
    {
     "data": {
      "text/plain": [
       "<AxesSubplot:>"
      ]
     },
     "execution_count": 8,
     "metadata": {},
     "output_type": "execute_result"
    },
    {
     "data": {
      "image/png": "[encoded data removed]",
      "text/plain": [
       "<Figure size 432x288 with 1 Axes>"
      ]
     },
     "metadata": {
      "needs_background": "light"
     },
     "output_type": "display_data"
    }
   ],
   "source": [
    "# Count and display Political party\n",
    "speakers.nationality.explode().value_counts().head(10).plot(kind=\"bar\")\n"
   ]
  },
  {
   "cell_type": "code",
   "execution_count": 9,
   "metadata": {},
   "outputs": [
    {
     "data": {
      "text/plain": [
       "<AxesSubplot:>"
      ]
     },
     "execution_count": 9,
     "metadata": {},
     "output_type": "execute_result"
    },
    {
     "data": {
      "image/png": "[encoded data removed]",
      "text/plain": [
       "<Figure size 432x288 with 1 Axes>"
      ]
     },
     "metadata": {
      "needs_background": "light"
     },
     "output_type": "display_data"
    }
   ],
   "source": [
    "# Count and display Political party\n",
    "chunks.party.explode().value_counts().head(10).plot(kind=\"bar\")\n"
   ]
  },
  {
   "cell_type": "code",
   "execution_count": 10,
   "metadata": {},
   "outputs": [],
   "source": [
    "# We will need to do matching later.....\n",
    "# Do topic detection on the democrats and the republicans\n",
    "\n",
    "## Get left wingers TODO? include more parties than dems\n",
    "democrats = speakers[\n",
    "    speakers.party.apply(lambda l: \"Democratic Party\" in l if l is not None else False)\n",
    "]\n",
    "\n",
    "## Get right wingers TODO? include more parties than repubs\n",
    "republicans = speakers[\n",
    "    speakers.party.apply(lambda l: \"Republican Party\" in l if l is not None else False)\n",
    "]\n",
    "\n",
    "## Get lefties quotes\n",
    "left_quotes = df_quotes[df_quotes.speaker.isin(democrats.aliases)]\n",
    "left_book = left_quotes.quotation.str.cat(sep=\"\\n\")\n",
    "with open(\"data/left_book.txt\", \"w\") as f:\n",
    "    f.write(left_book)\n",
    "\n",
    "## Get righties quotes\n",
    "right_quotes = df_quotes[df_quotes.speaker.isin(republicans.aliases)]\n",
    "right_book = right_quotes.quotation.str.cat(sep=\"\\n\")\n",
    "with open(\"data/right_book.txt\", \"w\") as f:\n",
    "    f.write(right_book)\n"
   ]
  },
  {
   "cell_type": "code",
   "execution_count": 42,
   "metadata": {},
   "outputs": [
    {
     "name": "stdout",
     "output_type": "stream",
     "text": [
      "['politician_book.txt', 'researcher_book.txt']\n",
      "politician_book.txt :\n",
      "Num of sentences: 67624\n",
      "Num of chunks: 1353 \n",
      "\n",
      "researcher_book.txt :\n",
      "Num of sentences: 137120\n",
      "Num of chunks: 2743 \n",
      "\n"
     ]
    }
   ],
   "source": [
    "def get_chunks(l, n):\n",
    "    \"\"\"Yield successive n-sized chunks from l.\"\"\"\n",
    "    for i in range(0, len(l), n):\n",
    "        yield l[i : i + n]\n",
    "\n",
    "\n",
    "# Get the quotes into chunks\n",
    "from nltk.corpus import PlaintextCorpusReader\n",
    "\n",
    "books = PlaintextCorpusReader(\"data\", \"(researcher|politician)_book.txt\")\n",
    "print(books.fileids())\n",
    "limit = 600\n",
    "size = 50\n",
    "\n",
    "chunks = list()\n",
    "chunk_class = list()\n",
    "book_id = {f: n for n, f in enumerate(books.fileids())}  # dictionary of books\n",
    "\n",
    "for f in books.fileids():\n",
    "    sentences = books.sents(f)\n",
    "    print(f, \":\")\n",
    "    print(\"Num of sentences:\", len(sentences))\n",
    "\n",
    "    chunks_of_sents = [x for x in get_chunks(sentences, size)]\n",
    "    chs = list()\n",
    "\n",
    "    for c in chunks_of_sents:\n",
    "        grouped_chunk = list()\n",
    "        for sent in c:\n",
    "            grouped_chunk.extend(sent)\n",
    "        chs.append(\" \".join(grouped_chunk))\n",
    "    print(\"Num of chunks:\", len(chs), \"\\n\")\n",
    "\n",
    "    # filter to the limit, to have the same number of chunks per book\n",
    "    chunks.extend(chs[:limit])\n",
    "    chunk_class.extend([book_id[f] for _ in range(len(chs[:limit]))])\n"
   ]
  },
  {
   "cell_type": "code",
   "execution_count": 43,
   "metadata": {},
   "outputs": [
    {
     "name": "stdout",
     "output_type": "stream",
     "text": [
      "Number of samples: 1200\n",
      "Number of features: 35875\n"
     ]
    }
   ],
   "source": [
    "from sklearn.feature_extraction.text import CountVectorizer\n",
    "from sklearn.model_selection import train_test_split\n",
    "from sklearn.utils import shuffle\n",
    "\n",
    "vectorizer = CountVectorizer()\n",
    "\n",
    "X = vectorizer.fit_transform(chunks)\n",
    "\n",
    "print(\"Number of samples:\", X.toarray().shape[0])\n",
    "print(\"Number of features:\", X.toarray().shape[1])\n",
    "\n",
    "Y = chunk_class\n",
    "\n",
    "X, Y = shuffle(X, Y, random_state=0)\n",
    "\n",
    "# split into training and test set\n",
    "X_train, X_test, Y_train, Y_test = train_test_split(\n",
    "    X, Y, test_size=0.2, random_state=42\n",
    ")\n"
   ]
  },
  {
   "cell_type": "code",
   "execution_count": 44,
   "metadata": {},
   "outputs": [
    {
     "name": "stdout",
     "output_type": "stream",
     "text": [
      "---- 0.01\n",
      "---- 0.1\n",
      "---- 1\n",
      "---- 10\n",
      "---- 100\n",
      "---- 1000\n",
      "---- 10000\n"
     ]
    }
   ],
   "source": [
    "from sklearn.linear_model import LogisticRegression\n",
    "from sklearn.model_selection import cross_val_score\n",
    "from sklearn import preprocessing\n",
    "\n",
    "accs = []\n",
    "\n",
    "scaler = preprocessing.MaxAbsScaler()\n",
    "\n",
    "X_scaled = X_train.log1p()\n",
    "X_scaled = scaler.fit(X_scaled).transform(X_scaled)\n",
    "\n",
    "# the grid of regularization parameter\n",
    "grid = [0.01, 0.1, 1, 10, 100, 1000, 10000]\n",
    "\n",
    "for c in grid:\n",
    "    print(\"----\", c)\n",
    "\n",
    "    # initialize the classifier\n",
    "    # Increase max iter by a lot because scaling gave worst results, but this\n",
    "    # causes it to take a lot of time to compute.... using MaxAbsScaler was\n",
    "    # recommended for sparse inputs but it gives worse results than to simply\n",
    "    # increase the number of iterations\n",
    "    clf = LogisticRegression(random_state=0, C=c) \n",
    "\n",
    "    # crossvalidate\n",
    "    scores = cross_val_score(clf, X_scaled, Y_train, cv=10)\n",
    "    accs.append(np.mean(scores))\n"
   ]
  },
  {
   "cell_type": "code",
   "execution_count": 45,
   "metadata": {},
   "outputs": [
    {
     "name": "stdout",
     "output_type": "stream",
     "text": [
      "[1.0, 1.0, 1.0, 1.0, 1.0, 1.0, 1.0]\n"
     ]
    },
    {
     "data": {
      "text/plain": [
       "Text(0, 0.5, 'Crossvalidation accuracy')"
      ]
     },
     "execution_count": 45,
     "metadata": {},
     "output_type": "execute_result"
    },
    {
     "data": {
      "image/png": "[encoded data removed]",
      "text/plain": [
       "<Figure size 432x288 with 1 Axes>"
      ]
     },
     "metadata": {
      "needs_background": "light"
     },
     "output_type": "display_data"
    }
   ],
   "source": [
    "print(accs)\n",
    "plt.plot(accs)\n",
    "plt.xticks(range(len(grid)), grid)\n",
    "plt.xlabel('Regularization parameter \\n (Low - strong regularization, High - weak regularization)')\n",
    "plt.ylabel('Crossvalidation accuracy')\n"
   ]
  },
  {
   "cell_type": "code",
   "execution_count": 46,
   "metadata": {},
   "outputs": [
    {
     "name": "stdout",
     "output_type": "stream",
     "text": [
      "Accuracy: 0.9958333333333333\n"
     ]
    }
   ],
   "source": [
    "clf = LogisticRegression(random_state=0, C = 100, max_iter=1000).fit(X_scaled, Y_train)\n",
    "\n",
    "#predict on the test set\n",
    "X_scaled_test = X_test.log1p()\n",
    "X_scaled_test = scaler.fit(X_scaled_test).transform(X_scaled_test)\n",
    "print('Accuracy:',clf.score(X_scaled_test,Y_test))"
   ]
  },
  {
   "cell_type": "code",
   "execution_count": 47,
   "metadata": {},
   "outputs": [
    {
     "name": "stdout",
     "output_type": "stream",
     "text": [
      "['bit' 'team' 'able' 'can' 'which' 'so' 'really' 'come' 'snow' 'water'\n",
      " 'risk' 'still' 'biological' 'there' 'chemicals' 'fires' 'between'\n",
      " 'community' 'season' 'drought']\n"
     ]
    }
   ],
   "source": [
    "coefs=clf.coef_[0]\n",
    "top_three = np.argpartition(coefs, -20)[-20:]\n",
    "\n",
    "print(np.array(vectorizer.get_feature_names_out())[top_three])"
   ]
  },
  {
   "cell_type": "markdown",
   "metadata": {},
   "source": [
    "## Topic detection"
   ]
  },
  {
   "cell_type": "code",
   "execution_count": 48,
   "metadata": {},
   "outputs": [
    {
     "name": "stdout",
     "output_type": "stream",
     "text": [
      "politician_book.txt\n",
      "Number of sentences: 67624\n",
      "Number of chunks: 1353 \n",
      "\n",
      "researcher_book.txt\n",
      "Number of sentences: 137120\n",
      "Number of chunks: 2743 \n",
      "\n"
     ]
    }
   ],
   "source": [
    "# Get the chunks again (into smaller chunks)\n",
    "book_id = {f: n for n, f in enumerate(books.fileids())}  # dictionary of books\n",
    "chunks = list()\n",
    "chunk_class = (\n",
    "    list()\n",
    ")  # this list contains the original book of the chunk, for evaluation\n",
    "\n",
    "limit = 60  # how many chunks total\n",
    "size = 50  # how many sentences per chunk/page\n",
    "\n",
    "for f in books.fileids():\n",
    "    sentences = books.sents(f)\n",
    "    print(f)\n",
    "    print(\"Number of sentences:\", len(sentences))\n",
    "\n",
    "    # create chunks\n",
    "    chunks_of_sents = [\n",
    "        x for x in get_chunks(sentences, size)\n",
    "    ]  # this is a list of lists of sentences, which are a list of tokens\n",
    "    chs = list()\n",
    "\n",
    "    # regroup so to have a list of chunks which are strings\n",
    "    for c in chunks_of_sents:\n",
    "        grouped_chunk = list()\n",
    "        for s in c:\n",
    "            grouped_chunk.extend(s)\n",
    "        chs.append(\" \".join(grouped_chunk))\n",
    "    print(\"Number of chunks:\", len(chs), \"\\n\")\n",
    "\n",
    "    # filter to the limit, to have the same number of chunks per book\n",
    "    chunks.extend(chs[:limit])\n",
    "    chunk_class.extend([book_id[f] for _ in range(len(chs[:limit]))])\n"
   ]
  },
  {
   "cell_type": "code",
   "execution_count": 49,
   "metadata": {},
   "outputs": [],
   "source": [
    "STOP_WORDS = spacy.lang.en.stop_words.STOP_WORDS\n",
    "\n",
    "processed_docs = list()\n",
    "for doc in nlp.pipe(chunks, batch_size = 10):\n",
    "    ents = doc.ents\n",
    "    \n",
    "    doc = [token.lemma_ for token in doc if token.is_alpha and not token.is_stop]\n",
    "    doc = [token for token in doc if token not in STOP_WORDS and len(token) > 2]\n",
    "    doc.extend([str(entity) for entity in ents if len(entity) > 1])\n",
    "\n",
    "    processed_docs.append(doc)\n",
    "docs = processed_docs\n",
    "# print(docs)\n",
    "del(processed_docs)\n"
   ]
  },
  {
   "cell_type": "code",
   "execution_count": 50,
   "metadata": {},
   "outputs": [],
   "source": [
    "from gensim.models.phrases import Phrases\n",
    "\n",
    "bigrams = Phrases(docs)\n",
    "\n",
    "for idx in range(len(docs)):\n",
    "    for token in bigrams[docs[idx]]:\n",
    "        if '_' in token:\n",
    "            docs[idx].append(token)"
   ]
  },
  {
   "cell_type": "code",
   "execution_count": 51,
   "metadata": {},
   "outputs": [
    {
     "name": "stdout",
     "output_type": "stream",
     "text": [
      "Number of unique tokens: 4016\n",
      "Number of chunks: 120\n"
     ]
    }
   ],
   "source": [
    "from gensim.corpora import Dictionary\n",
    "dictionary = Dictionary(docs)\n",
    "\n",
    "max_freq = 0.6\n",
    "min_wordcount = 3\n",
    "\n",
    "dictionary.filter_extremes(no_below=min_wordcount, no_above=max_freq)\n",
    "\n",
    "corpus = [dictionary.doc2bow(doc) for doc in docs]\n",
    "\n",
    "print('Number of unique tokens: %d' % len(dictionary))\n",
    "print('Number of chunks: %d' % len(corpus))"
   ]
  },
  {
   "cell_type": "code",
   "execution_count": 52,
   "metadata": {},
   "outputs": [],
   "source": [
    "# models\n",
    "from gensim.models import LdaMulticore\n",
    "\n",
    "params = {\"passes\": 10, \"random_state\": 0}\n",
    "base_models = dict()\n",
    "model = LdaMulticore(\n",
    "    corpus=corpus,\n",
    "    num_topics=2,\n",
    "    id2word=dictionary,\n",
    "    workers=6,\n",
    "    passes=params[\"passes\"],\n",
    "    random_state=params[\"random_state\"],\n",
    ")\n"
   ]
  },
  {
   "cell_type": "code",
   "execution_count": 53,
   "metadata": {},
   "outputs": [
    {
     "data": {
      "text/plain": [
       "[(0,\n",
       "  '0.003*\"bushfire\" + 0.003*\"home\" + 0.003*\"hurricane\" + 0.003*\"weather\" + 0.002*\"high\" + 0.002*\"cause\" + 0.002*\"tell\" + 0.002*\"Fire\" + 0.002*\"family\" + 0.002*\"place\" + 0.002*\"provide\" + 0.002*\"burn\" + 0.002*\"try\" + 0.002*\"little\" + 0.002*\"week\" + 0.002*\"system\" + 0.002*\"fight\" + 0.002*\"important\" + 0.002*\"event\" + 0.002*\"hard\"'),\n",
       " (1,\n",
       "  '0.007*\"kill\" + 0.005*\"Soleimani\" + 0.005*\"Trump\" + 0.004*\"attack\" + 0.004*\"try\" + 0.003*\"United\" + 0.003*\"States\" + 0.003*\"Iran\" + 0.003*\"United_States\" + 0.003*\"military\" + 0.003*\"american\" + 0.002*\"Democrats\" + 0.002*\"President\" + 0.002*\"job\" + 0.002*\"strike\" + 0.002*\"action\" + 0.002*\"plan\" + 0.002*\"protect\" + 0.002*\"the United States\" + 0.002*\"Americans\"')]"
      ]
     },
     "execution_count": 53,
     "metadata": {},
     "output_type": "execute_result"
    }
   ],
   "source": [
    "model.show_topics(num_words=20)"
   ]
  },
  {
   "cell_type": "code",
   "execution_count": 54,
   "metadata": {},
   "outputs": [
    {
     "data": {
      "text/plain": [
       "[(1, 0.99803007)]"
      ]
     },
     "execution_count": 54,
     "metadata": {},
     "output_type": "execute_result"
    }
   ],
   "source": [
    "sorted(model[corpus[0]], key=lambda x: x[1], reverse=True)"
   ]
  },
  {
   "cell_type": "code",
   "execution_count": 55,
   "metadata": {},
   "outputs": [
    {
     "name": "stderr",
     "output_type": "stream",
     "text": [
      "/home/luca/.local/lib/python3.10/site-packages/pyLDAvis/_prepare.py:247: FutureWarning: In a future version of pandas all arguments of DataFrame.drop except for the argument 'labels' will be keyword-only\n",
      "  by='saliency', ascending=False).head(R).drop('saliency', 1)\n",
      "/usr/lib/python3.10/site-packages/past/builtins/misc.py:45: DeprecationWarning: the imp module is deprecated in favour of importlib and slated for removal in Python 3.12; see the module's documentation for alternative uses\n",
      "  from imp import reload\n",
      "/usr/lib/python3.10/site-packages/past/builtins/misc.py:45: DeprecationWarning: the imp module is deprecated in favour of importlib and slated for removal in Python 3.12; see the module's documentation for alternative uses\n",
      "  from imp import reload\n",
      "/usr/lib/python3.10/site-packages/past/builtins/misc.py:45: DeprecationWarning: the imp module is deprecated in favour of importlib and slated for removal in Python 3.12; see the module's documentation for alternative uses\n",
      "  from imp import reload\n",
      "/usr/lib/python3.10/site-packages/past/builtins/misc.py:45: DeprecationWarning: the imp module is deprecated in favour of importlib and slated for removal in Python 3.12; see the module's documentation for alternative uses\n",
      "  from imp import reload\n"
     ]
    },
    {
     "data": {
      "text/html": [
       "\n",
       "<link rel=\"stylesheet\" type=\"text/css\" href=\"https://cdn.jsdelivr.net/gh/bmabey/pyLDAvis@3.3.1/pyLDAvis/js/ldavis.v1.0.0.css\">\n",
       "\n",
       "\n",
       "<div id=\"ldavis_el2064371397720407807526891608582\"></div>\n",
       "<script type=\"text/javascript\">\n",
       "\n",
       "var ldavis_el2064371397720407807526891608582_data = {\"mdsDat\": {\"x\": [0.0532740909131228, -0.0532740909131228], \"y\": [0.0, 0.0], \"topics\": [1, 2], \"cluster\": [1, 1], \"Freq\": [71.09085572733026, 28.909144272669728]}, \"tinfo\": {\"Term\": [\"Soleimani\", \"kill\", \"Trump\", \"Iran\", \"attack\", \"United\", \"military\", \"States\", \"american\", \"Democrats\", \"United_States\", \"try\", \"strike\", \"harm\", \"administration\", \"fund\", \"Americans\", \"seek\", \"action\", \"terrorism\", \"Pakistan\", \"approve\", \"pay\", \"disaster\", \"the United States\", \"Obama\", \"operate\", \"iranian\", \"regime\", \"Afghanistan\", \"white\", \"look_like\", \"specie\", \"quarter\", \"Amazon\", \"coach\", \"fully\", \"ecosystem\", \"shape\", \"prosecutor\", \"freezing\", \"anticipate\", \"reaction\", \"council\", \"main\", \"Florida\", \"testing\", \"wear\", \"emergency_service\", \"roll\", \"check\", \"stress\", \"normally\", \"rocket\", \"widespread\", \"Bahamas\", \"Georgia\", \"closet\", \"fish\", \"Andrew\", \"little\", \"throw\", \"piece\", \"little_bit\", \"rapid\", \"population\", \"snowfall\", \"bushfire\", \"investigate\", \"involve\", \"ice\", \"cover\", \"temperature\", \"game\", \"Russia\", \"eye\", \"road\", \"chance\", \"high\", \"city\", \"hurricane\", \"different\", \"feel\", \"home\", \"place\", \"weather\", \"family\", \"provide\", \"burn\", \"week\", \"expect\", \"sure\", \"biological\", \"event\", \"ceasefire\", \"system\", \"safe\", \"business\", \"live\", \"rain\", \"condition\", \"Fire\", \"money\", \"cause\", \"tell\", \"important\", \"house\", \"fight\", \"hard\", \"talk\", \"affect\", \"increase\", \"try\", \"use\", \"large\", \"Soleimani\", \"terrorist_world\", \"flawless\", \"terrorist_Soleimani\", \"message_terrorist\", \"malign\", \"execute_flawless\", \"precision_strike\", \"wonderful_guy\", \"pay_fund\", \"kill_Soleimani\", \"New Delhi\", \"leadership_America\", \"Qassem\", \"Qasem\", \"successfully\", \"policy_unambiguous\", \"Qasem_Soleimani\", \"terrorist_operate\", \"kill_number\", \"night_ally\", \"Qasem Soleimani\", \"peace_new\", \"kill_American\", \"rid_world\", \"badly_wound\", \"find_eliminate\", \"Qassem_Soleimani\", \"plot_far\", \"available_administration\", \"number_terrorist\", \"couldn_approve\", \"approve\", \"harm\", \"India\", \"service_member\", \"kill\", \"administration\", \"Iran\", \"Democrats\", \"rid\", \"plot\", \"American\", \"iranian\", \"seek\", \"Trump\", \"american\", \"military\", \"strike\", \"radical\", \"terrorism\", \"ally\", \"fund\", \"attack\", \"United\", \"States\", \"Iraq\", \"United_States\", \"Pakistan\", \"Americans\", \"try\", \"regime\", \"action\", \"pay\", \"disaster\", \"operate\", \"the United States\", \"President\", \"job\", \"Obama\", \"future\", \"plan\", \"protect\", \"today\", \"night\", \"create\", \"leader\", \"find\", \"deal\"], \"Freq\": [84.0, 158.0, 135.0, 70.0, 127.0, 100.0, 72.0, 100.0, 69.0, 54.0, 95.0, 135.0, 53.0, 32.0, 37.0, 49.0, 57.0, 33.0, 68.0, 34.0, 41.0, 22.0, 58.0, 57.0, 68.0, 40.0, 37.0, 25.0, 33.0, 41.0, 26.120278406782827, 30.955511388905986, 18.240586966399523, 19.104312960192065, 16.221617048797, 19.989062146011573, 21.87416992665433, 12.34727977093368, 12.341881820294478, 10.433634780585267, 15.177546931927207, 10.4308181237827, 15.16161813830301, 13.251003171184221, 17.97133173337449, 23.64360230867673, 10.393077562212975, 13.228153166603933, 17.002980302263968, 9.440293081662205, 26.416730160469267, 16.978367275093085, 11.28745463309678, 9.40510191894775, 11.280007704861648, 8.458244955709528, 8.456909215886522, 8.451255005569461, 12.201125968052208, 9.383757577453252, 80.05815414933275, 26.23612097909861, 15.007617070178933, 26.06854034770187, 14.054757801395999, 21.433225108771257, 18.65620826890614, 122.58775816920418, 23.147085434987304, 48.085577794330185, 37.482181425519016, 28.478610926103393, 24.901157633915346, 31.918715629920445, 39.66937207379946, 28.351343351497466, 63.68438374167692, 51.71673563617435, 91.88059870243312, 54.62703170471912, 102.31677738273893, 61.52047423013866, 69.1988676445152, 112.08086501573248, 87.00428278465863, 100.11587409212567, 88.24679687661653, 84.87456909245086, 83.61792442392155, 78.45443049324908, 68.84232134663031, 59.0488463377037, 59.00951652620047, 75.05007896371465, 48.09461397249883, 77.95029621814825, 67.90430094297047, 65.00968400733369, 62.634546132314874, 69.4299808791361, 73.72640644193442, 90.26028085742436, 58.73501291900057, 91.02708900111969, 90.51214122750937, 76.49808472181529, 63.19751235028289, 77.38284710555811, 74.15183710095103, 70.33379226554213, 69.83018150806646, 68.28011620890727, 81.12865530731119, 67.54667681468085, 67.61631345744199, 82.77906332956641, 15.45700558112638, 13.872561051449653, 16.115681721419307, 12.277832561827589, 11.475755245349864, 10.697909682800917, 9.903372028702877, 9.116617338463616, 9.114808678203595, 9.114089507655098, 9.096706869260933, 8.33656685626039, 9.093486702625878, 9.09245535481193, 9.091600221672177, 8.330565717939674, 9.084088288505182, 9.083241205782016, 8.323901761986578, 8.323775638793371, 9.080363629097302, 8.318473992225048, 8.313287734961147, 8.31157746868164, 8.306949373634483, 7.550085880185108, 8.300890987906923, 8.300321197310664, 7.544758293385558, 16.599452721947824, 8.295190398472146, 20.410566448052005, 27.117044701565245, 14.446974375810541, 11.660675997840022, 103.74181142932719, 28.329628860679623, 47.676534911581165, 38.10588481146375, 17.458484052310865, 15.694435623054748, 13.913585974380238, 20.132399509208742, 24.851158347976494, 73.6145048658327, 42.32904032630063, 43.69298841809571, 33.87156963025495, 18.477258904531606, 24.266848378157206, 19.89614661708363, 31.167563505133963, 61.106948299732565, 51.094777574320005, 50.67030952033893, 17.786942838067812, 46.42823731550258, 25.977588737751475, 31.676847170319427, 53.95846102898453, 21.849270708279857, 32.89965178053717, 29.82329063147906, 29.52892267649855, 23.434098974480595, 31.706397566140435, 35.72987412590056, 35.42916423163045, 24.20656149180461, 29.160222541692214, 32.32789330466874, 32.22244715922244, 30.214934453560154, 29.732573170425205, 28.37400633487359, 28.25170082811132, 28.623096957983783, 28.389300337408635], \"Total\": [84.0, 158.0, 135.0, 70.0, 127.0, 100.0, 72.0, 100.0, 69.0, 54.0, 95.0, 135.0, 53.0, 32.0, 37.0, 49.0, 57.0, 33.0, 68.0, 34.0, 41.0, 22.0, 58.0, 57.0, 68.0, 40.0, 37.0, 25.0, 33.0, 41.0, 26.77357502390808, 31.731950141156243, 18.811433005815687, 19.782174249515396, 16.81090860521958, 20.757200918759978, 22.73068376875794, 12.843120582153892, 12.84200908700791, 10.86396722761641, 15.803664168633519, 10.863433982029852, 15.800455480463151, 13.821856031092217, 18.756960315687888, 24.680744633587523, 10.855739112571124, 13.817268843786342, 17.76503044431694, 9.867047398048497, 27.630011239675184, 17.76008989590837, 11.832574224571061, 9.859830901872199, 11.83111468186164, 8.872362829478266, 8.87211347660206, 8.870957744034529, 12.813462904164638, 9.855421030962322, 84.65457035997287, 27.593157788253208, 15.769345922342117, 27.559799740017947, 14.780498328411909, 22.641722563353994, 19.69170484268147, 134.66086863720824, 24.58014903665942, 51.91678133502881, 40.21835634445614, 30.435712146716593, 26.527729434538458, 34.31642420079147, 43.049212907679184, 30.410119768253708, 70.997418844004, 57.429940520989646, 106.16325960323638, 61.203777942168, 119.42244387768014, 69.76468491832425, 79.28070488609569, 133.34368971032512, 101.99367097338495, 118.97968001054767, 103.83787946253776, 99.97099472563562, 98.92103108563285, 92.30239036609765, 80.00606659629324, 67.67326836192521, 67.66532623020643, 88.4290090432974, 54.309582538916004, 92.99805797755151, 79.817250161945, 76.04647418740961, 73.17726614557449, 82.51554930581179, 88.9597571384046, 113.8082377681946, 68.40712510284413, 115.55673517836364, 115.45312970173362, 95.8942074417707, 74.8846930030016, 98.46353917527213, 93.8279014293619, 89.07415309600934, 90.56703491837821, 88.66095157401041, 135.0871163362957, 90.90466893972342, 93.30993895640711, 84.92206018168554, 16.061749481678163, 14.465059685028917, 16.89317763965665, 12.870939056010744, 12.075055758661838, 11.273112953408965, 10.47534105196571, 9.675630812765913, 9.676083740397859, 9.676265568703316, 9.680598325918746, 8.874265821874035, 9.680918433475965, 9.681661106522048, 9.681412390463324, 8.875752786559653, 9.683746039356276, 9.683956165282648, 8.877408574630216, 8.877445122715887, 9.684675435138619, 8.878767012067451, 8.880059560371578, 8.880480002577748, 8.881638578255172, 8.074501101604328, 8.882617091530335, 8.883283300201134, 8.075823446571311, 17.76803314727593, 8.884569235447513, 22.79472757827287, 32.08135282387614, 16.313930062662607, 13.023764530060195, 158.47228845705382, 37.76295783813494, 70.80940618314935, 54.26021774733197, 21.541130477989682, 18.992263688923266, 16.44695650168864, 25.857415035158805, 33.64927237571159, 135.12596931364936, 69.16251031327816, 72.81053500846953, 53.33052838737336, 24.278483639057786, 34.79487470635023, 26.91471205456907, 49.02234767712182, 127.29937300429324, 100.88268510918951, 100.9896094412795, 23.454174006314464, 95.07288794042043, 41.34881299479323, 57.87510550705757, 135.0871163362957, 33.40716508801993, 68.54362864525031, 58.3416756991709, 57.417922977098215, 37.99750914006173, 68.8443859500051, 91.78009509356487, 91.85581636831998, 40.79681633590447, 65.49393607720079, 85.65167407429644, 90.66762488342928, 81.19446488805318, 83.31174695428078, 69.68352833312883, 68.71657773021859, 84.5889392025349, 81.65423596624582], \"Category\": [\"Default\", \"Default\", \"Default\", \"Default\", \"Default\", \"Default\", \"Default\", \"Default\", \"Default\", \"Default\", \"Default\", \"Default\", \"Default\", \"Default\", \"Default\", \"Default\", \"Default\", \"Default\", \"Default\", \"Default\", \"Default\", \"Default\", \"Default\", \"Default\", \"Default\", \"Default\", \"Default\", \"Default\", \"Default\", \"Default\", \"Topic1\", \"Topic1\", \"Topic1\", \"Topic1\", \"Topic1\", \"Topic1\", \"Topic1\", \"Topic1\", \"Topic1\", \"Topic1\", \"Topic1\", \"Topic1\", \"Topic1\", \"Topic1\", \"Topic1\", \"Topic1\", \"Topic1\", \"Topic1\", \"Topic1\", \"Topic1\", \"Topic1\", \"Topic1\", \"Topic1\", \"Topic1\", \"Topic1\", \"Topic1\", \"Topic1\", \"Topic1\", \"Topic1\", \"Topic1\", \"Topic1\", \"Topic1\", \"Topic1\", \"Topic1\", \"Topic1\", \"Topic1\", \"Topic1\", \"Topic1\", \"Topic1\", \"Topic1\", \"Topic1\", \"Topic1\", \"Topic1\", \"Topic1\", \"Topic1\", \"Topic1\", \"Topic1\", \"Topic1\", \"Topic1\", \"Topic1\", \"Topic1\", \"Topic1\", \"Topic1\", \"Topic1\", \"Topic1\", \"Topic1\", \"Topic1\", \"Topic1\", \"Topic1\", \"Topic1\", \"Topic1\", \"Topic1\", \"Topic1\", \"Topic1\", \"Topic1\", \"Topic1\", \"Topic1\", \"Topic1\", \"Topic1\", \"Topic1\", \"Topic1\", \"Topic1\", \"Topic1\", \"Topic1\", \"Topic1\", \"Topic1\", \"Topic1\", \"Topic1\", \"Topic1\", \"Topic1\", \"Topic1\", \"Topic1\", \"Topic1\", \"Topic1\", \"Topic1\", \"Topic2\", \"Topic2\", \"Topic2\", \"Topic2\", \"Topic2\", \"Topic2\", \"Topic2\", \"Topic2\", \"Topic2\", \"Topic2\", \"Topic2\", \"Topic2\", \"Topic2\", \"Topic2\", \"Topic2\", \"Topic2\", \"Topic2\", \"Topic2\", \"Topic2\", \"Topic2\", \"Topic2\", \"Topic2\", \"Topic2\", \"Topic2\", \"Topic2\", \"Topic2\", \"Topic2\", \"Topic2\", \"Topic2\", \"Topic2\", \"Topic2\", \"Topic2\", \"Topic2\", \"Topic2\", \"Topic2\", \"Topic2\", \"Topic2\", \"Topic2\", \"Topic2\", \"Topic2\", \"Topic2\", \"Topic2\", \"Topic2\", \"Topic2\", \"Topic2\", \"Topic2\", \"Topic2\", \"Topic2\", \"Topic2\", \"Topic2\", \"Topic2\", \"Topic2\", \"Topic2\", \"Topic2\", \"Topic2\", \"Topic2\", \"Topic2\", \"Topic2\", \"Topic2\", \"Topic2\", \"Topic2\", \"Topic2\", \"Topic2\", \"Topic2\", \"Topic2\", \"Topic2\", \"Topic2\", \"Topic2\", \"Topic2\", \"Topic2\", \"Topic2\", \"Topic2\", \"Topic2\", \"Topic2\", \"Topic2\", \"Topic2\", \"Topic2\", \"Topic2\", \"Topic2\"], \"logprob\": [30.0, 29.0, 28.0, 27.0, 26.0, 25.0, 24.0, 23.0, 22.0, 21.0, 20.0, 19.0, 18.0, 17.0, 16.0, 15.0, 14.0, 13.0, 12.0, 11.0, 10.0, 9.0, 8.0, 7.0, 6.0, 5.0, 4.0, 3.0, 2.0, 1.0, -7.2771, -7.1072, -7.6361, -7.5899, -7.7534, -7.5446, -7.4545, -8.0264, -8.0268, -8.1948, -7.82, -8.195, -7.821, -7.9557, -7.651, -7.3767, -8.1987, -7.9574, -7.7064, -8.2948, -7.2658, -7.7079, -8.1161, -8.2985, -8.1168, -8.4047, -8.4048, -8.4055, -8.0383, -8.3008, -6.157, -7.2727, -7.8312, -7.2791, -7.8968, -7.4749, -7.6136, -5.731, -7.3979, -6.6668, -6.9159, -7.1906, -7.3249, -7.0766, -6.8592, -7.1951, -6.3859, -6.594, -6.0193, -6.5393, -5.9117, -6.4204, -6.3028, -5.8206, -6.0738, -5.9335, -6.0597, -6.0986, -6.1135, -6.1773, -6.308, -6.4614, -6.4621, -6.2216, -6.6666, -6.1837, -6.3217, -6.3653, -6.4025, -6.2995, -6.2394, -6.0371, -6.4668, -6.0286, -6.0343, -6.2025, -6.3935, -6.191, -6.2337, -6.2865, -6.2937, -6.3162, -6.1438, -6.327, -6.3259, -5.2238, -6.9019, -7.0101, -6.8602, -7.1322, -7.1998, -7.2699, -7.3471, -7.4299, -7.4301, -7.4302, -7.4321, -7.5193, -7.4324, -7.4325, -7.4326, -7.5201, -7.4335, -7.4336, -7.5209, -7.5209, -7.4339, -7.5215, -7.5221, -7.5223, -7.5229, -7.6184, -7.5236, -7.5237, -7.6191, -6.8306, -7.5243, -6.6239, -6.3398, -6.9695, -7.1838, -4.9981, -6.2961, -5.7756, -5.9996, -6.7802, -6.8867, -7.0071, -6.6377, -6.4271, -5.3412, -5.8945, -5.8628, -6.1174, -6.7235, -6.4509, -6.6495, -6.2006, -5.5274, -5.7063, -5.7147, -6.7615, -5.8021, -6.3828, -6.1844, -5.6518, -6.5558, -6.1465, -6.2447, -6.2546, -6.4858, -6.1835, -6.064, -6.0725, -6.4534, -6.2672, -6.1641, -6.1673, -6.2317, -6.2477, -6.2945, -6.2988, -6.2858, -6.294], \"loglift\": [30.0, 29.0, 28.0, 27.0, 26.0, 25.0, 24.0, 23.0, 22.0, 21.0, 20.0, 19.0, 18.0, 17.0, 16.0, 15.0, 14.0, 13.0, 12.0, 11.0, 10.0, 9.0, 8.0, 7.0, 6.0, 5.0, 4.0, 3.0, 2.0, 1.0, 0.3165, 0.3164, 0.3104, 0.3063, 0.3055, 0.3035, 0.3028, 0.3018, 0.3015, 0.3008, 0.3008, 0.3006, 0.2999, 0.299, 0.2984, 0.2983, 0.2977, 0.2976, 0.2974, 0.297, 0.2963, 0.2962, 0.294, 0.294, 0.2935, 0.2934, 0.2933, 0.2927, 0.2922, 0.2922, 0.2854, 0.2908, 0.2917, 0.2856, 0.2909, 0.2864, 0.2872, 0.2473, 0.2811, 0.2646, 0.2708, 0.2747, 0.2779, 0.2688, 0.2594, 0.2711, 0.2325, 0.2364, 0.1967, 0.2275, 0.1866, 0.2155, 0.2052, 0.1675, 0.1823, 0.1686, 0.1785, 0.1775, 0.1731, 0.1787, 0.1909, 0.2049, 0.2043, 0.1772, 0.2197, 0.1647, 0.1796, 0.1844, 0.1856, 0.1685, 0.1534, 0.1094, 0.1888, 0.1026, 0.0978, 0.1152, 0.1715, 0.1003, 0.1059, 0.105, 0.0812, 0.08, -0.1687, 0.0442, 0.0191, 1.2155, 1.2026, 1.1992, 1.1939, 1.1938, 1.1901, 1.1886, 1.1849, 1.1815, 1.1813, 1.1812, 1.1788, 1.1785, 1.1784, 1.1782, 1.1782, 1.1776, 1.1771, 1.177, 1.1766, 1.1766, 1.1766, 1.1758, 1.1751, 1.1748, 1.1741, 1.1739, 1.1733, 1.1731, 1.173, 1.173, 1.1724, 1.1305, 1.0729, 1.1195, 1.1305, 0.8173, 0.9536, 0.8455, 0.8876, 1.0309, 1.0503, 1.0737, 0.9907, 0.9379, 0.6336, 0.75, 0.7303, 0.7871, 0.968, 0.8807, 0.9389, 0.7881, 0.5071, 0.5607, 0.5513, 0.9644, 0.5243, 0.7762, 0.6383, 0.3233, 0.8164, 0.507, 0.57, 0.576, 0.7577, 0.4657, 0.2976, 0.2883, 0.719, 0.4319, 0.2667, 0.2065, 0.2525, 0.2107, 0.3425, 0.3522, 0.1574, 0.1845]}, \"token.table\": {\"Topic\": [1, 2, 1, 2, 1, 2, 1, 2, 1, 1, 1, 2, 1, 2, 1, 2, 1, 1, 2, 1, 2, 1, 2, 1, 2, 1, 2, 1, 2, 1, 2, 1, 2, 1, 2, 1, 2, 1, 2, 1, 2, 1, 2, 1, 2, 1, 2, 1, 2, 1, 2, 1, 2, 1, 2, 1, 2, 1, 2, 1, 2, 1, 2, 1, 1, 2, 1, 2, 1, 2, 1, 2, 1, 2, 1, 2, 1, 2, 1, 2, 1, 2, 1, 2, 1, 2, 1, 2, 1, 2, 1, 1, 2, 1, 2, 1, 2, 1, 2, 1, 2, 1, 2, 1, 2, 1, 2, 1, 2, 1, 1, 2, 1, 2, 1, 2, 1, 2, 1, 2, 1, 2, 1, 2, 1, 2, 1, 2, 1, 2, 1, 2, 1, 2, 1, 2, 1, 2, 1, 2, 1, 2, 1, 2, 1, 2, 1, 2, 1, 2, 1, 2, 1, 2, 1, 2, 1, 2, 1, 2, 1, 2, 1, 2, 1, 2, 1, 2, 1, 2, 1, 2, 1, 2, 1, 2, 1, 2, 1, 2, 1, 2, 1, 2, 1, 2, 1, 2, 1, 2, 1, 2, 1, 2, 1, 2, 1, 2, 1, 2, 1, 2, 1, 2, 1, 2, 1, 2, 1, 2, 1, 2, 1, 2, 1, 2, 1, 2, 1, 2, 1, 2, 1, 2, 1, 2, 1, 2, 1, 2, 1, 2, 1, 2, 1, 1, 2, 1, 2, 1, 2, 1, 2, 1, 2, 1, 2, 1, 2, 1, 2, 1, 2, 1, 2, 1, 2, 1, 1, 1, 2, 1, 2, 1, 2, 1, 2, 1, 2, 1, 2, 1, 2, 1, 2, 1, 2, 1, 2, 1, 2, 1, 2, 1, 2, 1, 2, 1, 2, 1, 2, 1, 2, 1, 2, 1, 1, 2, 1, 2, 1, 2, 1, 2, 1, 2, 1, 2, 1, 2, 1, 2, 1, 2, 1, 2, 1, 2], \"Freq\": [0.42997574631353885, 0.5733009950847185, 0.9517629520055921, 0.05948518450034951, 0.182404568267204, 0.8512213185802853, 0.44924324149749384, 0.5529147587661463, 0.913202994750312, 0.9016763802107082, 0.2948753371117228, 0.7003289256403417, 0.7908039151200339, 0.21088104403200905, 0.9724179864224554, 0.04051741610093564, 0.9017017220415364, 0.12259461652207052, 0.8581623156544935, 0.3248156034596623, 0.6778760420027735, 0.2558180048627868, 0.7674540145883603, 0.10329940013342037, 0.9296946012007834, 0.4166991821133513, 0.5882811982776724, 0.3627673665478341, 0.6287967686829125, 0.6101540856207549, 0.392241912184771, 0.1032880606951167, 0.9295925462560503, 0.10325591257005164, 0.9293032131304647, 0.10326582253766692, 0.9293924028390023, 0.10329598445350674, 0.9296638600815607, 0.11257943348177307, 0.9006354678541846, 0.9291691368616112, 0.06968768526462084, 0.023551006602066916, 0.977366773985777, 0.495100439308784, 0.5050024480949596, 0.45883112117470115, 0.5476371446278692, 0.4956251902482862, 0.5055376940532519, 0.5153940419976193, 0.48383930473245895, 0.5252129295097452, 0.48144518538393305, 0.23832878871875196, 0.7414673426805617, 0.7729081565172818, 0.23187244695518455, 0.2600808058361402, 0.7430880166746863, 0.3903849047366982, 0.6072654073681971, 0.9205192406509642, 0.08773958772406341, 0.8773958772406342, 0.5184628835349732, 0.4791853923580813, 0.12382638211643447, 0.9906110569314758, 0.11259183665143616, 0.9007346932114892, 0.8719384548487088, 0.13300756090912508, 0.8491621961287871, 0.1516361064515691, 0.9134056630168935, 0.08911274761140425, 0.8547404819822865, 0.1446483892585408, 0.7874919610660518, 0.21634394534781642, 0.8838219289497425, 0.11047774111871782, 0.9054510509373573, 0.10447512126200277, 0.9410057699385016, 0.03619252961301929, 0.8986373366031423, 0.11437202465858173, 0.9018191982009808, 0.9635210488291014, 0.04817605244145507, 0.8318368032960113, 0.16861556823567797, 0.11255469719457145, 0.9004375775565716, 0.9405393870950866, 0.07234918362269897, 0.9199719022516988, 0.0657122787322642, 0.5883743401165845, 0.4018166225186431, 0.6490783897838333, 0.34290933799900625, 0.8887017847580819, 0.11467119803330089, 0.487652609990231, 0.5224849392752475, 0.9343523579989238, 0.956936159118057, 0.05629036230106217, 0.8481379675223752, 0.1470105810372117, 0.08870664244498695, 0.9757730668948565, 0.8624345994681963, 0.13748957382826318, 0.9207461270583445, 0.06576758050416746, 0.8474749335742002, 0.1540863515589455, 0.8703252588272745, 0.1261340954822137, 0.7820153596442893, 0.21327691626662434, 0.6620250889530227, 0.3428344210649582, 0.12384666091646322, 0.9907732873317058, 0.9365149834788029, 0.07804291528990025, 0.06913210327330917, 0.9678494458263283, 0.9491469724958722, 0.06327646483305815, 0.9678547387227204, 0.04399339721466911, 0.3671794773794646, 0.6323646554868557, 0.5496692084220607, 0.44278908456221555, 0.9324980893336188, 0.05828113058335117, 0.7886779824838214, 0.21315621148211386, 0.1558537767234932, 0.8416103943068634, 0.866589819715703, 0.1318723638697809, 0.8399347598923353, 0.15748776747981288, 0.8412934269153614, 0.1602463670314974, 0.8541108077178082, 0.14235180128630137, 0.9199779245851808, 0.07459280469609575, 0.7925400504107514, 0.19813501260268784, 0.7669667287885634, 0.22557844964369514, 0.9357144240947136, 0.04068323583020494, 0.9245565454115293, 0.07704637878429411, 0.232041756372077, 0.7734725212402567, 0.6096511055484317, 0.38103194096776977, 0.34706383390749773, 0.6562661586614503, 0.11261185729683956, 0.9008948583747165, 0.10334565467429668, 0.9301108920686703, 0.11264548562716732, 0.9011638850173386, 0.7287540937280915, 0.2786412711313291, 0.582101165704731, 0.4074708159933117, 0.11268537815659253, 0.9014830252527403, 0.9450169041059396, 0.05906355650662123, 0.9434030814907173, 0.03628473390348912, 0.8609231161310612, 0.15031990916574084, 0.9769333388619281, 0.031513978672965424, 0.9596437640775524, 0.05331354244875291, 0.0828153525736448, 0.9109688783100927, 0.07769440874890933, 0.932332904986912, 0.3982940105662819, 0.6043081539626346, 0.8624832561125564, 0.14618360273094175, 0.6481678991755356, 0.360093277319742, 0.11264502187021899, 0.9011601749617519, 0.9296371010424621, 0.08451246373113291, 0.05628084952966857, 0.9567744420043657, 0.3947627183852723, 0.6053028348574175, 0.497071769921962, 0.51421217578134, 0.10334759669606604, 0.9301283702645943, 0.11262825104441462, 0.901026008355317, 0.9512125660676831, 0.06341417107117887, 0.8529941041410548, 0.14706794898983702, 0.6187853369220367, 0.373606241160475, 0.15795905370404426, 0.8424482864215694, 0.11257099050047838, 0.900567924003827, 0.11266649985050022, 0.9013319988040017, 0.9274912693254554, 0.04416625092025978, 0.09546228567062728, 0.9546228567062729, 0.9204740580015568, 0.6396991216497641, 0.352937446427456, 0.8502466163638502, 0.15004352053479708, 0.9604606531289371, 0.05055056069099669, 0.2471324028798716, 0.7413972086396148, 0.8362060312327115, 0.1575460638554384, 0.9471940450809029, 0.06765671750577879, 0.9493397211584885, 0.06328931474389923, 0.3592043793115296, 0.6585413620711376, 0.18569127577065297, 0.7891879220252752, 0.11260652574069518, 0.9008522059255615, 0.9014412219776782, 0.09859513365380855, 0.9127945590112572, 0.9121269653351436, 0.8519461627910205, 0.15034344049253304, 0.26746492166339675, 0.7429581157316576, 0.07678271498934863, 0.9213925798721836, 0.9344332275967817, 0.07786943563306514, 0.9648732881074771, 0.05078280463723563, 0.9568649020218275, 0.053159161223434864, 0.957202362129739, 0.05630602130174935, 0.35626873714790486, 0.637533529633093, 0.1032907141715242, 0.9296164275437178, 0.8718361241910252, 0.1329919511477835, 0.8387271916885422, 0.16129369070933502, 0.7858620886863769, 0.21330542407201658, 0.788198641605413, 0.21653808835313545, 0.9424100943765887, 0.0753928075501271, 0.3161385144459925, 0.6897567587912563, 0.05919549425991384, 0.9471279081586215, 0.10326358183910808, 0.9293722365519728, 0.062259718416148406, 0.9338957762422261, 0.921171731956955, 0.5374439685883676, 0.46481640526561524, 0.9422625782638246, 0.03624086839476248, 0.6281216345266419, 0.3694833144274364, 0.5996130659740541, 0.39974204398270274, 0.7480363857338183, 0.2530123069393797, 0.94085163623679, 0.07237320278744538, 0.8404796515769323, 0.15969113379961714, 0.8450485376449051, 0.15167537855164964, 0.9711067713886808, 0.03735026043802619, 0.9297517855070894, 0.08452288959155359, 0.10335243451833774, 0.9301719106650397], \"Term\": [\"Afghanistan\", \"Afghanistan\", \"Amazon\", \"Amazon\", \"American\", \"American\", \"Americans\", \"Americans\", \"Andrew\", \"Bahamas\", \"Democrats\", \"Democrats\", \"Fire\", \"Fire\", \"Florida\", \"Florida\", \"Georgia\", \"India\", \"India\", \"Iran\", \"Iran\", \"Iraq\", \"Iraq\", \"New Delhi\", \"New Delhi\", \"Obama\", \"Obama\", \"Pakistan\", \"Pakistan\", \"President\", \"President\", \"Qasem\", \"Qasem\", \"Qasem Soleimani\", \"Qasem Soleimani\", \"Qasem_Soleimani\", \"Qasem_Soleimani\", \"Qassem\", \"Qassem\", \"Qassem_Soleimani\", \"Qassem_Soleimani\", \"Russia\", \"Russia\", \"Soleimani\", \"Soleimani\", \"States\", \"States\", \"Trump\", \"Trump\", \"United\", \"United\", \"United_States\", \"United_States\", \"action\", \"action\", \"administration\", \"administration\", \"affect\", \"affect\", \"ally\", \"ally\", \"american\", \"american\", \"anticipate\", \"approve\", \"approve\", \"attack\", \"attack\", \"available_administration\", \"available_administration\", \"badly_wound\", \"badly_wound\", \"biological\", \"biological\", \"burn\", \"burn\", \"bushfire\", \"bushfire\", \"business\", \"business\", \"cause\", \"cause\", \"ceasefire\", \"ceasefire\", \"chance\", \"chance\", \"check\", \"check\", \"city\", \"city\", \"closet\", \"coach\", \"coach\", \"condition\", \"condition\", \"couldn_approve\", \"couldn_approve\", \"council\", \"council\", \"cover\", \"cover\", \"create\", \"create\", \"deal\", \"deal\", \"different\", \"different\", \"disaster\", \"disaster\", \"ecosystem\", \"emergency_service\", \"emergency_service\", \"event\", \"event\", \"execute_flawless\", \"execute_flawless\", \"expect\", \"expect\", \"eye\", \"eye\", \"family\", \"family\", \"feel\", \"feel\", \"fight\", \"fight\", \"find\", \"find\", \"find_eliminate\", \"find_eliminate\", \"fish\", \"fish\", \"flawless\", \"flawless\", \"freezing\", \"freezing\", \"fully\", \"fully\", \"fund\", \"fund\", \"future\", \"future\", \"game\", \"game\", \"hard\", \"hard\", \"harm\", \"harm\", \"high\", \"high\", \"home\", \"home\", \"house\", \"house\", \"hurricane\", \"hurricane\", \"ice\", \"ice\", \"important\", \"important\", \"increase\", \"increase\", \"investigate\", \"investigate\", \"involve\", \"involve\", \"iranian\", \"iranian\", \"job\", \"job\", \"kill\", \"kill\", \"kill_American\", \"kill_American\", \"kill_Soleimani\", \"kill_Soleimani\", \"kill_number\", \"kill_number\", \"large\", \"large\", \"leader\", \"leader\", \"leadership_America\", \"leadership_America\", \"little\", \"little\", \"little_bit\", \"little_bit\", \"live\", \"live\", \"look_like\", \"look_like\", \"main\", \"main\", \"malign\", \"malign\", \"message_terrorist\", \"message_terrorist\", \"military\", \"military\", \"money\", \"money\", \"night\", \"night\", \"night_ally\", \"night_ally\", \"normally\", \"normally\", \"number_terrorist\", \"number_terrorist\", \"operate\", \"operate\", \"pay\", \"pay\", \"pay_fund\", \"pay_fund\", \"peace_new\", \"peace_new\", \"piece\", \"piece\", \"place\", \"place\", \"plan\", \"plan\", \"plot\", \"plot\", \"plot_far\", \"plot_far\", \"policy_unambiguous\", \"policy_unambiguous\", \"population\", \"population\", \"precision_strike\", \"precision_strike\", \"prosecutor\", \"protect\", \"protect\", \"provide\", \"provide\", \"quarter\", \"quarter\", \"radical\", \"radical\", \"rain\", \"rain\", \"rapid\", \"rapid\", \"reaction\", \"reaction\", \"regime\", \"regime\", \"rid\", \"rid\", \"rid_world\", \"rid_world\", \"road\", \"road\", \"rocket\", \"roll\", \"safe\", \"safe\", \"seek\", \"seek\", \"service_member\", \"service_member\", \"shape\", \"shape\", \"snowfall\", \"snowfall\", \"specie\", \"specie\", \"stress\", \"stress\", \"strike\", \"strike\", \"successfully\", \"successfully\", \"sure\", \"sure\", \"system\", \"system\", \"talk\", \"talk\", \"tell\", \"tell\", \"temperature\", \"temperature\", \"terrorism\", \"terrorism\", \"terrorist_Soleimani\", \"terrorist_Soleimani\", \"terrorist_operate\", \"terrorist_operate\", \"terrorist_world\", \"terrorist_world\", \"testing\", \"the United States\", \"the United States\", \"throw\", \"throw\", \"today\", \"today\", \"try\", \"try\", \"use\", \"use\", \"wear\", \"wear\", \"weather\", \"weather\", \"week\", \"week\", \"white\", \"white\", \"widespread\", \"widespread\", \"wonderful_guy\", \"wonderful_guy\"]}, \"R\": 30, \"lambda.step\": 0.01, \"plot.opts\": {\"xlab\": \"PC1\", \"ylab\": \"PC2\"}, \"topic.order\": [1, 2]};\n",
       "\n",
       "function LDAvis_load_lib(url, callback){\n",
       "  var s = document.createElement('script');\n",
       "  s.src = url;\n",
       "  s.async = true;\n",
       "  s.onreadystatechange = s.onload = callback;\n",
       "  s.onerror = function(){console.warn(\"failed to load library \" + url);};\n",
       "  document.getElementsByTagName(\"head\")[0].appendChild(s);\n",
       "}\n",
       "\n",
       "if(typeof(LDAvis) !== \"undefined\"){\n",
       "   // already loaded: just create the visualization\n",
       "   !function(LDAvis){\n",
       "       new LDAvis(\"#\" + \"ldavis_el2064371397720407807526891608582\", ldavis_el2064371397720407807526891608582_data);\n",
       "   }(LDAvis);\n",
       "}else if(typeof define === \"function\" && define.amd){\n",
       "   // require.js is available: use it to load d3/LDAvis\n",
       "   require.config({paths: {d3: \"https://d3js.org/d3.v5\"}});\n",
       "   require([\"d3\"], function(d3){\n",
       "      window.d3 = d3;\n",
       "      LDAvis_load_lib(\"https://cdn.jsdelivr.net/gh/bmabey/pyLDAvis@3.3.1/pyLDAvis/js/ldavis.v3.0.0.js\", function(){\n",
       "        new LDAvis(\"#\" + \"ldavis_el2064371397720407807526891608582\", ldavis_el2064371397720407807526891608582_data);\n",
       "      });\n",
       "    });\n",
       "}else{\n",
       "    // require.js not available: dynamically load d3 & LDAvis\n",
       "    LDAvis_load_lib(\"https://d3js.org/d3.v5.js\", function(){\n",
       "         LDAvis_load_lib(\"https://cdn.jsdelivr.net/gh/bmabey/pyLDAvis@3.3.1/pyLDAvis/js/ldavis.v3.0.0.js\", function(){\n",
       "                 new LDAvis(\"#\" + \"ldavis_el2064371397720407807526891608582\", ldavis_el2064371397720407807526891608582_data);\n",
       "            })\n",
       "         });\n",
       "}\n",
       "</script>"
      ],
      "text/plain": [
       "<IPython.core.display.HTML object>"
      ]
     },
     "execution_count": 55,
     "metadata": {},
     "output_type": "execute_result"
    }
   ],
   "source": [
    "import pyLDAvis.gensim_models\n",
    "# plot topics\n",
    "data =  pyLDAvis.gensim_models.prepare(model, corpus, dictionary)\n",
    "pyLDAvis.display(data)"
   ]
  },
  {
   "cell_type": "markdown",
   "metadata": {},
   "source": [
    "## Sentiment analysis"
   ]
  },
  {
   "cell_type": "code",
   "execution_count": 64,
   "metadata": {},
   "outputs": [],
   "source": [
    "import vaderSentiment\n",
    "from vaderSentiment.vaderSentiment import SentimentIntensityAnalyzer\n",
    "\n",
    "analyzer = SentimentIntensityAnalyzer()\n",
    "\n",
    "with open(\"data/politician_book.txt\", \"r\") as pol_f:\n",
    "    pol_txt = [next(pol_f) for _ in range(1000)]\n",
    "\n",
    "vs = analyzer.polarity_scores(pol_txt)"
   ]
  },
  {
   "cell_type": "code",
   "execution_count": 65,
   "metadata": {},
   "outputs": [
    {
     "name": "stdout",
     "output_type": "stream",
     "text": [
      "Negative sentiment: 0.21\n",
      "Neutral sentiment: 0.675\n",
      "Positive sentiment: 0.115\n",
      "Compound sentiment: -1.0\n"
     ]
    }
   ],
   "source": [
    "print('Negative sentiment:',vs['neg'])\n",
    "print('Neutral sentiment:',vs['neu'])\n",
    "print('Positive sentiment:',vs['pos'])\n",
    "print('Compound sentiment:',vs['compound'])"
   ]
  },
  {
   "cell_type": "code",
   "execution_count": 66,
   "metadata": {},
   "outputs": [],
   "source": [
    "import vaderSentiment\n",
    "from vaderSentiment.vaderSentiment import SentimentIntensityAnalyzer\n",
    "\n",
    "analyzer = SentimentIntensityAnalyzer()\n",
    "\n",
    "with open(\"data/researcher_book.txt\", \"r\") as res_f:\n",
    "    res_txt = [next(pol_f) for _ in range(1000)]\n",
    "\n",
    "vs = analyzer.polarity_scores(res_txt)"
   ]
  },
  {
   "cell_type": "code",
   "execution_count": 67,
   "metadata": {},
   "outputs": [
    {
     "name": "stdout",
     "output_type": "stream",
     "text": [
      "Negative sentiment: 0.125\n",
      "Neutral sentiment: 0.763\n",
      "Positive sentiment: 0.112\n",
      "Compound sentiment: -1.0\n"
     ]
    }
   ],
   "source": [
    "print('Negative sentiment:',vs['neg'])\n",
    "print('Neutral sentiment:',vs['neu'])\n",
    "print('Positive sentiment:',vs['pos'])\n",
    "print('Compound sentiment:',vs['compound'])"
   ]
  }
 ],
 "metadata": {
  "interpreter": {
   "hash": "e7370f93d1d0cde622a1f8e1c04877d8463912d04d973331ad4851f04de6915a"
  },
  "kernelspec": {
   "display_name": "Python 3.9.9 64-bit",
   "language": "python",
   "name": "python3"
  },
  "language_info": {
   "codemirror_mode": {
    "name": "ipython",
    "version": 3
   },
   "file_extension": ".py",
   "mimetype": "text/x-python",
   "name": "python",
   "nbconvert_exporter": "python",
   "pygments_lexer": "ipython3",
   "version": "3.10.1"
  },
  "orig_nbformat": 4
 },
 "nbformat": 4,
 "nbformat_minor": 2
}
