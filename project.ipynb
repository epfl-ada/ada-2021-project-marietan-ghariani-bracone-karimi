{
 "cells": [
  {
   "cell_type": "markdown",
   "metadata": {},
   "source": [
    "## ADA Project Milestone 2: Initial data handling "
   ]
  },
  {
   "cell_type": "code",
   "execution_count": 1,
   "metadata": {},
   "outputs": [],
   "source": [
    "import numpy as np\n",
    "import pandas as pd\n",
    "import matplotlib.pyplot as plt\n",
    "import math"
   ]
  },
  {
   "cell_type": "markdown",
   "metadata": {},
   "source": [
    "## Load datasets into pandas Dataframe\n",
    "- _us_disaster_declarations_ is the additional dataset containing all natural disasters in the US from 1953 to 2021. <br>\n",
    "- _natural_disaster_quotes_ dataset corresponds to the part of the Quotebank dataset that is useful for our project, i.e. it contains quotations citing the incident types. The type of incidents come from the incident_type column in the previous dataset. <br>\n",
    "Note: We used the provided Google Colab notebook to generate the wanted compressed dataset."
   ]
  },
  {
   "cell_type": "code",
   "execution_count": 2,
   "metadata": {},
   "outputs": [
    {
     "name": "stdout",
     "output_type": "stream",
     "text": [
      "Column names and their data types (more info here: https://www.kaggle.com/headsortails/us-natural-disaster-declarations )\n",
      "\n",
      "fema_declaration_string       object\n",
      "disaster_number                int64\n",
      "state                         object\n",
      "declaration_type              object\n",
      "declaration_date              object\n",
      "fy_declared                    int64\n",
      "incident_type                 object\n",
      "declaration_title             object\n",
      "ih_program_declared            int64\n",
      "ia_program_declared            int64\n",
      "pa_program_declared            int64\n",
      "hm_program_declared            int64\n",
      "incident_begin_date           object\n",
      "incident_end_date             object\n",
      "disaster_closeout_date        object\n",
      "fips                           int64\n",
      "place_code                     int64\n",
      "designated_area               object\n",
      "declaration_request_number     int64\n",
      "hash                          object\n",
      "last_refresh                  object\n",
      "id                            object\n",
      "dtype: object\n"
     ]
    }
   ],
   "source": [
    "# Load additional dataset\n",
    "\n",
    "# Dataset: download at https://www.kaggle.com/headsortails/us-natural-disaster-declarations\n",
    "# nd = natural disaters\n",
    "nd_frame = pd.read_csv('data/us_disaster_declarations.csv')\n",
    "print(\"Column names and their data types (more info here: \\\n",
    "https://www.kaggle.com/headsortails/us-natural-disaster-declarations )\\n\")\n",
    "print(nd_frame.dtypes)"
   ]
  },
  {
   "cell_type": "code",
   "execution_count": 3,
   "metadata": {},
   "outputs": [
    {
     "name": "stdout",
     "output_type": "stream",
     "text": [
      "['Tornado' 'Flood' 'Fire' 'Other' 'Earthquake' 'Hurricane' 'Volcano'\n",
      " 'Severe Storm(s)' 'Toxic Substances' 'Typhoon' 'Drought'\n",
      " 'Dam/Levee Break' 'Snow' 'Severe Ice Storm' 'Freezing' 'Coastal Storm'\n",
      " 'Fishing Losses' 'Mud/Landslide' 'Human Cause' 'Terrorist' 'Tsunami'\n",
      " 'Chemical' 'Biological']\n"
     ]
    }
   ],
   "source": [
    "# Not all are \"natural\" disasters\n",
    "nd_types = nd_frame.incident_type.unique()\n",
    "print(nd_types)"
   ]
  },
  {
   "cell_type": "markdown",
   "metadata": {},
   "source": [
    "This is the dictionary we use to extract relevant quotations from the Quotebank dataset. As we can see, some of them are similar (multiple kinds of storms), and others are not \"natural\" disasters (Human Cause, Terrorist). Some modifications are done, for instance we must also add lowercase version of the terms, and we will also ignore some types of incidents in further analysis, e.g. Fire, Snow, ..., since they are hard to work with for what we want to accomplish. As we will see, some of these terms are used in other contexts that may be irrelevant. "
   ]
  },
  {
   "cell_type": "code",
   "execution_count": 4,
   "metadata": {},
   "outputs": [
    {
     "name": "stdout",
     "output_type": "stream",
     "text": [
      "Number of quotes: 1480711\n"
     ]
    }
   ],
   "source": [
    "# Load quotation dataset\n",
    "\n",
    "df_quotes = pd.read_json('data/natural_disaster_quotes.json.bz2', lines=True, compression='bz2')\n",
    "print(f\"Number of quotes: %d\" % len(df_quotes.index))"
   ]
  },
  {
   "cell_type": "code",
   "execution_count": 5,
   "metadata": {},
   "outputs": [
    {
     "name": "stdout",
     "output_type": "stream",
     "text": [
      "Column names and their data types\n",
      "\n",
      "quoteID                   object\n",
      "quotation                 object\n",
      "speaker                   object\n",
      "qids                      object\n",
      "date              datetime64[ns]\n",
      "numOccurrences             int64\n",
      "probas                    object\n",
      "urls                      object\n",
      "phase                     object\n",
      "dtype: object\n"
     ]
    }
   ],
   "source": [
    "print(\"Column names and their data types\\n\")\n",
    "print(df_quotes.dtypes)"
   ]
  },
  {
   "cell_type": "code",
   "execution_count": 6,
   "metadata": {},
   "outputs": [
    {
     "data": {
      "text/html": [
       "<div>\n",
       "<style scoped>\n",
       "    .dataframe tbody tr th:only-of-type {\n",
       "        vertical-align: middle;\n",
       "    }\n",
       "\n",
       "    .dataframe tbody tr th {\n",
       "        vertical-align: top;\n",
       "    }\n",
       "\n",
       "    .dataframe thead th {\n",
       "        text-align: right;\n",
       "    }\n",
       "</style>\n",
       "<table border=\"1\" class=\"dataframe\">\n",
       "  <thead>\n",
       "    <tr style=\"text-align: right;\">\n",
       "      <th></th>\n",
       "      <th>quoteID</th>\n",
       "      <th>quotation</th>\n",
       "      <th>speaker</th>\n",
       "      <th>qids</th>\n",
       "      <th>date</th>\n",
       "      <th>numOccurrences</th>\n",
       "      <th>probas</th>\n",
       "      <th>urls</th>\n",
       "      <th>phase</th>\n",
       "    </tr>\n",
       "  </thead>\n",
       "  <tbody>\n",
       "    <tr>\n",
       "      <th>0</th>\n",
       "      <td>2020-01-13-009373</td>\n",
       "      <td>But he said `you're responsible. You make peop...</td>\n",
       "      <td>Tom Elliott</td>\n",
       "      <td>[Q16196918, Q21461424, Q7815715, Q8952291]</td>\n",
       "      <td>2020-01-13 05:00:53</td>\n",
       "      <td>1</td>\n",
       "      <td>[[Tom Elliott, 0.5795], [None, 0.4205]]</td>\n",
       "      <td>[https://www.3aw.com.au/tom-elliott-calls-for-...</td>\n",
       "      <td>E</td>\n",
       "    </tr>\n",
       "    <tr>\n",
       "      <th>1</th>\n",
       "      <td>2020-03-11-014404</td>\n",
       "      <td>Everything that went wrong was always my fault...</td>\n",
       "      <td>Kate James</td>\n",
       "      <td>[Q56379605]</td>\n",
       "      <td>2020-03-11 13:04:58</td>\n",
       "      <td>2</td>\n",
       "      <td>[[Kate James, 0.8144], [None, 0.1397], [Amber ...</td>\n",
       "      <td>[https://calgarysun.com/entertainment/celebrit...</td>\n",
       "      <td>E</td>\n",
       "    </tr>\n",
       "    <tr>\n",
       "      <th>2</th>\n",
       "      <td>2020-04-10-011917</td>\n",
       "      <td>Great guy, messiest desk I ever saw, like a to...</td>\n",
       "      <td>None</td>\n",
       "      <td>[]</td>\n",
       "      <td>2020-04-10 04:00:00</td>\n",
       "      <td>3</td>\n",
       "      <td>[[None, 0.7283], [Brad Harris, 0.2717]]</td>\n",
       "      <td>[http://newstimes.com/news/coronavirus/article...</td>\n",
       "      <td>E</td>\n",
       "    </tr>\n",
       "    <tr>\n",
       "      <th>3</th>\n",
       "      <td>2020-01-18-012600</td>\n",
       "      <td>How will they attend to the problems of the pe...</td>\n",
       "      <td>Krishna Byre Gowda</td>\n",
       "      <td>[Q6437387]</td>\n",
       "      <td>2020-01-18 18:13:36</td>\n",
       "      <td>1</td>\n",
       "      <td>[[Krishna Byre Gowda, 0.89], [None, 0.11]]</td>\n",
       "      <td>[https://www.thehindu.com/news/national/karnat...</td>\n",
       "      <td>E</td>\n",
       "    </tr>\n",
       "    <tr>\n",
       "      <th>4</th>\n",
       "      <td>2020-02-21-031866</td>\n",
       "      <td>I'm sure you hear it every day but you are smo...</td>\n",
       "      <td>None</td>\n",
       "      <td>[]</td>\n",
       "      <td>2020-02-21 21:12:31</td>\n",
       "      <td>1</td>\n",
       "      <td>[[None, 0.9031], [Donatella Versace, 0.0969]]</td>\n",
       "      <td>[http://feeds.inquisitr.com/~r/google/yDYq/~3/...</td>\n",
       "      <td>E</td>\n",
       "    </tr>\n",
       "  </tbody>\n",
       "</table>\n",
       "</div>"
      ],
      "text/plain": [
       "             quoteID                                          quotation  \\\n",
       "0  2020-01-13-009373  But he said `you're responsible. You make peop...   \n",
       "1  2020-03-11-014404  Everything that went wrong was always my fault...   \n",
       "2  2020-04-10-011917  Great guy, messiest desk I ever saw, like a to...   \n",
       "3  2020-01-18-012600  How will they attend to the problems of the pe...   \n",
       "4  2020-02-21-031866  I'm sure you hear it every day but you are smo...   \n",
       "\n",
       "              speaker                                        qids  \\\n",
       "0         Tom Elliott  [Q16196918, Q21461424, Q7815715, Q8952291]   \n",
       "1          Kate James                                 [Q56379605]   \n",
       "2                None                                          []   \n",
       "3  Krishna Byre Gowda                                  [Q6437387]   \n",
       "4                None                                          []   \n",
       "\n",
       "                 date  numOccurrences  \\\n",
       "0 2020-01-13 05:00:53               1   \n",
       "1 2020-03-11 13:04:58               2   \n",
       "2 2020-04-10 04:00:00               3   \n",
       "3 2020-01-18 18:13:36               1   \n",
       "4 2020-02-21 21:12:31               1   \n",
       "\n",
       "                                              probas  \\\n",
       "0            [[Tom Elliott, 0.5795], [None, 0.4205]]   \n",
       "1  [[Kate James, 0.8144], [None, 0.1397], [Amber ...   \n",
       "2            [[None, 0.7283], [Brad Harris, 0.2717]]   \n",
       "3         [[Krishna Byre Gowda, 0.89], [None, 0.11]]   \n",
       "4      [[None, 0.9031], [Donatella Versace, 0.0969]]   \n",
       "\n",
       "                                                urls phase  \n",
       "0  [https://www.3aw.com.au/tom-elliott-calls-for-...     E  \n",
       "1  [https://calgarysun.com/entertainment/celebrit...     E  \n",
       "2  [http://newstimes.com/news/coronavirus/article...     E  \n",
       "3  [https://www.thehindu.com/news/national/karnat...     E  \n",
       "4  [http://feeds.inquisitr.com/~r/google/yDYq/~3/...     E  "
      ]
     },
     "execution_count": 6,
     "metadata": {},
     "output_type": "execute_result"
    }
   ],
   "source": [
    "df_quotes.head()"
   ]
  },
  {
   "cell_type": "code",
   "execution_count": 7,
   "metadata": {},
   "outputs": [
    {
     "data": {
      "text/plain": [
       "0                                                                                                                          But he said `you're responsible. You make people think the wrong way about fires.\n",
       "1    Everything that went wrong was always my fault. I remember one occasion where she missed a connection on a flight on or around Christmas Day in 2012. My aunt was visiting from Australia at that ti...\n",
       "2    Great guy, messiest desk I ever saw, like a tornado hit a landfill but he knew where everything was! Funniest thing was the time the overnight cleaning crew left a full black garbage bag on his ch...\n",
       "3        How will they attend to the problems of the people without a full-fledged Ministry? You are not able to provide a Minister in charge of the districts. You are unable to take up flood relief work,\n",
       "4                                                                                                                           I'm sure you hear it every day but you are smoking hot call the fire department,\n",
       "Name: quotation, dtype: object"
      ]
     },
     "execution_count": 7,
     "metadata": {},
     "output_type": "execute_result"
    }
   ],
   "source": [
    "pd.options.display.max_colwidth = 200 # this is to see most of the text of the quotations\n",
    "df_quotes.head().quotation\n",
    "# Lots of irrelevant quotes! -> DISCUSS"
   ]
  },
  {
   "cell_type": "code",
   "execution_count": 8,
   "metadata": {},
   "outputs": [
    {
     "data": {
      "text/plain": [
       "Text(0, 0.5, 'Frequency')"
      ]
     },
     "execution_count": 8,
     "metadata": {},
     "output_type": "execute_result"
    },
    {
     "data": {
      "image/png": "[encoded data removed]",
      "text/plain": [
       "<Figure size 432x288 with 1 Axes>"
      ]
     },
     "metadata": {
      "needs_background": "light"
     },
     "output_type": "display_data"
    }
   ],
   "source": [
    "# Frequency histogram of the quotes w.r.t. dates\n",
    "# add column with ones to groupby and count number of quotes in a month (for example)\n",
    "df_quotes['count'] = 1\n",
    "\n",
    "df_tmp = df_quotes.groupby(pd.Grouper(key='date', axis=0, freq='M')).sum()\n",
    "# TODO: make pretty :)\n",
    "df_tmp['count'].plot(kind='bar')\n",
    "plt.title(\"Quotations frequency\")\n",
    "plt.xlabel(\"Date\")\n",
    "plt.ylabel(\"Frequency\")"
   ]
  },
  {
   "cell_type": "code",
   "execution_count": 9,
   "metadata": {},
   "outputs": [
    {
     "data": {
      "text/plain": [
       "Text(0, 0.5, 'Frequency')"
      ]
     },
     "execution_count": 9,
     "metadata": {},
     "output_type": "execute_result"
    },
    {
     "data": {
      "image/png": "[encoded data removed]",
      "text/plain": [
       "<Figure size 432x288 with 1 Axes>"
      ]
     },
     "metadata": {
      "needs_background": "light"
     },
     "output_type": "display_data"
    }
   ],
   "source": [
    "# Natural disasters per year\n",
    "nd_frame['fy_declared'].hist(bins=100)\n",
    "plt.title(\"Number of natural disasters per year\")\n",
    "plt.xlabel(\"Year\")\n",
    "plt.ylabel(\"Frequency\")\n",
    "\n",
    "# 2020 because of Covid-19 ? -> TODO: remove rows after April 2020 (don't have quotes for it) \n",
    "# Remove \"Biological\" disasters ????"
   ]
  },
  {
   "cell_type": "markdown",
   "metadata": {},
   "source": [
    "In the graph above, we easily observe that a large number of crisis that happend in 2020. With further investigation of the natural disaster dataset, we see that this mainly represents \"Biological\" disasters (see following plots), most notably Covid-19. We decided to ignore these types of incident going further, since it is a worldwide pandemic and does not have a fixed time period."
   ]
  },
  {
   "cell_type": "code",
   "execution_count": 10,
   "metadata": {},
   "outputs": [
    {
     "name": "stdout",
     "output_type": "stream",
     "text": [
      "      fema_declaration_string  disaster_number state declaration_type  \\\n",
      "44317              DR-4197-NM             4197    NM               DR   \n",
      "44318              DR-4197-NM             4197    NM               DR   \n",
      "44319              DR-4197-NM             4197    NM               DR   \n",
      "44320              DR-4197-NM             4197    NM               DR   \n",
      "44321              DR-4197-NM             4197    NM               DR   \n",
      "\n",
      "           declaration_date  fy_declared    incident_type  \n",
      "44317  2014-10-06T19:20:00Z         2015  Severe Storm(s)  \n",
      "44318  2014-10-06T19:20:00Z         2015  Severe Storm(s)  \n",
      "44319  2014-10-06T19:20:00Z         2015  Severe Storm(s)  \n",
      "44320  2014-10-06T19:20:00Z         2015  Severe Storm(s)  \n",
      "44321  2014-10-06T19:20:00Z         2015  Severe Storm(s)  \n"
     ]
    }
   ],
   "source": [
    "# get data rows from 2015 to 2020 and drop irrelevant rows\n",
    "nd_frame.drop(nd_frame[nd_frame['fy_declared'] < 2015].index, inplace = True)\n",
    "nd_frame.drop(nd_frame[nd_frame['fy_declared'] > 2020].index, inplace = True)\n",
    "\n",
    "nd_frame.drop(nd_frame[nd_frame.incident_type == \"Other\"].index, inplace = True)\n",
    "print(nd_frame.head().iloc[:, :7])"
   ]
  },
  {
   "cell_type": "code",
   "execution_count": 11,
   "metadata": {},
   "outputs": [
    {
     "data": {
      "text/plain": [
       "Text(0, 0.5, 'Frequency')"
      ]
     },
     "execution_count": 11,
     "metadata": {},
     "output_type": "execute_result"
    },
    {
     "data": {
      "image/png": "[encoded data removed]",
      "text/plain": [
       "<Figure size 720x360 with 1 Axes>"
      ]
     },
     "metadata": {
      "needs_background": "light"
     },
     "output_type": "display_data"
    }
   ],
   "source": [
    "# Occurence of different disasters\n",
    "nd_frame['incident_type'].value_counts().plot(kind='bar', figsize=(10, 5), title=\"Occurence of disasters\")\n",
    "plt.ylabel(\"Frequency\")"
   ]
  },
  {
   "cell_type": "code",
   "execution_count": 12,
   "metadata": {},
   "outputs": [
    {
     "name": "stdout",
     "output_type": "stream",
     "text": [
      "Number of natural disasters from 2015 to 2020: 16068\n"
     ]
    }
   ],
   "source": [
    "# CAN DO MORE BASIC STATISTICS MAYBE ?\n",
    "print(f\"Number of natural disasters from 2015 to 2020: %d\" % len(nd_frame.index))"
   ]
  },
  {
   "cell_type": "code",
   "execution_count": 13,
   "metadata": {},
   "outputs": [],
   "source": [
    "#TODO: Data handling and analysis -> ADD SOME EXPLANATIONS FOR GRAPHS\n",
    "#print(nd_frame['incident_type'].value_counts())"
   ]
  },
  {
   "cell_type": "code",
   "execution_count": 14,
   "metadata": {},
   "outputs": [
    {
     "data": {
      "image/png": "[encoded data removed]",
      "text/plain": [
       "<Figure size 576x432 with 15 Axes>"
      ]
     },
     "metadata": {
      "needs_background": "light"
     },
     "output_type": "display_data"
    }
   ],
   "source": [
    "# \"Ground truth\" plots\n",
    "\n",
    "stats_by_type = nd_frame.groupby('incident_type').apply(lambda x: pd.Series({\n",
    "        'fy_declared': x['fy_declared'].values\n",
    "    }))\n",
    "\n",
    "fig, ax = plt.subplots(4, 4, figsize=(8,6), sharey=False, sharex=False)\n",
    "\n",
    "for i in range(15):\n",
    "    sbplt = ax[i%4, math.floor(i/4)]\n",
    "    sbplt.hist(stats_by_type.iloc[i].values, range=[2015,2020], bins = 20)\n",
    "    sbplt.set_title(stats_by_type.index[i])\n",
    "    \n",
    "fig.tight_layout()\n",
    "\n",
    "fig.text(0.5,0, \"Year\")\n",
    "fig.text(0,0.45, \"Frequency\", rotation = 90)\n",
    "fig.delaxes(ax[3][3])\n",
    "\n",
    "# MAYBE BIGGER AND MORE CLEAR IF POSSIBLE !!!!\n",
    "# !!!!!! y-axis not the same (intended)\n",
    "# CHECK WEIRD VALUES (EARTHQUAKES.....)"
   ]
  },
  {
   "cell_type": "markdown",
   "metadata": {},
   "source": [
    "These are the occurences of the disasters that really happend. As previously said, we see most notably that \"Biological\" incident happend almost only in 2020. We will now see if it is possible to observe the catastrophies only from the quotations."
   ]
  },
  {
   "cell_type": "code",
   "execution_count": 15,
   "metadata": {},
   "outputs": [],
   "source": [
    "# Separate quotes in different dataframes with respect to the type of disaster\n",
    "\n",
    "#['Severe Storm(s)', 'Fire', 'Volcano', 'Flood', 'Tornado',\n",
    "# 'Severe Ice Storm', 'Typhoon', 'Coastal Storm' ,\n",
    "# 'Hurricane', 'Landslide', 'Dam/Levee Break', 'Earthquake']\n",
    "\n",
    "# DON'T FORGET LOWERCASE (+ add relevant words for the different dataframes for completness -> when dataset is finalized)\n",
    "# DISCUSS THAT SOME INCIDENT ARE REFERENCED BY THEIR NAMES SO NOT ALL RELEVANT QUOTES CAN BE EXTRACTED\n",
    "df_hurricane = df_quotes[df_quotes['quotation'].str.contains('Hurricane')]\n",
    "df_typhoon = df_quotes[df_quotes['quotation'].str.contains('Typhoon')]\n",
    "df_tornado = df_quotes[df_quotes['quotation'].str.contains('Tornado')]\n",
    "df_flood = df_quotes[df_quotes['quotation'].str.contains('Flood')]\n",
    "# can be more precise, need to explore further\n",
    "df_storm = df_quotes[df_quotes['quotation'].str.contains('Storm')]\n",
    "df_volcano = df_quotes[df_quotes['quotation'].str.contains('Volcano')]\n",
    "# !!! Fire pretty general term -> discuss that there are a lot of irrelevant quotes\n",
    "df_fire = df_quotes[df_quotes['quotation'].str.contains('Fire')]\n",
    "df_landslide = df_quotes[df_quotes['quotation'].str.contains('Landslide')]\n",
    "df_earthquake = df_quotes[df_quotes['quotation'].str.contains('Earthquake')]\n",
    "\n",
    "df_dam = df_quotes[df_quotes['quotation'].str.contains('Dam')]"
   ]
  },
  {
   "cell_type": "code",
   "execution_count": 16,
   "metadata": {},
   "outputs": [
    {
     "data": {
      "text/plain": [
       "18                                                                                                             They are still working on the WHIP + (Wildfire, Hurricane, and Indemnity Program Plus) funding,\n",
       "57     They have filed charges trying to prosecute a company and its employees for the Act of God that was Hurricane Harvey. This is a political prosecution in search of a theory, and Harris County taxpa...\n",
       "454                                                                            Hurricane Sandy when there was no electricity, that was probably the last time where we had to close down for a couple of days,\n",
       "590    We're about 25 minutes southeast of San Juan. We reopened five months after Hurricane Maria. When our first guests arrived at the property after it reopened, they said it wasn't the same hotel tha...\n",
       "698                                                                                    We are confident James will be able to get back on the field for the Hurricanes in the latter stages of the tournament,\n",
       "Name: quotation, dtype: object"
      ]
     },
     "execution_count": 16,
     "metadata": {},
     "output_type": "execute_result"
    }
   ],
   "source": [
    "df_hurricane.head().quotation"
   ]
  },
  {
   "cell_type": "code",
   "execution_count": 17,
   "metadata": {},
   "outputs": [
    {
     "name": "stdout",
     "output_type": "stream",
     "text": [
      "Number of quotes for Hurricanes: 26657\n",
      "Number of quotes for Typhoons: 1403\n",
      "Number of quotes for Tornados: 1258\n",
      "Number of quotes for Floods: 5748\n",
      "Number of quotes for Storms: 23229\n",
      "Number of quotes for Volcanos: 878\n",
      "Number of quotes for Fires: 57801\n",
      "Number of quotes for Landslides: 314\n",
      "Number of quotes for Earthquakes: 1416\n",
      "Number of quotes for Dam breaks: 2350\n"
     ]
    }
   ],
   "source": [
    "# Basic statistics per incident type\n",
    "print(f\"Number of quotes for Hurricanes: %d\" % len(df_hurricane.index))\n",
    "print(f\"Number of quotes for Typhoons: %d\" % len(df_typhoon.index))\n",
    "print(f\"Number of quotes for Tornados: %d\" % len(df_tornado.index))\n",
    "print(f\"Number of quotes for Floods: %d\" % len(df_flood.index))\n",
    "print(f\"Number of quotes for Storms: %d\" % len(df_storm.index))\n",
    "print(f\"Number of quotes for Volcanos: %d\" % len(df_volcano.index))\n",
    "print(f\"Number of quotes for Fires: %d\" % len(df_fire.index))\n",
    "print(f\"Number of quotes for Landslides: %d\" % len(df_landslide.index))\n",
    "print(f\"Number of quotes for Earthquakes: %d\" % len(df_earthquake.index))\n",
    "print(f\"Number of quotes for Dam breaks: %d\" % len(df_dam.index))"
   ]
  },
  {
   "cell_type": "code",
   "execution_count": 18,
   "metadata": {},
   "outputs": [
    {
     "data": {
      "text/plain": [
       "Text(0, 0.5, 'Frequency')"
      ]
     },
     "execution_count": 18,
     "metadata": {},
     "output_type": "execute_result"
    },
    {
     "data": {
      "image/png": "[encoded data removed]",
      "text/plain": [
       "<Figure size 432x288 with 1 Axes>"
      ]
     },
     "metadata": {
      "needs_background": "light"
     },
     "output_type": "display_data"
    }
   ],
   "source": [
    "# Plots w.r.t. dates\n",
    "\n",
    "# 'M' means MONTHS, can group by other value if needed\n",
    "df_hurr = df_hurricane.groupby(pd.Grouper(key='date', axis=0, freq='M')).sum()\n",
    "df_hurr['count'].plot(kind='bar')\n",
    "plt.title(\"Hurricane quote frequency\")\n",
    "plt.xlabel(\"Date\")\n",
    "plt.ylabel(\"Frequency\")\n",
    "# Need to see correlation with ground truth\n",
    "\n",
    "# TODO: other plots for incident types + make pretty (maybe not bar plot), BUT NEED UPGRADED QUOTE DATASET ..."
   ]
  },
  {
   "cell_type": "code",
   "execution_count": null,
   "metadata": {},
   "outputs": [],
   "source": []
  }
 ],
 "metadata": {
  "kernelspec": {
   "display_name": "Python 3",
   "language": "python",
   "name": "python3"
  },
  "language_info": {
   "codemirror_mode": {
    "name": "ipython",
    "version": 3
   },
   "file_extension": ".py",
   "mimetype": "text/x-python",
   "name": "python",
   "nbconvert_exporter": "python",
   "pygments_lexer": "ipython3",
   "version": "3.8.8"
  }
 },
 "nbformat": 4,
 "nbformat_minor": 4
}
