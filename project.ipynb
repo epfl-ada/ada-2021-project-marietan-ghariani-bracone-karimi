{
 "cells": [
  {
   "cell_type": "code",
   "execution_count": 1,
   "metadata": {},
   "outputs": [],
   "source": [
    "import numpy as np\n",
    "import pandas as pd\n",
    "import matplotlib.pyplot as plt\n",
    "import math"
   ]
  },
  {
   "cell_type": "code",
   "execution_count": 2,
   "metadata": {},
   "outputs": [],
   "source": [
    "# Code from TA, see Zulip\n",
    "\n",
    "# DON'T NEED\n",
    "#def process_chunk(chunk):\n",
    "#        print(f'Processing chunk with {len(chunk)} rows')\n",
    "#        print(chunk.columns)\n",
    "\n",
    "#df_reader = pd.read_json('natural_disaster_quotes.json.bz2', lines=True, compression='bz2', chunksize=1000000)\n",
    "#for chunk in df_reader:\n",
    "#    process_chunk(chunk)"
   ]
  },
  {
   "cell_type": "code",
   "execution_count": 3,
   "metadata": {},
   "outputs": [
    {
     "name": "stdout",
     "output_type": "stream",
     "text": [
      "Number of quotes: 153222\n"
     ]
    }
   ],
   "source": [
    "# Import quotation data\n",
    "\n",
    "df_quotes = pd.read_json('natural_disaster_quotes.json.bz2', lines=True, compression='bz2')\n",
    "print(f\"Number of quotes: %d\" % len(df_quotes.index))"
   ]
  },
  {
   "cell_type": "code",
   "execution_count": 4,
   "metadata": {},
   "outputs": [
    {
     "data": {
      "text/html": [
       "<div>\n",
       "<style scoped>\n",
       "    .dataframe tbody tr th:only-of-type {\n",
       "        vertical-align: middle;\n",
       "    }\n",
       "\n",
       "    .dataframe tbody tr th {\n",
       "        vertical-align: top;\n",
       "    }\n",
       "\n",
       "    .dataframe thead th {\n",
       "        text-align: right;\n",
       "    }\n",
       "</style>\n",
       "<table border=\"1\" class=\"dataframe\">\n",
       "  <thead>\n",
       "    <tr style=\"text-align: right;\">\n",
       "      <th></th>\n",
       "      <th>quoteID</th>\n",
       "      <th>quotation</th>\n",
       "      <th>speaker</th>\n",
       "      <th>qids</th>\n",
       "      <th>date</th>\n",
       "      <th>numOccurrences</th>\n",
       "      <th>probas</th>\n",
       "      <th>urls</th>\n",
       "      <th>phase</th>\n",
       "    </tr>\n",
       "  </thead>\n",
       "  <tbody>\n",
       "    <tr>\n",
       "      <th>0</th>\n",
       "      <td>2020-02-12-097370</td>\n",
       "      <td>They are still working on the WHIP + (Wildfire...</td>\n",
       "      <td>None</td>\n",
       "      <td>[]</td>\n",
       "      <td>2020-02-12 18:56:50</td>\n",
       "      <td>1</td>\n",
       "      <td>[[None, 0.8057], [Ben Sasse, 0.1049], [Deb Fis...</td>\n",
       "      <td>[https://kticradio.com/agricultural/nebraska-s...</td>\n",
       "      <td>E</td>\n",
       "    </tr>\n",
       "    <tr>\n",
       "      <th>1</th>\n",
       "      <td>2020-02-06-111237</td>\n",
       "      <td>We are extremely delighted to be associated wi...</td>\n",
       "      <td>None</td>\n",
       "      <td>[]</td>\n",
       "      <td>2020-02-06 21:01:00</td>\n",
       "      <td>1</td>\n",
       "      <td>[[None, 0.8583], [Johnnie Walker, 0.0898], [Gr...</td>\n",
       "      <td>[https://www.businessdailyafrica.com/lifestyle...</td>\n",
       "      <td>E</td>\n",
       "    </tr>\n",
       "    <tr>\n",
       "      <th>2</th>\n",
       "      <td>2020-04-11-001156</td>\n",
       "      <td>All we're asking is for the mayor to assure us...</td>\n",
       "      <td>None</td>\n",
       "      <td>[]</td>\n",
       "      <td>2020-04-11 04:19:36</td>\n",
       "      <td>1</td>\n",
       "      <td>[[None, 0.9233], [Governor Eric Holcomb, 0.0767]]</td>\n",
       "      <td>[http://wave3.com/2020/04/10/police-record-lic...</td>\n",
       "      <td>E</td>\n",
       "    </tr>\n",
       "    <tr>\n",
       "      <th>3</th>\n",
       "      <td>2020-02-13-047936</td>\n",
       "      <td>In eight months as Secretary of State, Julian ...</td>\n",
       "      <td>Leo Varadkar</td>\n",
       "      <td>[Q1728820]</td>\n",
       "      <td>2020-02-13 21:43:13</td>\n",
       "      <td>3</td>\n",
       "      <td>[[Leo Varadkar, 0.8722], [None, 0.1096], [Arle...</td>\n",
       "      <td>[https://inews.co.uk/news/politics/cabinet-res...</td>\n",
       "      <td>E</td>\n",
       "    </tr>\n",
       "    <tr>\n",
       "      <th>4</th>\n",
       "      <td>2020-02-12-067253</td>\n",
       "      <td>Now with Storm Ciara winds were a little stron...</td>\n",
       "      <td>Dennis the Menace</td>\n",
       "      <td>[Q201608]</td>\n",
       "      <td>2020-02-12 08:28:00</td>\n",
       "      <td>1</td>\n",
       "      <td>[[Dennis the Menace, 0.4044], [None, 0.3629], ...</td>\n",
       "      <td>[http://express.co.uk/news/weather/1241128/sto...</td>\n",
       "      <td>E</td>\n",
       "    </tr>\n",
       "  </tbody>\n",
       "</table>\n",
       "</div>"
      ],
      "text/plain": [
       "             quoteID                                          quotation  \\\n",
       "0  2020-02-12-097370  They are still working on the WHIP + (Wildfire...   \n",
       "1  2020-02-06-111237  We are extremely delighted to be associated wi...   \n",
       "2  2020-04-11-001156  All we're asking is for the mayor to assure us...   \n",
       "3  2020-02-13-047936  In eight months as Secretary of State, Julian ...   \n",
       "4  2020-02-12-067253  Now with Storm Ciara winds were a little stron...   \n",
       "\n",
       "             speaker        qids                date  numOccurrences  \\\n",
       "0               None          [] 2020-02-12 18:56:50               1   \n",
       "1               None          [] 2020-02-06 21:01:00               1   \n",
       "2               None          [] 2020-04-11 04:19:36               1   \n",
       "3       Leo Varadkar  [Q1728820] 2020-02-13 21:43:13               3   \n",
       "4  Dennis the Menace   [Q201608] 2020-02-12 08:28:00               1   \n",
       "\n",
       "                                              probas  \\\n",
       "0  [[None, 0.8057], [Ben Sasse, 0.1049], [Deb Fis...   \n",
       "1  [[None, 0.8583], [Johnnie Walker, 0.0898], [Gr...   \n",
       "2  [[None, 0.9233], [Governor Eric Holcomb, 0.0767]]   \n",
       "3  [[Leo Varadkar, 0.8722], [None, 0.1096], [Arle...   \n",
       "4  [[Dennis the Menace, 0.4044], [None, 0.3629], ...   \n",
       "\n",
       "                                                urls phase  \n",
       "0  [https://kticradio.com/agricultural/nebraska-s...     E  \n",
       "1  [https://www.businessdailyafrica.com/lifestyle...     E  \n",
       "2  [http://wave3.com/2020/04/10/police-record-lic...     E  \n",
       "3  [https://inews.co.uk/news/politics/cabinet-res...     E  \n",
       "4  [http://express.co.uk/news/weather/1241128/sto...     E  "
      ]
     },
     "execution_count": 4,
     "metadata": {},
     "output_type": "execute_result"
    }
   ],
   "source": [
    "df_quotes.head()"
   ]
  },
  {
   "cell_type": "code",
   "execution_count": 5,
   "metadata": {},
   "outputs": [
    {
     "data": {
      "text/plain": [
       "0                                                                                                            They are still working on the WHIP + (Wildfire, Hurricane, and Indemnity Program Plus) funding,\n",
       "1    We are extremely delighted to be associated with both Greg Snow and Dismas Indiza. Their continued professionalism and excellence on the course speak to their continued determination to be the bes...\n",
       "2    All we're asking is for the mayor to assure us that we are permitted, that On Fire Christian Church, is permitted to hold its lawful drive-in church service on Easter Sunday as it has done for man...\n",
       "3    In eight months as Secretary of State, Julian you helped to restore power-sharing in Stormont, secured an agreement with us to avoid a hard border, plus marriage equality. You are one of Britain's...\n",
       "4                                                                                                                                    Now with Storm Ciara winds were a little strong for that fairly widely.\n",
       "Name: quotation, dtype: object"
      ]
     },
     "execution_count": 5,
     "metadata": {},
     "output_type": "execute_result"
    }
   ],
   "source": [
    "pd.options.display.max_colwidth = 200\n",
    "df_quotes.head().quotation\n",
    "# Lots of irrelevant quotes! -> DISCUSS"
   ]
  },
  {
   "cell_type": "code",
   "execution_count": 6,
   "metadata": {},
   "outputs": [
    {
     "name": "stdout",
     "output_type": "stream",
     "text": [
      "quoteID                   object\n",
      "quotation                 object\n",
      "speaker                   object\n",
      "qids                      object\n",
      "date              datetime64[ns]\n",
      "numOccurrences             int64\n",
      "probas                    object\n",
      "urls                      object\n",
      "phase                     object\n",
      "dtype: object\n"
     ]
    }
   ],
   "source": [
    "print(df_quotes.dtypes)"
   ]
  },
  {
   "cell_type": "code",
   "execution_count": 20,
   "metadata": {},
   "outputs": [
    {
     "data": {
      "text/plain": [
       "Text(0, 0.5, 'Frequency')"
      ]
     },
     "execution_count": 20,
     "metadata": {},
     "output_type": "execute_result"
    },
    {
     "data": {
      "image/png": "[encoded data removed]",
      "text/plain": [
       "<Figure size 432x288 with 1 Axes>"
      ]
     },
     "metadata": {
      "needs_background": "light"
     },
     "output_type": "display_data"
    }
   ],
   "source": [
    "# Frequency histogram of the quotes w.r.t. dates\n",
    "# add column with ones to groupby and count number of quotes in a month (for example)\n",
    "df_quotes['count'] = 1\n",
    "\n",
    "df_tmp = df_quotes.groupby(pd.Grouper(key='date', axis=0, freq='M')).sum()\n",
    "# TODO: make pretty :)\n",
    "df_tmp['count'].plot(kind='bar')\n",
    "plt.title(\"Quote frequency\")\n",
    "plt.xlabel(\"Date\")\n",
    "plt.ylabel(\"Frequency\")"
   ]
  },
  {
   "cell_type": "code",
   "execution_count": 8,
   "metadata": {},
   "outputs": [
    {
     "name": "stdout",
     "output_type": "stream",
     "text": [
      "fema_declaration_string       object\n",
      "disaster_number                int64\n",
      "state                         object\n",
      "declaration_type              object\n",
      "declaration_date              object\n",
      "fy_declared                    int64\n",
      "incident_type                 object\n",
      "declaration_title             object\n",
      "ih_program_declared            int64\n",
      "ia_program_declared            int64\n",
      "pa_program_declared            int64\n",
      "hm_program_declared            int64\n",
      "incident_begin_date           object\n",
      "incident_end_date             object\n",
      "disaster_closeout_date        object\n",
      "fips                           int64\n",
      "place_code                     int64\n",
      "designated_area               object\n",
      "declaration_request_number     int64\n",
      "hash                          object\n",
      "last_refresh                  object\n",
      "id                            object\n",
      "dtype: object\n"
     ]
    }
   ],
   "source": [
    "# Import additional data\n",
    "\n",
    "# Dataset: download at https://www.kaggle.com/headsortails/us-natural-disaster-declarations\n",
    "# nd = natural disaters\n",
    "nd_frame = pd.read_csv('data/us_disaster_declarations.csv')\n",
    "print(nd_frame.dtypes)"
   ]
  },
  {
   "cell_type": "code",
   "execution_count": 9,
   "metadata": {},
   "outputs": [
    {
     "data": {
      "text/plain": [
       "Text(0, 0.5, 'Frequency')"
      ]
     },
     "execution_count": 9,
     "metadata": {},
     "output_type": "execute_result"
    },
    {
     "data": {
      "image/png": "[encoded data removed]",
      "text/plain": [
       "<Figure size 432x288 with 1 Axes>"
      ]
     },
     "metadata": {
      "needs_background": "light"
     },
     "output_type": "display_data"
    }
   ],
   "source": [
    "# Natural disasters per year\n",
    "nd_frame['fy_declared'].hist(bins=100)\n",
    "plt.title(\"Number of natural disasters per year\")\n",
    "plt.xlabel(\"Year\")\n",
    "plt.ylabel(\"Frequency\")\n",
    "\n",
    "# 2020 because of Covid-19 ? -> TODO: remove rows after April 2020 (don't have quotes for it) \n",
    "# Remove \"Biological\" disasters ????"
   ]
  },
  {
   "cell_type": "code",
   "execution_count": 10,
   "metadata": {},
   "outputs": [
    {
     "name": "stdout",
     "output_type": "stream",
     "text": [
      "      fema_declaration_string  disaster_number state declaration_type  \\\n",
      "44317              DR-4197-NM             4197    NM               DR   \n",
      "44318              DR-4197-NM             4197    NM               DR   \n",
      "44319              DR-4197-NM             4197    NM               DR   \n",
      "44320              DR-4197-NM             4197    NM               DR   \n",
      "44321              DR-4197-NM             4197    NM               DR   \n",
      "\n",
      "           declaration_date  fy_declared    incident_type  \n",
      "44317  2014-10-06T19:20:00Z         2015  Severe Storm(s)  \n",
      "44318  2014-10-06T19:20:00Z         2015  Severe Storm(s)  \n",
      "44319  2014-10-06T19:20:00Z         2015  Severe Storm(s)  \n",
      "44320  2014-10-06T19:20:00Z         2015  Severe Storm(s)  \n",
      "44321  2014-10-06T19:20:00Z         2015  Severe Storm(s)  \n"
     ]
    }
   ],
   "source": [
    "# get data rows from 2015 to 2020 and drop irrelevant rows\n",
    "nd_frame.drop(nd_frame[nd_frame['fy_declared'] < 2015].index, inplace = True)\n",
    "nd_frame.drop(nd_frame[nd_frame['fy_declared'] > 2020].index, inplace = True)\n",
    "\n",
    "nd_frame.drop(nd_frame[nd_frame.incident_type == \"Other\"].index, inplace = True)\n",
    "print(nd_frame.head().iloc[:, :7])"
   ]
  },
  {
   "cell_type": "code",
   "execution_count": 11,
   "metadata": {},
   "outputs": [
    {
     "name": "stdout",
     "output_type": "stream",
     "text": [
      "['Severe Storm(s)' 'Fire' 'Volcano' 'Flood' 'Snow' 'Tornado'\n",
      " 'Severe Ice Storm' 'Typhoon' 'Coastal Storm' 'Toxic Substances'\n",
      " 'Hurricane' 'Mud/Landslide' 'Dam/Levee Break' 'Earthquake' 'Biological']\n"
     ]
    }
   ],
   "source": [
    "# Not all are \"natural\" disasters\n",
    "nd_types = nd_frame.incident_type.unique()\n",
    "print(nd_types)"
   ]
  },
  {
   "cell_type": "code",
   "execution_count": 12,
   "metadata": {},
   "outputs": [
    {
     "name": "stdout",
     "output_type": "stream",
     "text": [
      "Number of natural disasters from 2015 to 2020: 16068\n"
     ]
    }
   ],
   "source": [
    "# CAN DO MORE BASIC STATISTICS \n",
    "print(f\"Number of natural disasters from 2015 to 2020: %d\" % len(nd_frame.index))"
   ]
  },
  {
   "cell_type": "code",
   "execution_count": 13,
   "metadata": {},
   "outputs": [],
   "source": [
    "#TODO: Data handling and analysis -> ADD SOME EXPLANATIONS FOR GRAPHS\n",
    "#print(nd_frame['incident_type'].value_counts())"
   ]
  },
  {
   "cell_type": "code",
   "execution_count": 14,
   "metadata": {},
   "outputs": [
    {
     "data": {
      "text/plain": [
       "<AxesSubplot:title={'center':'Occurence of disasters'}>"
      ]
     },
     "execution_count": 14,
     "metadata": {},
     "output_type": "execute_result"
    },
    {
     "data": {
      "image/png": "[encoded data removed]",
      "text/plain": [
       "<Figure size 720x360 with 1 Axes>"
      ]
     },
     "metadata": {
      "needs_background": "light"
     },
     "output_type": "display_data"
    }
   ],
   "source": [
    "# Occurence of different disasters\n",
    "nd_frame['incident_type'].value_counts().plot(kind='bar', figsize=(10, 5), title=\"Occurence of disasters\")"
   ]
  },
  {
   "cell_type": "code",
   "execution_count": 15,
   "metadata": {},
   "outputs": [
    {
     "data": {
      "image/png": "[encoded data removed]",
      "text/plain": [
       "<Figure size 576x432 with 15 Axes>"
      ]
     },
     "metadata": {
      "needs_background": "light"
     },
     "output_type": "display_data"
    }
   ],
   "source": [
    "# \"Ground truth\" plots\n",
    "\n",
    "stats_by_type = nd_frame.groupby('incident_type').apply(lambda x: pd.Series({\n",
    "        'fy_declared': x['fy_declared'].values\n",
    "    }))\n",
    "\n",
    "fig, ax = plt.subplots(4, 4, figsize=(8,6), sharey=False, sharex=False)\n",
    "\n",
    "for i in range(15):\n",
    "    sbplt = ax[i%4, math.floor(i/4)]\n",
    "    sbplt.hist(stats_by_type.iloc[i].values, range=[2015,2020], bins = 20)\n",
    "    sbplt.set_title(stats_by_type.index[i])\n",
    "    \n",
    "fig.tight_layout()\n",
    "\n",
    "fig.text(0.5,0, \"Year\")\n",
    "fig.text(0,0.45, \"Frequency\", rotation = 90)\n",
    "fig.delaxes(ax[3][3])\n",
    "\n",
    "# !!!!!! y-axis not the same (intended)\n",
    "# CHECK WEIRD VALUES (EARTHQUAKES.....)"
   ]
  },
  {
   "cell_type": "code",
   "execution_count": 16,
   "metadata": {},
   "outputs": [],
   "source": [
    "# Separate quotes in different dataframes with respect to the type of disaster\n",
    "\n",
    "#['Severe Storm(s)', 'Fire', 'Volcano', 'Flood', 'Tornado',\n",
    "# 'Severe Ice Storm', 'Typhoon', 'Coastal Storm' ,\n",
    "# 'Hurricane', 'Landslide', 'Dam/Levee Break', 'Earthquake']\n",
    "\n",
    "# DON'T FORGET LOWERCASE (+ add relevant words for the different dataframes for completness -> when dataset is finalized)\n",
    "# DISCUSS THAT SOME INCIDENT ARE REFERENCED BY THEIR NAMES SO NOT ALL RELEVANT QUOTES CAN BE EXTRACTED\n",
    "df_hurricane = df_quotes[df_quotes['quotation'].str.contains('Hurricane')]\n",
    "df_typhoon = df_quotes[df_quotes['quotation'].str.contains('Typhoon')]\n",
    "df_tornado = df_quotes[df_quotes['quotation'].str.contains('Tornado')]\n",
    "df_flood = df_quotes[df_quotes['quotation'].str.contains('Flood')]\n",
    "# can be more precise, need to explore further\n",
    "df_storm = df_quotes[df_quotes['quotation'].str.contains('Storm')]\n",
    "df_volcano = df_quotes[df_quotes['quotation'].str.contains('Volcano')]\n",
    "# !!! Fire pretty general term -> discuss that there are a lot of irrelevant quotes\n",
    "df_fire = df_quotes[df_quotes['quotation'].str.contains('Fire')]\n",
    "df_landslide = df_quotes[df_quotes['quotation'].str.contains('Landslide')]\n",
    "df_earthquake = df_quotes[df_quotes['quotation'].str.contains('Earthquake')]\n",
    "\n",
    "df_dam = df_quotes[df_quotes['quotation'].str.contains('Dam')]"
   ]
  },
  {
   "cell_type": "code",
   "execution_count": 17,
   "metadata": {},
   "outputs": [
    {
     "data": {
      "text/plain": [
       "0                                                                                                             They are still working on the WHIP + (Wildfire, Hurricane, and Indemnity Program Plus) funding,\n",
       "5     They have filed charges trying to prosecute a company and its employees for the Act of God that was Hurricane Harvey. This is a political prosecution in search of a theory, and Harris County taxpa...\n",
       "33                                                                            Hurricane Sandy when there was no electricity, that was probably the last time where we had to close down for a couple of days,\n",
       "45    We're about 25 minutes southeast of San Juan. We reopened five months after Hurricane Maria. When our first guests arrived at the property after it reopened, they said it wasn't the same hotel tha...\n",
       "57                                                                                    We are confident James will be able to get back on the field for the Hurricanes in the latter stages of the tournament,\n",
       "Name: quotation, dtype: object"
      ]
     },
     "execution_count": 17,
     "metadata": {},
     "output_type": "execute_result"
    }
   ],
   "source": [
    "df_hurricane.head().quotation"
   ]
  },
  {
   "cell_type": "code",
   "execution_count": 18,
   "metadata": {},
   "outputs": [
    {
     "name": "stdout",
     "output_type": "stream",
     "text": [
      "Number of quotes for Hurricanes: 26657\n",
      "Number of quotes for Typhoons: 1403\n",
      "Number of quotes for Tornados: 1258\n",
      "Number of quotes for Floods: 5748\n",
      "Number of quotes for Storms: 23229\n",
      "Number of quotes for Volcanos: 878\n",
      "Number of quotes for Fires: 57801\n",
      "Number of quotes for Landslides: 314\n",
      "Number of quotes for Earthquakes: 1416\n",
      "Number of quotes for Dam breaks: 338\n"
     ]
    }
   ],
   "source": [
    "# Basic statistics per incident type\n",
    "print(f\"Number of quotes for Hurricanes: %d\" % len(df_hurricane.index))\n",
    "print(f\"Number of quotes for Typhoons: %d\" % len(df_typhoon.index))\n",
    "print(f\"Number of quotes for Tornados: %d\" % len(df_tornado.index))\n",
    "print(f\"Number of quotes for Floods: %d\" % len(df_flood.index))\n",
    "print(f\"Number of quotes for Storms: %d\" % len(df_storm.index))\n",
    "print(f\"Number of quotes for Volcanos: %d\" % len(df_volcano.index))\n",
    "print(f\"Number of quotes for Fires: %d\" % len(df_fire.index))\n",
    "print(f\"Number of quotes for Landslides: %d\" % len(df_landslide.index))\n",
    "print(f\"Number of quotes for Earthquakes: %d\" % len(df_earthquake.index))\n",
    "print(f\"Number of quotes for Dam breaks: %d\" % len(df_dam.index))"
   ]
  },
  {
   "cell_type": "code",
   "execution_count": 22,
   "metadata": {},
   "outputs": [
    {
     "data": {
      "text/plain": [
       "Text(0, 0.5, 'Frequency')"
      ]
     },
     "execution_count": 22,
     "metadata": {},
     "output_type": "execute_result"
    },
    {
     "data": {
      "image/png": "[encoded data removed]",
      "text/plain": [
       "<Figure size 432x288 with 1 Axes>"
      ]
     },
     "metadata": {
      "needs_background": "light"
     },
     "output_type": "display_data"
    }
   ],
   "source": [
    "# Plots w.r.t. dates\n",
    "\n",
    "# 'M' means MONTHS, can group by other value\n",
    "df_hurr = df_hurricane.groupby(pd.Grouper(key='date', axis=0, freq='M')).sum()\n",
    "df_hurr['count'].plot(kind='bar')\n",
    "plt.title(\"Hurricane quote frequency\")\n",
    "plt.xlabel(\"Date\")\n",
    "plt.ylabel(\"Frequency\")\n",
    "# Need to see correlation with ground truth\n",
    "\n",
    "# TODO: other plots for incident types + make pretty (maybe not bar plot), BUT NEED UPGRADED QUOTE DATASET ..."
   ]
  },
  {
   "cell_type": "code",
   "execution_count": null,
   "metadata": {},
   "outputs": [],
   "source": []
  }
 ],
 "metadata": {
  "kernelspec": {
   "display_name": "Python 3",
   "language": "python",
   "name": "python3"
  },
  "language_info": {
   "codemirror_mode": {
    "name": "ipython",
    "version": 3
   },
   "file_extension": ".py",
   "mimetype": "text/x-python",
   "name": "python",
   "nbconvert_exporter": "python",
   "pygments_lexer": "ipython3",
   "version": "3.8.5"
  }
 },
 "nbformat": 4,
 "nbformat_minor": 4
}
